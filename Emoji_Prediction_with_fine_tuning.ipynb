{
  "nbformat": 4,
  "nbformat_minor": 0,
  "metadata": {
    "colab": {
      "name": "Emoji Prediction.ipynb",
      "provenance": [],
      "machine_shape": "hm"
    },
    "kernelspec": {
      "name": "python3",
      "display_name": "Python 3"
    },
    "accelerator": "GPU"
  },
  "cells": [
    {
      "cell_type": "code",
      "metadata": {
        "id": "5sMrN3EeEJfX",
        "colab_type": "code",
        "colab": {}
      },
      "source": [
        "from google.colab import drive\n",
        "drive.mount('/content/drive')"
      ],
      "execution_count": 0,
      "outputs": []
    },
    {
      "cell_type": "code",
      "metadata": {
        "id": "SJRky0N12SXk",
        "colab_type": "code",
        "outputId": "7f7cc627-4baf-40f5-f52e-6abb9d32b6ff",
        "colab": {
          "base_uri": "https://localhost:8080/",
          "height": 139
        }
      },
      "source": [
        "!pip install bert-tensorflow"
      ],
      "execution_count": 0,
      "outputs": [
        {
          "output_type": "stream",
          "text": [
            "Collecting bert-tensorflow\n",
            "\u001b[?25l  Downloading https://files.pythonhosted.org/packages/a6/66/7eb4e8b6ea35b7cc54c322c816f976167a43019750279a8473d355800a93/bert_tensorflow-1.0.1-py2.py3-none-any.whl (67kB)\n",
            "\r\u001b[K     |████▉                           | 10kB 21.7MB/s eta 0:00:01\r\u001b[K     |█████████▊                      | 20kB 1.5MB/s eta 0:00:01\r\u001b[K     |██████████████▋                 | 30kB 1.8MB/s eta 0:00:01\r\u001b[K     |███████████████████▍            | 40kB 1.6MB/s eta 0:00:01\r\u001b[K     |████████████████████████▎       | 51kB 1.8MB/s eta 0:00:01\r\u001b[K     |█████████████████████████████▏  | 61kB 2.1MB/s eta 0:00:01\r\u001b[K     |████████████████████████████████| 71kB 1.9MB/s \n",
            "\u001b[?25hRequirement already satisfied: six in /usr/local/lib/python3.6/dist-packages (from bert-tensorflow) (1.12.0)\n",
            "Installing collected packages: bert-tensorflow\n",
            "Successfully installed bert-tensorflow-1.0.1\n"
          ],
          "name": "stdout"
        }
      ]
    },
    {
      "cell_type": "code",
      "metadata": {
        "id": "DKft68smKlkB",
        "colab_type": "code",
        "colab": {}
      },
      "source": [
        "%tensorflow_version 1.x\n",
        "from sklearn.model_selection import train_test_split\n",
        "import numpy as np\n",
        "import pandas as pd\n",
        "import re\n",
        "import nltk\n",
        "import tensorflow as tf\n",
        "import tensorflow_hub as hub\n",
        "from datetime import datetime"
      ],
      "execution_count": 0,
      "outputs": []
    },
    {
      "cell_type": "code",
      "metadata": {
        "id": "US_EAnICvP7f",
        "colab_type": "code",
        "outputId": "2e58c4e0-8301-4e2c-a358-55b81de816a2",
        "cellView": "form",
        "colab": {
          "base_uri": "https://localhost:8080/",
          "height": 35
        }
      },
      "source": [
        "# Set the output directory for saving model file\n",
        "# Optionally, set a GCP bucket location\n",
        "\n",
        "OUTPUT_DIR = 'OUTPUT_DIR_NAME'#@param {type:\"string\"}\n",
        "#@markdown Whether or not to clear/delete the directory and create a new one\n",
        "DO_DELETE = True #@param {type:\"boolean\"}\n",
        "#@markdown Set USE_BUCKET and BUCKET if you want to (optionally) store model output on GCP bucket.\n",
        "USE_BUCKET = False #@param {type:\"boolean\"}\n",
        "BUCKET = 'BUCKET_NAME' #@param {type:\"string\"}\n",
        "\n",
        "if USE_BUCKET:\n",
        "  OUTPUT_DIR = 'gs://{}/{}'.format(BUCKET, OUTPUT_DIR)\n",
        "  from google.colab import auth\n",
        "  auth.authenticate_user()\n",
        "\n",
        "if DO_DELETE:\n",
        "  try:\n",
        "    tf.gfile.DeleteRecursively(OUTPUT_DIR)\n",
        "  except:\n",
        "    # Doesn't matter if the directory didn't exist\n",
        "    pass\n",
        "tf.gfile.MakeDirs(OUTPUT_DIR)\n",
        "print('***** Model output directory: {} *****'.format(OUTPUT_DIR))\n"
      ],
      "execution_count": 0,
      "outputs": [
        {
          "output_type": "stream",
          "text": [
            "***** Model output directory: OUTPUT_DIR_NAME *****\n"
          ],
          "name": "stdout"
        }
      ]
    },
    {
      "cell_type": "code",
      "metadata": {
        "colab_type": "code",
        "id": "-5DJquR2Kh0d",
        "colab": {}
      },
      "source": [
        "import bert\n",
        "from bert import run_classifier\n",
        "from bert import optimization\n",
        "from bert import tokenization"
      ],
      "execution_count": 0,
      "outputs": []
    },
    {
      "cell_type": "code",
      "metadata": {
        "id": "JorTwcgrK9o7",
        "colab_type": "code",
        "colab": {}
      },
      "source": [
        "#Importing datasets#\n",
        "#Train set\n",
        "file1 = open(\"/content/drive/My Drive/Emoji_prediction/us_train.text\", \"r+\", encoding=\"utf-8\")\n",
        "train_text = file1.readlines()\n",
        "file2 = open(\"/content/drive/My Drive/Emoji_prediction/us_train.labels\", \"r+\", encoding=\"utf-8\")\n",
        "train_labels = file2.readlines()\n",
        "#Development set\n",
        "file3 = open(\"/content/drive/My Drive/Emoji_prediction/us_dev.text\", \"r+\", encoding=\"utf-8\")\n",
        "dev_text = file3.readlines()\n",
        "file4 = open(\"/content/drive/My Drive/Emoji_prediction/us_dev.labels\", \"r+\", encoding=\"utf-8\")\n",
        "dev_labels = file4.readlines()\n",
        "#Test set\n",
        "file5 = open(\"/content/drive/My Drive/Emoji_prediction/us_test.text\", \"r+\", encoding=\"utf-8\")\n",
        "test_text = file5.readlines()\n",
        "file6 = open(\"/content/drive/My Drive/Emoji_prediction/us_test.labels\", \"r+\", encoding=\"utf-8\")\n",
        "test_labels = file6.readlines()"
      ],
      "execution_count": 0,
      "outputs": []
    },
    {
      "cell_type": "markdown",
      "metadata": {
        "id": "nb7sMbYMiTul",
        "colab_type": "text"
      },
      "source": [
        "**Data Preprocessing**"
      ]
    },
    {
      "cell_type": "code",
      "metadata": {
        "id": "2QfZBCG_LFsw",
        "colab_type": "code",
        "outputId": "4df3c14b-e7bd-4d20-8cde-71e3f18799f1",
        "colab": {
          "base_uri": "https://localhost:8080/",
          "height": 85
        }
      },
      "source": [
        "#Initalizing lemmatizer and creating a list of stopwords\n",
        "lemmatizer = nltk.stem.WordNetLemmatizer()\n",
        "nltk.download('stopwords')\n",
        "nltk.download('wordnet')\n",
        "stopwords = set(nltk.corpus.stopwords.words(\"english\"))\n",
        "\n",
        "#Cleans reviews, removes stopwords and lemmatize to put the reviews in a form that machine can perform better\n",
        "def clean_reviews(string):\n",
        "    lemmatized_string = \"\"\n",
        "    #Remove HTML information from the string\n",
        "    cleaner = re.compile('<.*?>')\n",
        "    processed_string = re.sub(cleaner,\" \", string) \n",
        "    \n",
        "    #Remove URLS from the string\n",
        "    processed_string = re.compile(r\"https?://[A-Za-z0-9./]+\").sub(\" \", processed_string)\n",
        "    \n",
        "    #Remove digits and punctuations\n",
        "    processed_string = re.compile(r\"[^a-zA-Z ]\").sub(\" \", processed_string)\n",
        "    \n",
        "    #Lowercase all the words\n",
        "    processed_string = processed_string.lower()\n",
        "    \n",
        "    #Does not append stopwords but appends other strings while lemmatizing them\n",
        "    for word in processed_string.split():\n",
        "        if word in stopwords:\n",
        "            continue\n",
        "        else:\n",
        "            lemmatized_string += lemmatizer.lemmatize(word) + \" \"\n",
        "    return lemmatized_string"
      ],
      "execution_count": 0,
      "outputs": [
        {
          "output_type": "stream",
          "text": [
            "[nltk_data] Downloading package stopwords to /root/nltk_data...\n",
            "[nltk_data]   Package stopwords is already up-to-date!\n",
            "[nltk_data] Downloading package wordnet to /root/nltk_data...\n",
            "[nltk_data]   Package wordnet is already up-to-date!\n"
          ],
          "name": "stdout"
        }
      ]
    },
    {
      "cell_type": "code",
      "metadata": {
        "id": "ST69rA3Ng8GZ",
        "colab_type": "code",
        "colab": {}
      },
      "source": [
        "#Train, Dev, Test sets of after data preprocessing#\n",
        "train_processed_text = []\n",
        "train_processed_labels = []\n",
        "dev_processed_text = []\n",
        "dev_processed_labels = []\n",
        "test_processed_text = []\n",
        "test_processed_labels = []\n",
        "\n",
        "\n",
        "for i in train_text:\n",
        "  train_processed_text.append(clean_reviews(i))\n",
        "for i in dev_text:\n",
        "  dev_processed_text.append(clean_reviews(i))\n",
        "for i in test_text:\n",
        "  test_processed_text.append(clean_reviews(i))\n",
        "for i in train_labels:\n",
        "   train_processed_labels.append(i.replace(\"\\n\", \"\"))\n",
        "for i in dev_labels:\n",
        "   dev_processed_labels.append(i.replace(\"\\n\", \"\"))\n",
        "for i in test_labels:\n",
        "   test_processed_labels.append(i.replace(\"\\n\", \"\"))"
      ],
      "execution_count": 0,
      "outputs": []
    },
    {
      "cell_type": "code",
      "metadata": {
        "id": "lelqGRRZLUaD",
        "colab_type": "code",
        "colab": {}
      },
      "source": [
        "train_data = pd.DataFrame({'sentence': train_processed_text,'label': train_processed_labels})\n",
        "dev_data = pd.DataFrame({'sentence': dev_processed_text, 'label': dev_processed_labels})\n",
        "test_data = pd.DataFrame({'sentence': test_processed_text, 'label': test_processed_labels})"
      ],
      "execution_count": 0,
      "outputs": []
    },
    {
      "cell_type": "code",
      "metadata": {
        "id": "5awZUmk3hsDK",
        "colab_type": "code",
        "colab": {}
      },
      "source": [
        "DATA_COLUMN = 'sentence'\n",
        "LABEL_COLUMN = 'label'\n",
        "label_list = ['0', '1', '2','3', '4', '5', '6', '7', '8', '9', '10', '11', '12', '13', '14', '15', '16', '17', '18', '19']"
      ],
      "execution_count": 0,
      "outputs": []
    },
    {
      "cell_type": "code",
      "metadata": {
        "id": "WG7Nz811_eHF",
        "colab_type": "code",
        "outputId": "8615530b-7759-4707-cec5-2cac99d8114f",
        "colab": {
          "base_uri": "https://localhost:8080/",
          "height": 187
        }
      },
      "source": [
        "print(train_data[41:50])"
      ],
      "execution_count": 0,
      "outputs": [
        {
          "output_type": "stream",
          "text": [
            "                                             sentence label\n",
            "41        people work enjoying sunday watching first      0\n",
            "42  another big happy th birthday partner crime lo...     0\n",
            "43  day done thank u insta likers rollicking day f...     9\n",
            "44  snakeshred recording guitar new snakeskin reco...    19\n",
            "45  sister best friend hamessisters andlewisandclark     13\n",
            "46  absolute favorite place la jolla cove seal beach      3\n",
            "47  live awfully big adventure seattle spaceneedle...     8\n",
            "48  finally met snow white favorite little snowwhi...     0\n",
            "49  user loved coverage ti always need get sounder...    16\n"
          ],
          "name": "stdout"
        }
      ]
    },
    {
      "cell_type": "code",
      "metadata": {
        "id": "auWHY-suygeF",
        "colab_type": "code",
        "colab": {}
      },
      "source": [
        "tokenizer = create_tokenizer_from_hub_module()"
      ],
      "execution_count": 0,
      "outputs": []
    },
    {
      "cell_type": "code",
      "metadata": {
        "id": "z157IDy1Ll9H",
        "colab_type": "code",
        "colab": {}
      },
      "source": [
        "train_InputExamples = train_data.apply(lambda x: bert.run_classifier.InputExample(guid=None, # Globally unique ID for bookkeeping, unused in this example\n",
        "                                                                   text_a = x[DATA_COLUMN], \n",
        "                                                                   text_b = None, \n",
        "                                                                   label = x[LABEL_COLUMN].tokenization.convert_to_unicode()), axis = 1)\n",
        "\n",
        "dev_InputExamples = dev_data.apply(lambda x: bert.run_classifier.InputExample(guid=None, \n",
        "                                                                   text_a = x[DATA_COLUMN], \n",
        "                                                                   text_b = None, \n",
        "                                                                   label = x[LABEL_COLUMN]), axis = 1)                                                        \n",
        "\n",
        "test_InputExamples = test_data.apply(lambda x: bert.run_classifier.InputExample(guid=None, \n",
        "                                                                   text_a = x[DATA_COLUMN], \n",
        "                                                                   text_b = None, \n",
        "                                                                   label = x[LABEL_COLUMN]), axis = 1)"
      ],
      "execution_count": 0,
      "outputs": []
    },
    {
      "cell_type": "code",
      "metadata": {
        "id": "Tryjad60izQh",
        "colab_type": "code",
        "outputId": "76e41aea-223a-470b-e198-0c8feb794787",
        "colab": {
          "base_uri": "https://localhost:8080/",
          "height": 125
        }
      },
      "source": [
        "BERT_MODEL_HUB = \"https://tfhub.dev/google/bert_uncased_L-12_H-768_A-12/1\"\n",
        "\n",
        "def create_tokenizer_from_hub_module():\n",
        "  \"\"\"Get the vocab file and casing info from the Hub module.\"\"\"\n",
        "  with tf.Graph().as_default():\n",
        "    bert_module = hub.Module(BERT_MODEL_HUB)\n",
        "    tokenization_info = bert_module(signature=\"tokenization_info\", as_dict=True)\n",
        "    with tf.Session() as sess:\n",
        "      vocab_file, do_lower_case = sess.run([tokenization_info[\"vocab_file\"],\n",
        "                                            tokenization_info[\"do_lower_case\"]])\n",
        "      \n",
        "  return bert.tokenization.FullTokenizer(\n",
        "      vocab_file=vocab_file, do_lower_case=do_lower_case)\n",
        "\n"
      ],
      "execution_count": 0,
      "outputs": [
        {
          "output_type": "stream",
          "text": [
            "INFO:tensorflow:Saver not created because there are no variables in the graph to restore\n"
          ],
          "name": "stdout"
        },
        {
          "output_type": "stream",
          "text": [
            "INFO:tensorflow:Saver not created because there are no variables in the graph to restore\n"
          ],
          "name": "stderr"
        },
        {
          "output_type": "stream",
          "text": [
            "WARNING:tensorflow:From /usr/local/lib/python3.6/dist-packages/bert/tokenization.py:125: The name tf.gfile.GFile is deprecated. Please use tf.io.gfile.GFile instead.\n",
            "\n"
          ],
          "name": "stdout"
        },
        {
          "output_type": "stream",
          "text": [
            "WARNING:tensorflow:From /usr/local/lib/python3.6/dist-packages/bert/tokenization.py:125: The name tf.gfile.GFile is deprecated. Please use tf.io.gfile.GFile instead.\n",
            "\n"
          ],
          "name": "stderr"
        }
      ]
    },
    {
      "cell_type": "code",
      "metadata": {
        "id": "Ncl5vW9P8usN",
        "colab_type": "code",
        "colab": {}
      },
      "source": [
        "# We'll set sequences to be at most 128 tokens long.\n",
        "MAX_SEQ_LENGTH = 128\n",
        "# Convert our train and test features to InputFeatures that BERT understands.\n",
        "train_features = bert.run_classifier.convert_examples_to_features(train_InputExamples, label_list, MAX_SEQ_LENGTH, tokenizer)\n",
        "dev_features = bert.run_classifier.convert_examples_to_features(dev_InputExamples, label_list, MAX_SEQ_LENGTH, tokenizer)\n",
        "test_features = bert.run_classifier.convert_examples_to_features(test_InputExamples, label_list, MAX_SEQ_LENGTH, tokenizer)"
      ],
      "execution_count": 0,
      "outputs": []
    },
    {
      "cell_type": "code",
      "metadata": {
        "id": "Vrd9kjnqUJkb",
        "colab_type": "code",
        "outputId": "1ce288d4-e407-4170-934a-6c5e4996e147",
        "colab": {
          "base_uri": "https://localhost:8080/",
          "height": 54
        }
      },
      "source": [
        "print(train_features[0:2000])"
      ],
      "execution_count": 0,
      "outputs": [
        {
          "output_type": "stream",
          "text": [
            "[<bert.run_classifier.InputFeatures object at 0x7ff463bdd710>, <bert.run_classifier.InputFeatures object at 0x7ff40456de10>, <bert.run_classifier.InputFeatures object at 0x7ff461574f98>, <bert.run_classifier.InputFeatures object at 0x7ff461574e10>, <bert.run_classifier.InputFeatures object at 0x7ff474074a20>, <bert.run_classifier.InputFeatures object at 0x7ff47c98ef60>, <bert.run_classifier.InputFeatures object at 0x7ff463bddb38>, <bert.run_classifier.InputFeatures object at 0x7ff40456deb8>, <bert.run_classifier.InputFeatures object at 0x7ff463bddfd0>, <bert.run_classifier.InputFeatures object at 0x7ff463bdda20>, <bert.run_classifier.InputFeatures object at 0x7ff40456dfd0>, <bert.run_classifier.InputFeatures object at 0x7ff40456d5f8>, <bert.run_classifier.InputFeatures object at 0x7ff40456df60>, <bert.run_classifier.InputFeatures object at 0x7ff40456dd30>, <bert.run_classifier.InputFeatures object at 0x7ff40456dda0>, <bert.run_classifier.InputFeatures object at 0x7ff462eaf2e8>, <bert.run_classifier.InputFeatures object at 0x7ff462eaf390>, <bert.run_classifier.InputFeatures object at 0x7ff40456de48>, <bert.run_classifier.InputFeatures object at 0x7ff40456ddd8>, <bert.run_classifier.InputFeatures object at 0x7ff40456def0>, <bert.run_classifier.InputFeatures object at 0x7ff40456dd68>, <bert.run_classifier.InputFeatures object at 0x7ff469df7400>, <bert.run_classifier.InputFeatures object at 0x7ff469df7b00>, <bert.run_classifier.InputFeatures object at 0x7ff469df7438>, <bert.run_classifier.InputFeatures object at 0x7ff469df7898>, <bert.run_classifier.InputFeatures object at 0x7ff469df72e8>, <bert.run_classifier.InputFeatures object at 0x7ff469df77f0>, <bert.run_classifier.InputFeatures object at 0x7ff469df7320>, <bert.run_classifier.InputFeatures object at 0x7ff469df7470>, <bert.run_classifier.InputFeatures object at 0x7ff469df7550>, <bert.run_classifier.InputFeatures object at 0x7ff469df79b0>, <bert.run_classifier.InputFeatures object at 0x7ff469df7908>, <bert.run_classifier.InputFeatures object at 0x7ff469df7518>, <bert.run_classifier.InputFeatures object at 0x7ff469df7828>, <bert.run_classifier.InputFeatures object at 0x7ff469df7358>, <bert.run_classifier.InputFeatures object at 0x7ff469df7630>, <bert.run_classifier.InputFeatures object at 0x7ff469df7668>, <bert.run_classifier.InputFeatures object at 0x7ff469df7588>, <bert.run_classifier.InputFeatures object at 0x7ff469df77b8>, <bert.run_classifier.InputFeatures object at 0x7ff469df7860>, <bert.run_classifier.InputFeatures object at 0x7ff469df76d8>, <bert.run_classifier.InputFeatures object at 0x7ff469df7ac8>, <bert.run_classifier.InputFeatures object at 0x7ff469df78d0>, <bert.run_classifier.InputFeatures object at 0x7ff469df7390>, <bert.run_classifier.InputFeatures object at 0x7ff40456de80>, <bert.run_classifier.InputFeatures object at 0x7ff4045151d0>, <bert.run_classifier.InputFeatures object at 0x7ff404515470>, <bert.run_classifier.InputFeatures object at 0x7ff4045154a8>, <bert.run_classifier.InputFeatures object at 0x7ff4045154e0>, <bert.run_classifier.InputFeatures object at 0x7ff404515668>, <bert.run_classifier.InputFeatures object at 0x7ff404515278>, <bert.run_classifier.InputFeatures object at 0x7ff404515320>, <bert.run_classifier.InputFeatures object at 0x7ff404515080>, <bert.run_classifier.InputFeatures object at 0x7ff404515710>, <bert.run_classifier.InputFeatures object at 0x7ff404515828>, <bert.run_classifier.InputFeatures object at 0x7ff4045155c0>, <bert.run_classifier.InputFeatures object at 0x7ff404515438>, <bert.run_classifier.InputFeatures object at 0x7ff404515198>, <bert.run_classifier.InputFeatures object at 0x7ff4045156a0>, <bert.run_classifier.InputFeatures object at 0x7ff4045155f8>, <bert.run_classifier.InputFeatures object at 0x7ff404515048>, <bert.run_classifier.InputFeatures object at 0x7ff404515128>, <bert.run_classifier.InputFeatures object at 0x7ff404515358>, <bert.run_classifier.InputFeatures object at 0x7ff4045152e8>, <bert.run_classifier.InputFeatures object at 0x7ff404515550>, <bert.run_classifier.InputFeatures object at 0x7ff404515160>, <bert.run_classifier.InputFeatures object at 0x7ff404515898>, <bert.run_classifier.InputFeatures object at 0x7ff40456df98>, <bert.run_classifier.InputFeatures object at 0x7ff40456df28>, <bert.run_classifier.InputFeatures object at 0x7ff404515748>, <bert.run_classifier.InputFeatures object at 0x7ff4045158d0>, <bert.run_classifier.InputFeatures object at 0x7ff404515400>, <bert.run_classifier.InputFeatures object at 0x7ff4045159e8>, <bert.run_classifier.InputFeatures object at 0x7ff404515a90>, <bert.run_classifier.InputFeatures object at 0x7ff4045152b0>, <bert.run_classifier.InputFeatures object at 0x7ff404515780>, <bert.run_classifier.InputFeatures object at 0x7ff404515a20>, <bert.run_classifier.InputFeatures object at 0x7ff404515208>, <bert.run_classifier.InputFeatures object at 0x7ff404515390>, <bert.run_classifier.InputFeatures object at 0x7ff404515b38>, <bert.run_classifier.InputFeatures object at 0x7ff404515c18>, <bert.run_classifier.InputFeatures object at 0x7ff404515be0>, <bert.run_classifier.InputFeatures object at 0x7ff404515d30>, <bert.run_classifier.InputFeatures object at 0x7ff404515ba8>, <bert.run_classifier.InputFeatures object at 0x7ff4045150b8>, <bert.run_classifier.InputFeatures object at 0x7ff404515dd8>, <bert.run_classifier.InputFeatures object at 0x7ff404515b70>, <bert.run_classifier.InputFeatures object at 0x7ff404515cc0>, <bert.run_classifier.InputFeatures object at 0x7ff404515860>, <bert.run_classifier.InputFeatures object at 0x7ff404515a58>, <bert.run_classifier.InputFeatures object at 0x7ff404515588>, <bert.run_classifier.InputFeatures object at 0x7ff404515940>, <bert.run_classifier.InputFeatures object at 0x7ff404515e48>, <bert.run_classifier.InputFeatures object at 0x7ff404515ac8>, <bert.run_classifier.InputFeatures object at 0x7ff404515c88>, <bert.run_classifier.InputFeatures object at 0x7ff404515240>, <bert.run_classifier.InputFeatures object at 0x7ff404515908>, <bert.run_classifier.InputFeatures object at 0x7ff404515978>, <bert.run_classifier.InputFeatures object at 0x7ff404515eb8>, <bert.run_classifier.InputFeatures object at 0x7ff404515f28>, <bert.run_classifier.InputFeatures object at 0x7ff404515ef0>, <bert.run_classifier.InputFeatures object at 0x7ff404515b00>, <bert.run_classifier.InputFeatures object at 0x7ff404515f60>, <bert.run_classifier.InputFeatures object at 0x7ff404515fd0>, <bert.run_classifier.InputFeatures object at 0x7ff4045150f0>, <bert.run_classifier.InputFeatures object at 0x7ff404515518>, <bert.run_classifier.InputFeatures object at 0x7ff4045157f0>, <bert.run_classifier.InputFeatures object at 0x7ff404515630>, <bert.run_classifier.InputFeatures object at 0x7ff4045157b8>, <bert.run_classifier.InputFeatures object at 0x7ff404515e80>, <bert.run_classifier.InputFeatures object at 0x7ff404515cf8>, <bert.run_classifier.InputFeatures object at 0x7ff404515da0>, <bert.run_classifier.InputFeatures object at 0x7ff4045159b0>, <bert.run_classifier.InputFeatures object at 0x7ff404515d68>, <bert.run_classifier.InputFeatures object at 0x7ff404515e10>, <bert.run_classifier.InputFeatures object at 0x7ff404515f98>, <bert.run_classifier.InputFeatures object at 0x7ff4045153c8>, <bert.run_classifier.InputFeatures object at 0x7ff404515c50>, <bert.run_classifier.InputFeatures object at 0x7ff4045156d8>, <bert.run_classifier.InputFeatures object at 0x7ff40451f2e8>, <bert.run_classifier.InputFeatures object at 0x7ff40451f160>, <bert.run_classifier.InputFeatures object at 0x7ff40451f278>, <bert.run_classifier.InputFeatures object at 0x7ff40451f240>, <bert.run_classifier.InputFeatures object at 0x7ff40451f470>, <bert.run_classifier.InputFeatures object at 0x7ff40451f6a0>, <bert.run_classifier.InputFeatures object at 0x7ff40451f208>, <bert.run_classifier.InputFeatures object at 0x7ff40451f860>, <bert.run_classifier.InputFeatures object at 0x7ff40451f518>, <bert.run_classifier.InputFeatures object at 0x7ff40451f320>, <bert.run_classifier.InputFeatures object at 0x7ff40451f630>, <bert.run_classifier.InputFeatures object at 0x7ff40451f048>, <bert.run_classifier.InputFeatures object at 0x7ff40451f3c8>, <bert.run_classifier.InputFeatures object at 0x7ff40451f6d8>, <bert.run_classifier.InputFeatures object at 0x7ff40451f898>, <bert.run_classifier.InputFeatures object at 0x7ff40451f400>, <bert.run_classifier.InputFeatures object at 0x7ff40451f358>, <bert.run_classifier.InputFeatures object at 0x7ff40451f128>, <bert.run_classifier.InputFeatures object at 0x7ff40451f978>, <bert.run_classifier.InputFeatures object at 0x7ff40451f4a8>, <bert.run_classifier.InputFeatures object at 0x7ff40451f710>, <bert.run_classifier.InputFeatures object at 0x7ff40451f7f0>, <bert.run_classifier.InputFeatures object at 0x7ff40451f940>, <bert.run_classifier.InputFeatures object at 0x7ff40451f668>, <bert.run_classifier.InputFeatures object at 0x7ff40451f4e0>, <bert.run_classifier.InputFeatures object at 0x7ff40451f8d0>, <bert.run_classifier.InputFeatures object at 0x7ff40451f5c0>, <bert.run_classifier.InputFeatures object at 0x7ff40451f438>, <bert.run_classifier.InputFeatures object at 0x7ff40451f748>, <bert.run_classifier.InputFeatures object at 0x7ff40451fdd8>, <bert.run_classifier.InputFeatures object at 0x7ff40451fac8>, <bert.run_classifier.InputFeatures object at 0x7ff40451f0b8>, <bert.run_classifier.InputFeatures object at 0x7ff40451fa20>, <bert.run_classifier.InputFeatures object at 0x7ff40451fcc0>, <bert.run_classifier.InputFeatures object at 0x7ff40451f780>, <bert.run_classifier.InputFeatures object at 0x7ff40451fc88>, <bert.run_classifier.InputFeatures object at 0x7ff40451f908>, <bert.run_classifier.InputFeatures object at 0x7ff40451f1d0>, <bert.run_classifier.InputFeatures object at 0x7ff40451f080>, <bert.run_classifier.InputFeatures object at 0x7ff40451f550>, <bert.run_classifier.InputFeatures object at 0x7ff40451fda0>, <bert.run_classifier.InputFeatures object at 0x7ff40451ff28>, <bert.run_classifier.InputFeatures object at 0x7ff40451f5f8>, <bert.run_classifier.InputFeatures object at 0x7ff40451f588>, <bert.run_classifier.InputFeatures object at 0x7ff40451ff60>, <bert.run_classifier.InputFeatures object at 0x7ff40451fe10>, <bert.run_classifier.InputFeatures object at 0x7ff40451fa58>, <bert.run_classifier.InputFeatures object at 0x7ff40451fbe0>, <bert.run_classifier.InputFeatures object at 0x7ff40451ff98>, <bert.run_classifier.InputFeatures object at 0x7ff40451fd30>, <bert.run_classifier.InputFeatures object at 0x7ff40451fb70>, <bert.run_classifier.InputFeatures object at 0x7ff40451fb00>, <bert.run_classifier.InputFeatures object at 0x7ff40451fcf8>, <bert.run_classifier.InputFeatures object at 0x7ff40451f9e8>, <bert.run_classifier.InputFeatures object at 0x7ff40451f198>, <bert.run_classifier.InputFeatures object at 0x7ff40451fc18>, <bert.run_classifier.InputFeatures object at 0x7ff40451fe80>, <bert.run_classifier.InputFeatures object at 0x7ff40451ffd0>, <bert.run_classifier.InputFeatures object at 0x7ff40451f9b0>, <bert.run_classifier.InputFeatures object at 0x7ff40451f390>, <bert.run_classifier.InputFeatures object at 0x7ff40451fa90>, <bert.run_classifier.InputFeatures object at 0x7ff40451fef0>, <bert.run_classifier.InputFeatures object at 0x7ff40451fd68>, <bert.run_classifier.InputFeatures object at 0x7ff40451fb38>, <bert.run_classifier.InputFeatures object at 0x7ff40451feb8>, <bert.run_classifier.InputFeatures object at 0x7ff40451f828>, <bert.run_classifier.InputFeatures object at 0x7ff40451fba8>, <bert.run_classifier.InputFeatures object at 0x7ff40451f0f0>, <bert.run_classifier.InputFeatures object at 0x7ff40451fe48>, <bert.run_classifier.InputFeatures object at 0x7ff40451f7b8>, <bert.run_classifier.InputFeatures object at 0x7ff40451f2b0>, <bert.run_classifier.InputFeatures object at 0x7ff40451fc50>, <bert.run_classifier.InputFeatures object at 0x7ff4045212e8>, <bert.run_classifier.InputFeatures object at 0x7ff404521128>, <bert.run_classifier.InputFeatures object at 0x7ff404521470>, <bert.run_classifier.InputFeatures object at 0x7ff404521208>, <bert.run_classifier.InputFeatures object at 0x7ff404521358>, <bert.run_classifier.InputFeatures object at 0x7ff404521588>, <bert.run_classifier.InputFeatures object at 0x7ff4045212b0>, <bert.run_classifier.InputFeatures object at 0x7ff404521080>, <bert.run_classifier.InputFeatures object at 0x7ff4045215c0>, <bert.run_classifier.InputFeatures object at 0x7ff4045210f0>, <bert.run_classifier.InputFeatures object at 0x7ff404521630>, <bert.run_classifier.InputFeatures object at 0x7ff404521438>, <bert.run_classifier.InputFeatures object at 0x7ff404521048>, <bert.run_classifier.InputFeatures object at 0x7ff404521668>, <bert.run_classifier.InputFeatures object at 0x7ff4045219e8>, <bert.run_classifier.InputFeatures object at 0x7ff404521518>, <bert.run_classifier.InputFeatures object at 0x7ff4045211d0>, <bert.run_classifier.InputFeatures object at 0x7ff404521898>, <bert.run_classifier.InputFeatures object at 0x7ff404521ac8>, <bert.run_classifier.InputFeatures object at 0x7ff404521748>, <bert.run_classifier.InputFeatures object at 0x7ff404521278>, <bert.run_classifier.InputFeatures object at 0x7ff4045215f8>, <bert.run_classifier.InputFeatures object at 0x7ff4045210b8>, <bert.run_classifier.InputFeatures object at 0x7ff404521550>, <bert.run_classifier.InputFeatures object at 0x7ff4045217b8>, <bert.run_classifier.InputFeatures object at 0x7ff404521198>, <bert.run_classifier.InputFeatures object at 0x7ff4045213c8>, <bert.run_classifier.InputFeatures object at 0x7ff404521780>, <bert.run_classifier.InputFeatures object at 0x7ff4045214e0>, <bert.run_classifier.InputFeatures object at 0x7ff404521a90>, <bert.run_classifier.InputFeatures object at 0x7ff404521cc0>, <bert.run_classifier.InputFeatures object at 0x7ff404521908>, <bert.run_classifier.InputFeatures object at 0x7ff4045214a8>, <bert.run_classifier.InputFeatures object at 0x7ff404521b70>, <bert.run_classifier.InputFeatures object at 0x7ff404521cf8>, <bert.run_classifier.InputFeatures object at 0x7ff404521240>, <bert.run_classifier.InputFeatures object at 0x7ff404521a58>, <bert.run_classifier.InputFeatures object at 0x7ff404521be0>, <bert.run_classifier.InputFeatures object at 0x7ff404521860>, <bert.run_classifier.InputFeatures object at 0x7ff4045218d0>, <bert.run_classifier.InputFeatures object at 0x7ff404521c88>, <bert.run_classifier.InputFeatures object at 0x7ff404521fd0>, <bert.run_classifier.InputFeatures object at 0x7ff404521a20>, <bert.run_classifier.InputFeatures object at 0x7ff404521c18>, <bert.run_classifier.InputFeatures object at 0x7ff4045219b0>, <bert.run_classifier.InputFeatures object at 0x7ff404521390>, <bert.run_classifier.InputFeatures object at 0x7ff4045216d8>, <bert.run_classifier.InputFeatures object at 0x7ff404521e48>, <bert.run_classifier.InputFeatures object at 0x7ff404521f60>, <bert.run_classifier.InputFeatures object at 0x7ff404521b00>, <bert.run_classifier.InputFeatures object at 0x7ff404521dd8>, <bert.run_classifier.InputFeatures object at 0x7ff404521b38>, <bert.run_classifier.InputFeatures object at 0x7ff404521c50>, <bert.run_classifier.InputFeatures object at 0x7ff404521400>, <bert.run_classifier.InputFeatures object at 0x7ff404521e10>, <bert.run_classifier.InputFeatures object at 0x7ff404521e80>, <bert.run_classifier.InputFeatures object at 0x7ff404521eb8>, <bert.run_classifier.InputFeatures object at 0x7ff404521d68>, <bert.run_classifier.InputFeatures object at 0x7ff404521978>, <bert.run_classifier.InputFeatures object at 0x7ff404521160>, <bert.run_classifier.InputFeatures object at 0x7ff404521ba8>, <bert.run_classifier.InputFeatures object at 0x7ff404521da0>, <bert.run_classifier.InputFeatures object at 0x7ff4045217f0>, <bert.run_classifier.InputFeatures object at 0x7ff404521940>, <bert.run_classifier.InputFeatures object at 0x7ff4045216a0>, <bert.run_classifier.InputFeatures object at 0x7ff404521d30>, <bert.run_classifier.InputFeatures object at 0x7ff404521320>, <bert.run_classifier.InputFeatures object at 0x7ff404521828>, <bert.run_classifier.InputFeatures object at 0x7ff404521710>, <bert.run_classifier.InputFeatures object at 0x7ff404521f98>, <bert.run_classifier.InputFeatures object at 0x7ff404521ef0>, <bert.run_classifier.InputFeatures object at 0x7ff404521f28>, <bert.run_classifier.InputFeatures object at 0x7ff40452c0b8>, <bert.run_classifier.InputFeatures object at 0x7ff40452c438>, <bert.run_classifier.InputFeatures object at 0x7ff40452c320>, <bert.run_classifier.InputFeatures object at 0x7ff40452c630>, <bert.run_classifier.InputFeatures object at 0x7ff40452c668>, <bert.run_classifier.InputFeatures object at 0x7ff40452c1d0>, <bert.run_classifier.InputFeatures object at 0x7ff40452c240>, <bert.run_classifier.InputFeatures object at 0x7ff40452c860>, <bert.run_classifier.InputFeatures object at 0x7ff40452c5c0>, <bert.run_classifier.InputFeatures object at 0x7ff40452c390>, <bert.run_classifier.InputFeatures object at 0x7ff40452c198>, <bert.run_classifier.InputFeatures object at 0x7ff40452c0f0>, <bert.run_classifier.InputFeatures object at 0x7ff40452c978>, <bert.run_classifier.InputFeatures object at 0x7ff40452c6a0>, <bert.run_classifier.InputFeatures object at 0x7ff40452c278>, <bert.run_classifier.InputFeatures object at 0x7ff40452c588>, <bert.run_classifier.InputFeatures object at 0x7ff40452c8d0>, <bert.run_classifier.InputFeatures object at 0x7ff40452c780>, <bert.run_classifier.InputFeatures object at 0x7ff40452c550>, <bert.run_classifier.InputFeatures object at 0x7ff40452c2b0>, <bert.run_classifier.InputFeatures object at 0x7ff40452c710>, <bert.run_classifier.InputFeatures object at 0x7ff40452c400>, <bert.run_classifier.InputFeatures object at 0x7ff40452c2e8>, <bert.run_classifier.InputFeatures object at 0x7ff40452c470>, <bert.run_classifier.InputFeatures object at 0x7ff40452c908>, <bert.run_classifier.InputFeatures object at 0x7ff40452ca58>, <bert.run_classifier.InputFeatures object at 0x7ff40452c9e8>, <bert.run_classifier.InputFeatures object at 0x7ff40452c7b8>, <bert.run_classifier.InputFeatures object at 0x7ff40452c518>, <bert.run_classifier.InputFeatures object at 0x7ff40452cc18>, <bert.run_classifier.InputFeatures object at 0x7ff40452cbe0>, <bert.run_classifier.InputFeatures object at 0x7ff40452ca20>, <bert.run_classifier.InputFeatures object at 0x7ff40452c208>, <bert.run_classifier.InputFeatures object at 0x7ff40452c4e0>, <bert.run_classifier.InputFeatures object at 0x7ff40452c748>, <bert.run_classifier.InputFeatures object at 0x7ff40452ccc0>, <bert.run_classifier.InputFeatures object at 0x7ff40452c6d8>, <bert.run_classifier.InputFeatures object at 0x7ff40452c080>, <bert.run_classifier.InputFeatures object at 0x7ff40452c4a8>, <bert.run_classifier.InputFeatures object at 0x7ff40452cd68>, <bert.run_classifier.InputFeatures object at 0x7ff40452ceb8>, <bert.run_classifier.InputFeatures object at 0x7ff40452c5f8>, <bert.run_classifier.InputFeatures object at 0x7ff40452cf60>, <bert.run_classifier.InputFeatures object at 0x7ff40452cac8>, <bert.run_classifier.InputFeatures object at 0x7ff40452ce10>, <bert.run_classifier.InputFeatures object at 0x7ff40452c7f0>, <bert.run_classifier.InputFeatures object at 0x7ff40452cf98>, <bert.run_classifier.InputFeatures object at 0x7ff40452cdd8>, <bert.run_classifier.InputFeatures object at 0x7ff40452c828>, <bert.run_classifier.InputFeatures object at 0x7ff40452c898>, <bert.run_classifier.InputFeatures object at 0x7ff40452cfd0>, <bert.run_classifier.InputFeatures object at 0x7ff40452cc88>, <bert.run_classifier.InputFeatures object at 0x7ff40452ca90>, <bert.run_classifier.InputFeatures object at 0x7ff40452c048>, <bert.run_classifier.InputFeatures object at 0x7ff40452ccf8>, <bert.run_classifier.InputFeatures object at 0x7ff40452cda0>, <bert.run_classifier.InputFeatures object at 0x7ff40452c940>, <bert.run_classifier.InputFeatures object at 0x7ff40452cf28>, <bert.run_classifier.InputFeatures object at 0x7ff40452cb38>, <bert.run_classifier.InputFeatures object at 0x7ff40452cb70>, <bert.run_classifier.InputFeatures object at 0x7ff40452c358>, <bert.run_classifier.InputFeatures object at 0x7ff40452cba8>, <bert.run_classifier.InputFeatures object at 0x7ff40452c128>, <bert.run_classifier.InputFeatures object at 0x7ff40452cc50>, <bert.run_classifier.InputFeatures object at 0x7ff40452cb00>, <bert.run_classifier.InputFeatures object at 0x7ff40452ce80>, <bert.run_classifier.InputFeatures object at 0x7ff40452ce48>, <bert.run_classifier.InputFeatures object at 0x7ff40452c9b0>, <bert.run_classifier.InputFeatures object at 0x7ff40452c160>, <bert.run_classifier.InputFeatures object at 0x7ff40452cd30>, <bert.run_classifier.InputFeatures object at 0x7ff40452c3c8>, <bert.run_classifier.InputFeatures object at 0x7ff40452cef0>, <bert.run_classifier.InputFeatures object at 0x7ff404530320>, <bert.run_classifier.InputFeatures object at 0x7ff404530470>, <bert.run_classifier.InputFeatures object at 0x7ff404530438>, <bert.run_classifier.InputFeatures object at 0x7ff4045305c0>, <bert.run_classifier.InputFeatures object at 0x7ff404530550>, <bert.run_classifier.InputFeatures object at 0x7ff404530048>, <bert.run_classifier.InputFeatures object at 0x7ff404530390>, <bert.run_classifier.InputFeatures object at 0x7ff4045306a0>, <bert.run_classifier.InputFeatures object at 0x7ff404530630>, <bert.run_classifier.InputFeatures object at 0x7ff4045308d0>, <bert.run_classifier.InputFeatures object at 0x7ff4045304e0>, <bert.run_classifier.InputFeatures object at 0x7ff404530a90>, <bert.run_classifier.InputFeatures object at 0x7ff4045300b8>, <bert.run_classifier.InputFeatures object at 0x7ff404530208>, <bert.run_classifier.InputFeatures object at 0x7ff404530828>, <bert.run_classifier.InputFeatures object at 0x7ff4045300f0>, <bert.run_classifier.InputFeatures object at 0x7ff4045303c8>, <bert.run_classifier.InputFeatures object at 0x7ff404530a20>, <bert.run_classifier.InputFeatures object at 0x7ff404530b70>, <bert.run_classifier.InputFeatures object at 0x7ff4045302e8>, <bert.run_classifier.InputFeatures object at 0x7ff404530160>, <bert.run_classifier.InputFeatures object at 0x7ff404530668>, <bert.run_classifier.InputFeatures object at 0x7ff4045307b8>, <bert.run_classifier.InputFeatures object at 0x7ff404530ac8>, <bert.run_classifier.InputFeatures object at 0x7ff404530780>, <bert.run_classifier.InputFeatures object at 0x7ff404530ba8>, <bert.run_classifier.InputFeatures object at 0x7ff404530080>, <bert.run_classifier.InputFeatures object at 0x7ff404530b00>, <bert.run_classifier.InputFeatures object at 0x7ff404530c50>, <bert.run_classifier.InputFeatures object at 0x7ff404530588>, <bert.run_classifier.InputFeatures object at 0x7ff404530518>, <bert.run_classifier.InputFeatures object at 0x7ff4045305f8>, <bert.run_classifier.InputFeatures object at 0x7ff404530898>, <bert.run_classifier.InputFeatures object at 0x7ff404530c88>, <bert.run_classifier.InputFeatures object at 0x7ff404530278>, <bert.run_classifier.InputFeatures object at 0x7ff404530400>, <bert.run_classifier.InputFeatures object at 0x7ff404530be0>, <bert.run_classifier.InputFeatures object at 0x7ff404530940>, <bert.run_classifier.InputFeatures object at 0x7ff404530710>, <bert.run_classifier.InputFeatures object at 0x7ff404530e10>, <bert.run_classifier.InputFeatures object at 0x7ff404530c18>, <bert.run_classifier.InputFeatures object at 0x7ff404530d30>, <bert.run_classifier.InputFeatures object at 0x7ff404530240>, <bert.run_classifier.InputFeatures object at 0x7ff4045309b0>, <bert.run_classifier.InputFeatures object at 0x7ff4045306d8>, <bert.run_classifier.InputFeatures object at 0x7ff404530da0>, <bert.run_classifier.InputFeatures object at 0x7ff404530198>, <bert.run_classifier.InputFeatures object at 0x7ff404530f28>, <bert.run_classifier.InputFeatures object at 0x7ff404530d68>, <bert.run_classifier.InputFeatures object at 0x7ff404530908>, <bert.run_classifier.InputFeatures object at 0x7ff4045304a8>, <bert.run_classifier.InputFeatures object at 0x7ff4045307f0>, <bert.run_classifier.InputFeatures object at 0x7ff404530e80>, <bert.run_classifier.InputFeatures object at 0x7ff4045302b0>, <bert.run_classifier.InputFeatures object at 0x7ff404530f60>, <bert.run_classifier.InputFeatures object at 0x7ff404530dd8>, <bert.run_classifier.InputFeatures object at 0x7ff404530cf8>, <bert.run_classifier.InputFeatures object at 0x7ff404530358>, <bert.run_classifier.InputFeatures object at 0x7ff404530e48>, <bert.run_classifier.InputFeatures object at 0x7ff404530860>, <bert.run_classifier.InputFeatures object at 0x7ff4045309e8>, <bert.run_classifier.InputFeatures object at 0x7ff404530978>, <bert.run_classifier.InputFeatures object at 0x7ff404530ef0>, <bert.run_classifier.InputFeatures object at 0x7ff404530f98>, <bert.run_classifier.InputFeatures object at 0x7ff404530128>, <bert.run_classifier.InputFeatures object at 0x7ff404530b38>, <bert.run_classifier.InputFeatures object at 0x7ff404530cc0>, <bert.run_classifier.InputFeatures object at 0x7ff404530a58>, <bert.run_classifier.InputFeatures object at 0x7ff404530eb8>, <bert.run_classifier.InputFeatures object at 0x7ff404530748>, <bert.run_classifier.InputFeatures object at 0x7ff4045301d0>, <bert.run_classifier.InputFeatures object at 0x7ff404530fd0>, <bert.run_classifier.InputFeatures object at 0x7ff404537048>, <bert.run_classifier.InputFeatures object at 0x7ff404537470>, <bert.run_classifier.InputFeatures object at 0x7ff4045376a0>, <bert.run_classifier.InputFeatures object at 0x7ff4045374a8>, <bert.run_classifier.InputFeatures object at 0x7ff4045370b8>, <bert.run_classifier.InputFeatures object at 0x7ff4045370f0>, <bert.run_classifier.InputFeatures object at 0x7ff404537438>, <bert.run_classifier.InputFeatures object at 0x7ff404537240>, <bert.run_classifier.InputFeatures object at 0x7ff4045375f8>, <bert.run_classifier.InputFeatures object at 0x7ff404537358>, <bert.run_classifier.InputFeatures object at 0x7ff404537630>, <bert.run_classifier.InputFeatures object at 0x7ff404537898>, <bert.run_classifier.InputFeatures object at 0x7ff4045374e0>, <bert.run_classifier.InputFeatures object at 0x7ff404537400>, <bert.run_classifier.InputFeatures object at 0x7ff404537710>, <bert.run_classifier.InputFeatures object at 0x7ff4045372e8>, <bert.run_classifier.InputFeatures object at 0x7ff404537668>, <bert.run_classifier.InputFeatures object at 0x7ff4045375c0>, <bert.run_classifier.InputFeatures object at 0x7ff404537208>, <bert.run_classifier.InputFeatures object at 0x7ff404537ba8>, <bert.run_classifier.InputFeatures object at 0x7ff404537ac8>, <bert.run_classifier.InputFeatures object at 0x7ff404537390>, <bert.run_classifier.InputFeatures object at 0x7ff404537c50>, <bert.run_classifier.InputFeatures object at 0x7ff404537320>, <bert.run_classifier.InputFeatures object at 0x7ff4045372b0>, <bert.run_classifier.InputFeatures object at 0x7ff404537518>, <bert.run_classifier.InputFeatures object at 0x7ff404537a20>, <bert.run_classifier.InputFeatures object at 0x7ff404537b70>, <bert.run_classifier.InputFeatures object at 0x7ff404537908>, <bert.run_classifier.InputFeatures object at 0x7ff404537be0>, <bert.run_classifier.InputFeatures object at 0x7ff4045379e8>, <bert.run_classifier.InputFeatures object at 0x7ff404537278>, <bert.run_classifier.InputFeatures object at 0x7ff4045377b8>, <bert.run_classifier.InputFeatures object at 0x7ff4045371d0>, <bert.run_classifier.InputFeatures object at 0x7ff404537a90>, <bert.run_classifier.InputFeatures object at 0x7ff404537940>, <bert.run_classifier.InputFeatures object at 0x7ff4045373c8>, <bert.run_classifier.InputFeatures object at 0x7ff404537d30>, <bert.run_classifier.InputFeatures object at 0x7ff404537dd8>, <bert.run_classifier.InputFeatures object at 0x7ff404537a58>, <bert.run_classifier.InputFeatures object at 0x7ff4045376d8>, <bert.run_classifier.InputFeatures object at 0x7ff404537978>, <bert.run_classifier.InputFeatures object at 0x7ff404537e48>, <bert.run_classifier.InputFeatures object at 0x7ff404537198>, <bert.run_classifier.InputFeatures object at 0x7ff404537b38>, <bert.run_classifier.InputFeatures object at 0x7ff404537080>, <bert.run_classifier.InputFeatures object at 0x7ff404537c88>, <bert.run_classifier.InputFeatures object at 0x7ff404537828>, <bert.run_classifier.InputFeatures object at 0x7ff404537748>, <bert.run_classifier.InputFeatures object at 0x7ff404537128>, <bert.run_classifier.InputFeatures object at 0x7ff404537fd0>, <bert.run_classifier.InputFeatures object at 0x7ff404537cf8>, <bert.run_classifier.InputFeatures object at 0x7ff404537860>, <bert.run_classifier.InputFeatures object at 0x7ff404537f60>, <bert.run_classifier.InputFeatures object at 0x7ff4045378d0>, <bert.run_classifier.InputFeatures object at 0x7ff4045379b0>, <bert.run_classifier.InputFeatures object at 0x7ff404537f28>, <bert.run_classifier.InputFeatures object at 0x7ff404537c18>, <bert.run_classifier.InputFeatures object at 0x7ff404537cc0>, <bert.run_classifier.InputFeatures object at 0x7ff404537ef0>, <bert.run_classifier.InputFeatures object at 0x7ff404537f98>, <bert.run_classifier.InputFeatures object at 0x7ff404537588>, <bert.run_classifier.InputFeatures object at 0x7ff404537d68>, <bert.run_classifier.InputFeatures object at 0x7ff404537780>, <bert.run_classifier.InputFeatures object at 0x7ff404537eb8>, <bert.run_classifier.InputFeatures object at 0x7ff404537da0>, <bert.run_classifier.InputFeatures object at 0x7ff404537160>, <bert.run_classifier.InputFeatures object at 0x7ff4045377f0>, <bert.run_classifier.InputFeatures object at 0x7ff404537b00>, <bert.run_classifier.InputFeatures object at 0x7ff404537550>, <bert.run_classifier.InputFeatures object at 0x7ff404537e80>, <bert.run_classifier.InputFeatures object at 0x7ff404537e10>, <bert.run_classifier.InputFeatures object at 0x7ff4044bf080>, <bert.run_classifier.InputFeatures object at 0x7ff4044bf400>, <bert.run_classifier.InputFeatures object at 0x7ff4044bf4e0>, <bert.run_classifier.InputFeatures object at 0x7ff4044bf048>, <bert.run_classifier.InputFeatures object at 0x7ff4044bf7b8>, <bert.run_classifier.InputFeatures object at 0x7ff4044bf630>, <bert.run_classifier.InputFeatures object at 0x7ff4044bf588>, <bert.run_classifier.InputFeatures object at 0x7ff4044bf198>, <bert.run_classifier.InputFeatures object at 0x7ff4044bf710>, <bert.run_classifier.InputFeatures object at 0x7ff4044bf4a8>, <bert.run_classifier.InputFeatures object at 0x7ff4044bf668>, <bert.run_classifier.InputFeatures object at 0x7ff4044bf0b8>, <bert.run_classifier.InputFeatures object at 0x7ff4044bf470>, <bert.run_classifier.InputFeatures object at 0x7ff4044bf128>, <bert.run_classifier.InputFeatures object at 0x7ff4044bf358>, <bert.run_classifier.InputFeatures object at 0x7ff4044bf278>, <bert.run_classifier.InputFeatures object at 0x7ff4044bf160>, <bert.run_classifier.InputFeatures object at 0x7ff4044bf390>, <bert.run_classifier.InputFeatures object at 0x7ff4044bf438>, <bert.run_classifier.InputFeatures object at 0x7ff4044bf6d8>, <bert.run_classifier.InputFeatures object at 0x7ff4044bf518>, <bert.run_classifier.InputFeatures object at 0x7ff4044bf2e8>, <bert.run_classifier.InputFeatures object at 0x7ff4044bf828>, <bert.run_classifier.InputFeatures object at 0x7ff4044bf6a0>, <bert.run_classifier.InputFeatures object at 0x7ff4044bf3c8>, <bert.run_classifier.InputFeatures object at 0x7ff4044bf780>, <bert.run_classifier.InputFeatures object at 0x7ff4044bfb38>, <bert.run_classifier.InputFeatures object at 0x7ff4044bf860>, <bert.run_classifier.InputFeatures object at 0x7ff4044bf940>, <bert.run_classifier.InputFeatures object at 0x7ff4044bf898>, <bert.run_classifier.InputFeatures object at 0x7ff4044bff60>, <bert.run_classifier.InputFeatures object at 0x7ff4044bfa90>, <bert.run_classifier.InputFeatures object at 0x7ff4044bf978>, <bert.run_classifier.InputFeatures object at 0x7ff4044bfba8>, <bert.run_classifier.InputFeatures object at 0x7ff4044bfbe0>, <bert.run_classifier.InputFeatures object at 0x7ff4044bfd68>, <bert.run_classifier.InputFeatures object at 0x7ff4044bf1d0>, <bert.run_classifier.InputFeatures object at 0x7ff4044bfb00>, <bert.run_classifier.InputFeatures object at 0x7ff4044bfe10>, <bert.run_classifier.InputFeatures object at 0x7ff4044bf0f0>, <bert.run_classifier.InputFeatures object at 0x7ff4044bfeb8>, <bert.run_classifier.InputFeatures object at 0x7ff4044bfd30>, <bert.run_classifier.InputFeatures object at 0x7ff4044bf2b0>, <bert.run_classifier.InputFeatures object at 0x7ff4044bff28>, <bert.run_classifier.InputFeatures object at 0x7ff4044bfa58>, <bert.run_classifier.InputFeatures object at 0x7ff4044bf240>, <bert.run_classifier.InputFeatures object at 0x7ff4044bf208>, <bert.run_classifier.InputFeatures object at 0x7ff4044bfc18>, <bert.run_classifier.InputFeatures object at 0x7ff4044bf550>, <bert.run_classifier.InputFeatures object at 0x7ff4044bfc50>, <bert.run_classifier.InputFeatures object at 0x7ff4044bfc88>, <bert.run_classifier.InputFeatures object at 0x7ff4044bfb70>, <bert.run_classifier.InputFeatures object at 0x7ff4044bfac8>, <bert.run_classifier.InputFeatures object at 0x7ff4044bfdd8>, <bert.run_classifier.InputFeatures object at 0x7ff4044bf9b0>, <bert.run_classifier.InputFeatures object at 0x7ff4044bf5c0>, <bert.run_classifier.InputFeatures object at 0x7ff4044bf7f0>, <bert.run_classifier.InputFeatures object at 0x7ff4044bfda0>, <bert.run_classifier.InputFeatures object at 0x7ff4044bfe80>, <bert.run_classifier.InputFeatures object at 0x7ff4044bf748>, <bert.run_classifier.InputFeatures object at 0x7ff4044bf5f8>, <bert.run_classifier.InputFeatures object at 0x7ff4044bf320>, <bert.run_classifier.InputFeatures object at 0x7ff4044bffd0>, <bert.run_classifier.InputFeatures object at 0x7ff4044bfe48>, <bert.run_classifier.InputFeatures object at 0x7ff4044bfa20>, <bert.run_classifier.InputFeatures object at 0x7ff4044bfef0>, <bert.run_classifier.InputFeatures object at 0x7ff4044bff98>, <bert.run_classifier.InputFeatures object at 0x7ff4044bf908>, <bert.run_classifier.InputFeatures object at 0x7ff4044bfcf8>, <bert.run_classifier.InputFeatures object at 0x7ff4044bf9e8>, <bert.run_classifier.InputFeatures object at 0x7ff4044bf8d0>, <bert.run_classifier.InputFeatures object at 0x7ff4044bfcc0>, <bert.run_classifier.InputFeatures object at 0x7ff4044c0278>, <bert.run_classifier.InputFeatures object at 0x7ff4044c0080>, <bert.run_classifier.InputFeatures object at 0x7ff4044c0550>, <bert.run_classifier.InputFeatures object at 0x7ff4044c0160>, <bert.run_classifier.InputFeatures object at 0x7ff4044c04a8>, <bert.run_classifier.InputFeatures object at 0x7ff4044c02e8>, <bert.run_classifier.InputFeatures object at 0x7ff4044c06d8>, <bert.run_classifier.InputFeatures object at 0x7ff4044c0438>, <bert.run_classifier.InputFeatures object at 0x7ff4044c0240>, <bert.run_classifier.InputFeatures object at 0x7ff4044c0198>, <bert.run_classifier.InputFeatures object at 0x7ff4044c03c8>, <bert.run_classifier.InputFeatures object at 0x7ff4044c01d0>, <bert.run_classifier.InputFeatures object at 0x7ff4044c0048>, <bert.run_classifier.InputFeatures object at 0x7ff4044c0518>, <bert.run_classifier.InputFeatures object at 0x7ff4044c00f0>, <bert.run_classifier.InputFeatures object at 0x7ff4044c0588>, <bert.run_classifier.InputFeatures object at 0x7ff4044c0828>, <bert.run_classifier.InputFeatures object at 0x7ff4044c0668>, <bert.run_classifier.InputFeatures object at 0x7ff4044c05f8>, <bert.run_classifier.InputFeatures object at 0x7ff4044c0390>, <bert.run_classifier.InputFeatures object at 0x7ff4044c05c0>, <bert.run_classifier.InputFeatures object at 0x7ff4044c09e8>, <bert.run_classifier.InputFeatures object at 0x7ff4044c0908>, <bert.run_classifier.InputFeatures object at 0x7ff4044c0dd8>, <bert.run_classifier.InputFeatures object at 0x7ff4044c0208>, <bert.run_classifier.InputFeatures object at 0x7ff4044c0ba8>, <bert.run_classifier.InputFeatures object at 0x7ff4044c0b70>, <bert.run_classifier.InputFeatures object at 0x7ff4044c0c50>, <bert.run_classifier.InputFeatures object at 0x7ff4044c0710>, <bert.run_classifier.InputFeatures object at 0x7ff4044c0470>, <bert.run_classifier.InputFeatures object at 0x7ff4044c0748>, <bert.run_classifier.InputFeatures object at 0x7ff4044c0400>, <bert.run_classifier.InputFeatures object at 0x7ff4044c0358>, <bert.run_classifier.InputFeatures object at 0x7ff4044c0d68>, <bert.run_classifier.InputFeatures object at 0x7ff4044c0320>, <bert.run_classifier.InputFeatures object at 0x7ff4044c0630>, <bert.run_classifier.InputFeatures object at 0x7ff4044c06a0>, <bert.run_classifier.InputFeatures object at 0x7ff4044c0c88>, <bert.run_classifier.InputFeatures object at 0x7ff4044c0cf8>, <bert.run_classifier.InputFeatures object at 0x7ff4044c07f0>, <bert.run_classifier.InputFeatures object at 0x7ff4044c0e48>, <bert.run_classifier.InputFeatures object at 0x7ff4044c0f28>, <bert.run_classifier.InputFeatures object at 0x7ff4044c0b38>, <bert.run_classifier.InputFeatures object at 0x7ff4044c00b8>, <bert.run_classifier.InputFeatures object at 0x7ff4044c07b8>, <bert.run_classifier.InputFeatures object at 0x7ff4044c09b0>, <bert.run_classifier.InputFeatures object at 0x7ff4044c0fd0>, <bert.run_classifier.InputFeatures object at 0x7ff4044c0d30>, <bert.run_classifier.InputFeatures object at 0x7ff4044c0898>, <bert.run_classifier.InputFeatures object at 0x7ff4044c0ef0>, <bert.run_classifier.InputFeatures object at 0x7ff4044c0a20>, <bert.run_classifier.InputFeatures object at 0x7ff4044c0da0>, <bert.run_classifier.InputFeatures object at 0x7ff4044c0128>, <bert.run_classifier.InputFeatures object at 0x7ff4044c0a90>, <bert.run_classifier.InputFeatures object at 0x7ff4044c0978>, <bert.run_classifier.InputFeatures object at 0x7ff4044c08d0>, <bert.run_classifier.InputFeatures object at 0x7ff4044c0780>, <bert.run_classifier.InputFeatures object at 0x7ff4044c0860>, <bert.run_classifier.InputFeatures object at 0x7ff4044c0be0>, <bert.run_classifier.InputFeatures object at 0x7ff4044c0b00>, <bert.run_classifier.InputFeatures object at 0x7ff4044c0f60>, <bert.run_classifier.InputFeatures object at 0x7ff4044c0c18>, <bert.run_classifier.InputFeatures object at 0x7ff4044c0e80>, <bert.run_classifier.InputFeatures object at 0x7ff4044c04e0>, <bert.run_classifier.InputFeatures object at 0x7ff4044c0eb8>, <bert.run_classifier.InputFeatures object at 0x7ff4044c0cc0>, <bert.run_classifier.InputFeatures object at 0x7ff4044c02b0>, <bert.run_classifier.InputFeatures object at 0x7ff4044c0e10>, <bert.run_classifier.InputFeatures object at 0x7ff4044c0ac8>, <bert.run_classifier.InputFeatures object at 0x7ff4044c0940>, <bert.run_classifier.InputFeatures object at 0x7ff4044c0a58>, <bert.run_classifier.InputFeatures object at 0x7ff4044c0f98>, <bert.run_classifier.InputFeatures object at 0x7ff4044ca1d0>, <bert.run_classifier.InputFeatures object at 0x7ff4044ca3c8>, <bert.run_classifier.InputFeatures object at 0x7ff4044ca240>, <bert.run_classifier.InputFeatures object at 0x7ff4044ca4e0>, <bert.run_classifier.InputFeatures object at 0x7ff4044ca588>, <bert.run_classifier.InputFeatures object at 0x7ff4044ca048>, <bert.run_classifier.InputFeatures object at 0x7ff4044ca978>, <bert.run_classifier.InputFeatures object at 0x7ff4044ca470>, <bert.run_classifier.InputFeatures object at 0x7ff4044ca860>, <bert.run_classifier.InputFeatures object at 0x7ff4044ca748>, <bert.run_classifier.InputFeatures object at 0x7ff4044ca518>, <bert.run_classifier.InputFeatures object at 0x7ff4044ca400>, <bert.run_classifier.InputFeatures object at 0x7ff4044ca358>, <bert.run_classifier.InputFeatures object at 0x7ff4044ca2e8>, <bert.run_classifier.InputFeatures object at 0x7ff4044ca8d0>, <bert.run_classifier.InputFeatures object at 0x7ff4044ca0b8>, <bert.run_classifier.InputFeatures object at 0x7ff4044ca7b8>, <bert.run_classifier.InputFeatures object at 0x7ff4044ca630>, <bert.run_classifier.InputFeatures object at 0x7ff4044ca128>, <bert.run_classifier.InputFeatures object at 0x7ff4044ca710>, <bert.run_classifier.InputFeatures object at 0x7ff4044ca208>, <bert.run_classifier.InputFeatures object at 0x7ff4044ca2b0>, <bert.run_classifier.InputFeatures object at 0x7ff4044ca5c0>, <bert.run_classifier.InputFeatures object at 0x7ff4044ca6d8>, <bert.run_classifier.InputFeatures object at 0x7ff4044ca828>, <bert.run_classifier.InputFeatures object at 0x7ff4044caa58>, <bert.run_classifier.InputFeatures object at 0x7ff4044ca438>, <bert.run_classifier.InputFeatures object at 0x7ff4044ca0f0>, <bert.run_classifier.InputFeatures object at 0x7ff4044ca160>, <bert.run_classifier.InputFeatures object at 0x7ff4044ca5f8>, <bert.run_classifier.InputFeatures object at 0x7ff4044ca6a0>, <bert.run_classifier.InputFeatures object at 0x7ff4044ca320>, <bert.run_classifier.InputFeatures object at 0x7ff4044caa20>, <bert.run_classifier.InputFeatures object at 0x7ff4044ca9e8>, <bert.run_classifier.InputFeatures object at 0x7ff4044ca390>, <bert.run_classifier.InputFeatures object at 0x7ff4044caa90>, <bert.run_classifier.InputFeatures object at 0x7ff4044cae10>, <bert.run_classifier.InputFeatures object at 0x7ff4044cad68>, <bert.run_classifier.InputFeatures object at 0x7ff4044cacc0>, <bert.run_classifier.InputFeatures object at 0x7ff4044caeb8>, <bert.run_classifier.InputFeatures object at 0x7ff4044ca898>, <bert.run_classifier.InputFeatures object at 0x7ff4044ca908>, <bert.run_classifier.InputFeatures object at 0x7ff4044caf98>, <bert.run_classifier.InputFeatures object at 0x7ff4044cac88>, <bert.run_classifier.InputFeatures object at 0x7ff4044ca080>, <bert.run_classifier.InputFeatures object at 0x7ff4044ca550>, <bert.run_classifier.InputFeatures object at 0x7ff4044cacf8>, <bert.run_classifier.InputFeatures object at 0x7ff4044cab38>, <bert.run_classifier.InputFeatures object at 0x7ff4044ca780>, <bert.run_classifier.InputFeatures object at 0x7ff4044cab00>, <bert.run_classifier.InputFeatures object at 0x7ff4044cada0>, <bert.run_classifier.InputFeatures object at 0x7ff4044ca940>, <bert.run_classifier.InputFeatures object at 0x7ff4044cafd0>, <bert.run_classifier.InputFeatures object at 0x7ff4044cae80>, <bert.run_classifier.InputFeatures object at 0x7ff4044ca7f0>, <bert.run_classifier.InputFeatures object at 0x7ff4044ca668>, <bert.run_classifier.InputFeatures object at 0x7ff4044cac50>, <bert.run_classifier.InputFeatures object at 0x7ff4044ca198>, <bert.run_classifier.InputFeatures object at 0x7ff4044caf28>, <bert.run_classifier.InputFeatures object at 0x7ff4044cac18>, <bert.run_classifier.InputFeatures object at 0x7ff4044ca9b0>, <bert.run_classifier.InputFeatures object at 0x7ff4044caf60>, <bert.run_classifier.InputFeatures object at 0x7ff4044caba8>, <bert.run_classifier.InputFeatures object at 0x7ff4044caef0>, <bert.run_classifier.InputFeatures object at 0x7ff4044cab70>, <bert.run_classifier.InputFeatures object at 0x7ff4044cae48>, <bert.run_classifier.InputFeatures object at 0x7ff4044ca278>, <bert.run_classifier.InputFeatures object at 0x7ff4044cadd8>, <bert.run_classifier.InputFeatures object at 0x7ff4044ca4a8>, <bert.run_classifier.InputFeatures object at 0x7ff4044cad30>, <bert.run_classifier.InputFeatures object at 0x7ff4044cabe0>, <bert.run_classifier.InputFeatures object at 0x7ff4044caac8>, <bert.run_classifier.InputFeatures object at 0x7ff4044d1128>, <bert.run_classifier.InputFeatures object at 0x7ff4044d1518>, <bert.run_classifier.InputFeatures object at 0x7ff4044d16a0>, <bert.run_classifier.InputFeatures object at 0x7ff4044d1828>, <bert.run_classifier.InputFeatures object at 0x7ff4044d17b8>, <bert.run_classifier.InputFeatures object at 0x7ff4044d1668>, <bert.run_classifier.InputFeatures object at 0x7ff4044d10f0>, <bert.run_classifier.InputFeatures object at 0x7ff4044d13c8>, <bert.run_classifier.InputFeatures object at 0x7ff4044d15c0>, <bert.run_classifier.InputFeatures object at 0x7ff4044d1048>, <bert.run_classifier.InputFeatures object at 0x7ff4044d11d0>, <bert.run_classifier.InputFeatures object at 0x7ff4044d1278>, <bert.run_classifier.InputFeatures object at 0x7ff4044d1780>, <bert.run_classifier.InputFeatures object at 0x7ff4044d16d8>, <bert.run_classifier.InputFeatures object at 0x7ff4044d1710>, <bert.run_classifier.InputFeatures object at 0x7ff4044d1ac8>, <bert.run_classifier.InputFeatures object at 0x7ff4044d10b8>, <bert.run_classifier.InputFeatures object at 0x7ff4044d1748>, <bert.run_classifier.InputFeatures object at 0x7ff4044d1a58>, <bert.run_classifier.InputFeatures object at 0x7ff4044d1550>, <bert.run_classifier.InputFeatures object at 0x7ff4044d1208>, <bert.run_classifier.InputFeatures object at 0x7ff4044d19b0>, <bert.run_classifier.InputFeatures object at 0x7ff4044d1b00>, <bert.run_classifier.InputFeatures object at 0x7ff4044d14e0>, <bert.run_classifier.InputFeatures object at 0x7ff4044d1198>, <bert.run_classifier.InputFeatures object at 0x7ff4044d1320>, <bert.run_classifier.InputFeatures object at 0x7ff4044d1a90>, <bert.run_classifier.InputFeatures object at 0x7ff4044d1b70>, <bert.run_classifier.InputFeatures object at 0x7ff4044d12e8>, <bert.run_classifier.InputFeatures object at 0x7ff4044d1908>, <bert.run_classifier.InputFeatures object at 0x7ff4044d1160>, <bert.run_classifier.InputFeatures object at 0x7ff4044d1240>, <bert.run_classifier.InputFeatures object at 0x7ff4044d1400>, <bert.run_classifier.InputFeatures object at 0x7ff4044d1be0>, <bert.run_classifier.InputFeatures object at 0x7ff4044d18d0>, <bert.run_classifier.InputFeatures object at 0x7ff4044d19e8>, <bert.run_classifier.InputFeatures object at 0x7ff4044d1ba8>, <bert.run_classifier.InputFeatures object at 0x7ff4044d1080>, <bert.run_classifier.InputFeatures object at 0x7ff4044d1e80>, <bert.run_classifier.InputFeatures object at 0x7ff4044d1cf8>, <bert.run_classifier.InputFeatures object at 0x7ff4044d1358>, <bert.run_classifier.InputFeatures object at 0x7ff4044d1898>, <bert.run_classifier.InputFeatures object at 0x7ff4044d1dd8>, <bert.run_classifier.InputFeatures object at 0x7ff4044d1c18>, <bert.run_classifier.InputFeatures object at 0x7ff4044d12b0>, <bert.run_classifier.InputFeatures object at 0x7ff4044d1940>, <bert.run_classifier.InputFeatures object at 0x7ff4044d1f98>, <bert.run_classifier.InputFeatures object at 0x7ff4044d1da0>, <bert.run_classifier.InputFeatures object at 0x7ff4044d1d68>, <bert.run_classifier.InputFeatures object at 0x7ff4044d1978>, <bert.run_classifier.InputFeatures object at 0x7ff4044d1e10>, <bert.run_classifier.InputFeatures object at 0x7ff4044d1f60>, <bert.run_classifier.InputFeatures object at 0x7ff4044d1d30>, <bert.run_classifier.InputFeatures object at 0x7ff4044d1c88>, <bert.run_classifier.InputFeatures object at 0x7ff4044d1470>, <bert.run_classifier.InputFeatures object at 0x7ff4044d1ef0>, <bert.run_classifier.InputFeatures object at 0x7ff4044d1eb8>, <bert.run_classifier.InputFeatures object at 0x7ff4044d1fd0>, <bert.run_classifier.InputFeatures object at 0x7ff4044d1588>, <bert.run_classifier.InputFeatures object at 0x7ff4044d1630>, <bert.run_classifier.InputFeatures object at 0x7ff4044d17f0>, <bert.run_classifier.InputFeatures object at 0x7ff4044d14a8>, <bert.run_classifier.InputFeatures object at 0x7ff4044d1b38>, <bert.run_classifier.InputFeatures object at 0x7ff4044d1438>, <bert.run_classifier.InputFeatures object at 0x7ff4044d1cc0>, <bert.run_classifier.InputFeatures object at 0x7ff4044d1c50>, <bert.run_classifier.InputFeatures object at 0x7ff4044d1860>, <bert.run_classifier.InputFeatures object at 0x7ff4044d1f28>, <bert.run_classifier.InputFeatures object at 0x7ff4044d1e48>, <bert.run_classifier.InputFeatures object at 0x7ff4044d15f8>, <bert.run_classifier.InputFeatures object at 0x7ff4044d1a20>, <bert.run_classifier.InputFeatures object at 0x7ff4044d1390>, <bert.run_classifier.InputFeatures object at 0x7ff4044d8198>, <bert.run_classifier.InputFeatures object at 0x7ff4044d83c8>, <bert.run_classifier.InputFeatures object at 0x7ff4044d8390>, <bert.run_classifier.InputFeatures object at 0x7ff4044d8630>, <bert.run_classifier.InputFeatures object at 0x7ff4044d85c0>, <bert.run_classifier.InputFeatures object at 0x7ff4044d8320>, <bert.run_classifier.InputFeatures object at 0x7ff4044d8780>, <bert.run_classifier.InputFeatures object at 0x7ff4044d82e8>, <bert.run_classifier.InputFeatures object at 0x7ff4044d87f0>, <bert.run_classifier.InputFeatures object at 0x7ff4044d8710>, <bert.run_classifier.InputFeatures object at 0x7ff4044d8438>, <bert.run_classifier.InputFeatures object at 0x7ff4044d89e8>, <bert.run_classifier.InputFeatures object at 0x7ff4044d88d0>, <bert.run_classifier.InputFeatures object at 0x7ff4044d8828>, <bert.run_classifier.InputFeatures object at 0x7ff4044d84a8>, <bert.run_classifier.InputFeatures object at 0x7ff4044d8048>, <bert.run_classifier.InputFeatures object at 0x7ff4044d80b8>, <bert.run_classifier.InputFeatures object at 0x7ff4044d8668>, <bert.run_classifier.InputFeatures object at 0x7ff4044d84e0>, <bert.run_classifier.InputFeatures object at 0x7ff4044d8748>, <bert.run_classifier.InputFeatures object at 0x7ff4044d8978>, <bert.run_classifier.InputFeatures object at 0x7ff4044d8b70>, <bert.run_classifier.InputFeatures object at 0x7ff4044d86a0>, <bert.run_classifier.InputFeatures object at 0x7ff4044d8470>, <bert.run_classifier.InputFeatures object at 0x7ff4044d8518>, <bert.run_classifier.InputFeatures object at 0x7ff4044d8400>, <bert.run_classifier.InputFeatures object at 0x7ff4044d8278>, <bert.run_classifier.InputFeatures object at 0x7ff4044d8cc0>, <bert.run_classifier.InputFeatures object at 0x7ff4044d8550>, <bert.run_classifier.InputFeatures object at 0x7ff4044d8940>, <bert.run_classifier.InputFeatures object at 0x7ff4044d8a58>, <bert.run_classifier.InputFeatures object at 0x7ff4044d8160>, <bert.run_classifier.InputFeatures object at 0x7ff4044d8a90>, <bert.run_classifier.InputFeatures object at 0x7ff4044d81d0>, <bert.run_classifier.InputFeatures object at 0x7ff4044d8860>, <bert.run_classifier.InputFeatures object at 0x7ff4044d89b0>, <bert.run_classifier.InputFeatures object at 0x7ff4044d8ba8>, <bert.run_classifier.InputFeatures object at 0x7ff4044d87b8>, <bert.run_classifier.InputFeatures object at 0x7ff4044d8208>, <bert.run_classifier.InputFeatures object at 0x7ff4044d80f0>, <bert.run_classifier.InputFeatures object at 0x7ff4044d85f8>, <bert.run_classifier.InputFeatures object at 0x7ff4044d8dd8>, <bert.run_classifier.InputFeatures object at 0x7ff4044d8358>, <bert.run_classifier.InputFeatures object at 0x7ff4044d8ef0>, <bert.run_classifier.InputFeatures object at 0x7ff4044d8240>, <bert.run_classifier.InputFeatures object at 0x7ff4044d8a20>, <bert.run_classifier.InputFeatures object at 0x7ff4044d8c50>, <bert.run_classifier.InputFeatures object at 0x7ff4044d8b00>, <bert.run_classifier.InputFeatures object at 0x7ff4044d8f28>, <bert.run_classifier.InputFeatures object at 0x7ff4044d8d68>, <bert.run_classifier.InputFeatures object at 0x7ff4044d8f60>, <bert.run_classifier.InputFeatures object at 0x7ff4044d82b0>, <bert.run_classifier.InputFeatures object at 0x7ff4044d8080>, <bert.run_classifier.InputFeatures object at 0x7ff4044d8be0>, <bert.run_classifier.InputFeatures object at 0x7ff4044d8cf8>, <bert.run_classifier.InputFeatures object at 0x7ff4044d8d30>, <bert.run_classifier.InputFeatures object at 0x7ff4044d86d8>, <bert.run_classifier.InputFeatures object at 0x7ff4044d8ac8>, <bert.run_classifier.InputFeatures object at 0x7ff4044d8128>, <bert.run_classifier.InputFeatures object at 0x7ff4044d8588>, <bert.run_classifier.InputFeatures object at 0x7ff4044d8b38>, <bert.run_classifier.InputFeatures object at 0x7ff4044d8908>, <bert.run_classifier.InputFeatures object at 0x7ff4044d8fd0>, <bert.run_classifier.InputFeatures object at 0x7ff4044d8e80>, <bert.run_classifier.InputFeatures object at 0x7ff4044d8da0>, <bert.run_classifier.InputFeatures object at 0x7ff4044d8c88>, <bert.run_classifier.InputFeatures object at 0x7ff4044d8e48>, <bert.run_classifier.InputFeatures object at 0x7ff4044d8f98>, <bert.run_classifier.InputFeatures object at 0x7ff4044d8898>, <bert.run_classifier.InputFeatures object at 0x7ff4044d8e10>, <bert.run_classifier.InputFeatures object at 0x7ff4044d8c18>, <bert.run_classifier.InputFeatures object at 0x7ff4044d8eb8>, <bert.run_classifier.InputFeatures object at 0x7ff4044df048>, <bert.run_classifier.InputFeatures object at 0x7ff4044df320>, <bert.run_classifier.InputFeatures object at 0x7ff4044df198>, <bert.run_classifier.InputFeatures object at 0x7ff4044df160>, <bert.run_classifier.InputFeatures object at 0x7ff4044df668>, <bert.run_classifier.InputFeatures object at 0x7ff4044df128>, <bert.run_classifier.InputFeatures object at 0x7ff4044df4e0>, <bert.run_classifier.InputFeatures object at 0x7ff4044df860>, <bert.run_classifier.InputFeatures object at 0x7ff4044df710>, <bert.run_classifier.InputFeatures object at 0x7ff4044df978>, <bert.run_classifier.InputFeatures object at 0x7ff4044df908>, <bert.run_classifier.InputFeatures object at 0x7ff4044df7f0>, <bert.run_classifier.InputFeatures object at 0x7ff4044df518>, <bert.run_classifier.InputFeatures object at 0x7ff4044df0b8>, <bert.run_classifier.InputFeatures object at 0x7ff4044df5f8>, <bert.run_classifier.InputFeatures object at 0x7ff4044df208>, <bert.run_classifier.InputFeatures object at 0x7ff4044df8d0>, <bert.run_classifier.InputFeatures object at 0x7ff4044df7b8>, <bert.run_classifier.InputFeatures object at 0x7ff4044df1d0>, <bert.run_classifier.InputFeatures object at 0x7ff4044df390>, <bert.run_classifier.InputFeatures object at 0x7ff4044df940>, <bert.run_classifier.InputFeatures object at 0x7ff4044df278>, <bert.run_classifier.InputFeatures object at 0x7ff4044df240>, <bert.run_classifier.InputFeatures object at 0x7ff4044df6a0>, <bert.run_classifier.InputFeatures object at 0x7ff4044dfc18>, <bert.run_classifier.InputFeatures object at 0x7ff4044df550>, <bert.run_classifier.InputFeatures object at 0x7ff4044df748>, <bert.run_classifier.InputFeatures object at 0x7ff4044df5c0>, <bert.run_classifier.InputFeatures object at 0x7ff4044df780>, <bert.run_classifier.InputFeatures object at 0x7ff4044df6d8>, <bert.run_classifier.InputFeatures object at 0x7ff4044df0f0>, <bert.run_classifier.InputFeatures object at 0x7ff4044dfa20>, <bert.run_classifier.InputFeatures object at 0x7ff4044dfd30>, <bert.run_classifier.InputFeatures object at 0x7ff4044dfcf8>, <bert.run_classifier.InputFeatures object at 0x7ff4044dfc88>, <bert.run_classifier.InputFeatures object at 0x7ff4044dfb70>, <bert.run_classifier.InputFeatures object at 0x7ff4044dfbe0>, <bert.run_classifier.InputFeatures object at 0x7ff4044dfda0>, <bert.run_classifier.InputFeatures object at 0x7ff4044dfa58>, <bert.run_classifier.InputFeatures object at 0x7ff4044df9e8>, <bert.run_classifier.InputFeatures object at 0x7ff4044df2b0>, <bert.run_classifier.InputFeatures object at 0x7ff4044df3c8>, <bert.run_classifier.InputFeatures object at 0x7ff4044df080>, <bert.run_classifier.InputFeatures object at 0x7ff4044dfcc0>, <bert.run_classifier.InputFeatures object at 0x7ff4044dffd0>, <bert.run_classifier.InputFeatures object at 0x7ff4044dfe48>, <bert.run_classifier.InputFeatures object at 0x7ff4044dfc50>, <bert.run_classifier.InputFeatures object at 0x7ff4044dfe10>, <bert.run_classifier.InputFeatures object at 0x7ff4044dff60>, <bert.run_classifier.InputFeatures object at 0x7ff4044dfe80>, <bert.run_classifier.InputFeatures object at 0x7ff4044df2e8>, <bert.run_classifier.InputFeatures object at 0x7ff4044df438>, <bert.run_classifier.InputFeatures object at 0x7ff4044dff28>, <bert.run_classifier.InputFeatures object at 0x7ff4044df358>, <bert.run_classifier.InputFeatures object at 0x7ff4044df400>, <bert.run_classifier.InputFeatures object at 0x7ff4044dfb00>, <bert.run_classifier.InputFeatures object at 0x7ff4044df630>, <bert.run_classifier.InputFeatures object at 0x7ff4044df4a8>, <bert.run_classifier.InputFeatures object at 0x7ff4044dfa90>, <bert.run_classifier.InputFeatures object at 0x7ff4044dfdd8>, <bert.run_classifier.InputFeatures object at 0x7ff4044dfb38>, <bert.run_classifier.InputFeatures object at 0x7ff4044dfba8>, <bert.run_classifier.InputFeatures object at 0x7ff4044df828>, <bert.run_classifier.InputFeatures object at 0x7ff4044dfd68>, <bert.run_classifier.InputFeatures object at 0x7ff4044dfac8>, <bert.run_classifier.InputFeatures object at 0x7ff4044df898>, <bert.run_classifier.InputFeatures object at 0x7ff4044dff98>, <bert.run_classifier.InputFeatures object at 0x7ff4044df470>, <bert.run_classifier.InputFeatures object at 0x7ff4044df588>, <bert.run_classifier.InputFeatures object at 0x7ff4044dfeb8>, <bert.run_classifier.InputFeatures object at 0x7ff4044dfef0>, <bert.run_classifier.InputFeatures object at 0x7ff4044df9b0>, <bert.run_classifier.InputFeatures object at 0x7ff4044e3160>, <bert.run_classifier.InputFeatures object at 0x7ff4044e3208>, <bert.run_classifier.InputFeatures object at 0x7ff4044e35f8>, <bert.run_classifier.InputFeatures object at 0x7ff4044e34a8>, <bert.run_classifier.InputFeatures object at 0x7ff4044e3470>, <bert.run_classifier.InputFeatures object at 0x7ff4044e3390>, <bert.run_classifier.InputFeatures object at 0x7ff4044e30f0>, <bert.run_classifier.InputFeatures object at 0x7ff4044e35c0>, <bert.run_classifier.InputFeatures object at 0x7ff4044e3048>, <bert.run_classifier.InputFeatures object at 0x7ff4044e3278>, <bert.run_classifier.InputFeatures object at 0x7ff4044e32b0>, <bert.run_classifier.InputFeatures object at 0x7ff4044e3358>, <bert.run_classifier.InputFeatures object at 0x7ff4044e3780>, <bert.run_classifier.InputFeatures object at 0x7ff4044e31d0>, <bert.run_classifier.InputFeatures object at 0x7ff4044e37f0>, <bert.run_classifier.InputFeatures object at 0x7ff4044e38d0>, <bert.run_classifier.InputFeatures object at 0x7ff4044e3908>, <bert.run_classifier.InputFeatures object at 0x7ff4044e3518>, <bert.run_classifier.InputFeatures object at 0x7ff4044e34e0>, <bert.run_classifier.InputFeatures object at 0x7ff4044e39b0>, <bert.run_classifier.InputFeatures object at 0x7ff4044e3898>, <bert.run_classifier.InputFeatures object at 0x7ff4044e3a20>, <bert.run_classifier.InputFeatures object at 0x7ff4044e3240>, <bert.run_classifier.InputFeatures object at 0x7ff4044e3198>, <bert.run_classifier.InputFeatures object at 0x7ff4044e3978>, <bert.run_classifier.InputFeatures object at 0x7ff4044e3588>, <bert.run_classifier.InputFeatures object at 0x7ff4044e3828>, <bert.run_classifier.InputFeatures object at 0x7ff4044e3668>, <bert.run_classifier.InputFeatures object at 0x7ff4044e3550>, <bert.run_classifier.InputFeatures object at 0x7ff4044e32e8>, <bert.run_classifier.InputFeatures object at 0x7ff4044e36a0>, <bert.run_classifier.InputFeatures object at 0x7ff4044e3ba8>, <bert.run_classifier.InputFeatures object at 0x7ff4044e3128>, <bert.run_classifier.InputFeatures object at 0x7ff4044e3b00>, <bert.run_classifier.InputFeatures object at 0x7ff4044e3a58>, <bert.run_classifier.InputFeatures object at 0x7ff4044e3630>, <bert.run_classifier.InputFeatures object at 0x7ff4044e3080>, <bert.run_classifier.InputFeatures object at 0x7ff4044e3710>, <bert.run_classifier.InputFeatures object at 0x7ff4044e3a90>, <bert.run_classifier.InputFeatures object at 0x7ff4044e3ac8>, <bert.run_classifier.InputFeatures object at 0x7ff4044e3438>, <bert.run_classifier.InputFeatures object at 0x7ff4044e36d8>, <bert.run_classifier.InputFeatures object at 0x7ff4044e3eb8>, <bert.run_classifier.InputFeatures object at 0x7ff4044e3dd8>, <bert.run_classifier.InputFeatures object at 0x7ff4044e3b70>, <bert.run_classifier.InputFeatures object at 0x7ff4044e3e10>, <bert.run_classifier.InputFeatures object at 0x7ff4044e3fd0>, <bert.run_classifier.InputFeatures object at 0x7ff4044e3c18>, <bert.run_classifier.InputFeatures object at 0x7ff4044e3d30>, <bert.run_classifier.InputFeatures object at 0x7ff4044e30b8>, <bert.run_classifier.InputFeatures object at 0x7ff4044e3cf8>, <bert.run_classifier.InputFeatures object at 0x7ff4044e3d68>, <bert.run_classifier.InputFeatures object at 0x7ff4044e3c50>, <bert.run_classifier.InputFeatures object at 0x7ff4044e3748>, <bert.run_classifier.InputFeatures object at 0x7ff4044e3cc0>, <bert.run_classifier.InputFeatures object at 0x7ff4044e3860>, <bert.run_classifier.InputFeatures object at 0x7ff4044e3e80>, <bert.run_classifier.InputFeatures object at 0x7ff4044e3f60>, <bert.run_classifier.InputFeatures object at 0x7ff4044e3ef0>, <bert.run_classifier.InputFeatures object at 0x7ff4044e3320>, <bert.run_classifier.InputFeatures object at 0x7ff4044e3940>, <bert.run_classifier.InputFeatures object at 0x7ff4044e3f98>, <bert.run_classifier.InputFeatures object at 0x7ff4044e3da0>, <bert.run_classifier.InputFeatures object at 0x7ff4044e3c88>, <bert.run_classifier.InputFeatures object at 0x7ff4044e3400>, <bert.run_classifier.InputFeatures object at 0x7ff4044e39e8>, <bert.run_classifier.InputFeatures object at 0x7ff4044e33c8>, <bert.run_classifier.InputFeatures object at 0x7ff4044e3f28>, <bert.run_classifier.InputFeatures object at 0x7ff4044e3e48>, <bert.run_classifier.InputFeatures object at 0x7ff4044e3be0>, <bert.run_classifier.InputFeatures object at 0x7ff4044e37b8>, <bert.run_classifier.InputFeatures object at 0x7ff4044e3b38>, <bert.run_classifier.InputFeatures object at 0x7ff4044e9160>, <bert.run_classifier.InputFeatures object at 0x7ff4044e9668>, <bert.run_classifier.InputFeatures object at 0x7ff4044e95c0>, <bert.run_classifier.InputFeatures object at 0x7ff4044e9978>, <bert.run_classifier.InputFeatures object at 0x7ff4044e97b8>, <bert.run_classifier.InputFeatures object at 0x7ff4044e9940>, <bert.run_classifier.InputFeatures object at 0x7ff4044e98d0>, <bert.run_classifier.InputFeatures object at 0x7ff4044e9828>, <bert.run_classifier.InputFeatures object at 0x7ff4044e9320>, <bert.run_classifier.InputFeatures object at 0x7ff4044e9518>, <bert.run_classifier.InputFeatures object at 0x7ff4044e92b0>, <bert.run_classifier.InputFeatures object at 0x7ff4044e9470>, <bert.run_classifier.InputFeatures object at 0x7ff4044e9208>, <bert.run_classifier.InputFeatures object at 0x7ff4044e9898>, <bert.run_classifier.InputFeatures object at 0x7ff4044e91d0>, <bert.run_classifier.InputFeatures object at 0x7ff4044e90b8>, <bert.run_classifier.InputFeatures object at 0x7ff4044e97f0>, <bert.run_classifier.InputFeatures object at 0x7ff4044e9048>, <bert.run_classifier.InputFeatures object at 0x7ff4044e9358>, <bert.run_classifier.InputFeatures object at 0x7ff4044e9390>, <bert.run_classifier.InputFeatures object at 0x7ff4044e96d8>, <bert.run_classifier.InputFeatures object at 0x7ff4044e9b70>, <bert.run_classifier.InputFeatures object at 0x7ff4044e9ba8>, <bert.run_classifier.InputFeatures object at 0x7ff4044e9198>, <bert.run_classifier.InputFeatures object at 0x7ff4044e94e0>, <bert.run_classifier.InputFeatures object at 0x7ff4044e9710>, <bert.run_classifier.InputFeatures object at 0x7ff4044e9b38>, <bert.run_classifier.InputFeatures object at 0x7ff4044e94a8>, <bert.run_classifier.InputFeatures object at 0x7ff4044e92e8>, <bert.run_classifier.InputFeatures object at 0x7ff4044e9a20>, <bert.run_classifier.InputFeatures object at 0x7ff4044e9550>, <bert.run_classifier.InputFeatures object at 0x7ff4044e96a0>, <bert.run_classifier.InputFeatures object at 0x7ff4044e9dd8>, <bert.run_classifier.InputFeatures object at 0x7ff4044e9c18>, <bert.run_classifier.InputFeatures object at 0x7ff4044e9630>, <bert.run_classifier.InputFeatures object at 0x7ff4044e9080>, <bert.run_classifier.InputFeatures object at 0x7ff4044e9128>, <bert.run_classifier.InputFeatures object at 0x7ff4044e95f8>, <bert.run_classifier.InputFeatures object at 0x7ff4044e9b00>, <bert.run_classifier.InputFeatures object at 0x7ff4044e9a58>, <bert.run_classifier.InputFeatures object at 0x7ff4044e9278>, <bert.run_classifier.InputFeatures object at 0x7ff4044e9d30>, <bert.run_classifier.InputFeatures object at 0x7ff4044e9da0>, <bert.run_classifier.InputFeatures object at 0x7ff4044e99e8>, <bert.run_classifier.InputFeatures object at 0x7ff4044e9e10>, <bert.run_classifier.InputFeatures object at 0x7ff4044e9780>, <bert.run_classifier.InputFeatures object at 0x7ff4044e9ef0>, <bert.run_classifier.InputFeatures object at 0x7ff4044e9fd0>, <bert.run_classifier.InputFeatures object at 0x7ff4044e9d68>, <bert.run_classifier.InputFeatures object at 0x7ff4044e9748>, <bert.run_classifier.InputFeatures object at 0x7ff4044e9588>, <bert.run_classifier.InputFeatures object at 0x7ff4044e99b0>, <bert.run_classifier.InputFeatures object at 0x7ff4044e9438>, <bert.run_classifier.InputFeatures object at 0x7ff4044e9cc0>, <bert.run_classifier.InputFeatures object at 0x7ff4044e9f28>, <bert.run_classifier.InputFeatures object at 0x7ff4044e9400>, <bert.run_classifier.InputFeatures object at 0x7ff4044e9eb8>, <bert.run_classifier.InputFeatures object at 0x7ff4044e9be0>, <bert.run_classifier.InputFeatures object at 0x7ff4044e9a90>, <bert.run_classifier.InputFeatures object at 0x7ff4044e9c88>, <bert.run_classifier.InputFeatures object at 0x7ff4044e9f60>, <bert.run_classifier.InputFeatures object at 0x7ff4044e9240>, <bert.run_classifier.InputFeatures object at 0x7ff4044e9cf8>, <bert.run_classifier.InputFeatures object at 0x7ff4044e9ac8>, <bert.run_classifier.InputFeatures object at 0x7ff4044e9f98>, <bert.run_classifier.InputFeatures object at 0x7ff4044e93c8>, <bert.run_classifier.InputFeatures object at 0x7ff4044e9908>, <bert.run_classifier.InputFeatures object at 0x7ff4044e90f0>, <bert.run_classifier.InputFeatures object at 0x7ff4044e9e80>, <bert.run_classifier.InputFeatures object at 0x7ff4044e9c50>, <bert.run_classifier.InputFeatures object at 0x7ff4044e9860>, <bert.run_classifier.InputFeatures object at 0x7ff4044e9e48>, <bert.run_classifier.InputFeatures object at 0x7ff462e594e0>, <bert.run_classifier.InputFeatures object at 0x7ff462e591d0>, <bert.run_classifier.InputFeatures object at 0x7ff462e59080>, <bert.run_classifier.InputFeatures object at 0x7ff462e59550>, <bert.run_classifier.InputFeatures object at 0x7ff462e593c8>, <bert.run_classifier.InputFeatures object at 0x7ff462e59048>, <bert.run_classifier.InputFeatures object at 0x7ff462e59390>, <bert.run_classifier.InputFeatures object at 0x7ff462e59240>, <bert.run_classifier.InputFeatures object at 0x7ff462e59160>, <bert.run_classifier.InputFeatures object at 0x7ff462e59470>, <bert.run_classifier.InputFeatures object at 0x7ff462e59518>, <bert.run_classifier.InputFeatures object at 0x7ff462e590b8>, <bert.run_classifier.InputFeatures object at 0x7ff462e590f0>, <bert.run_classifier.InputFeatures object at 0x7ff462e592e8>, <bert.run_classifier.InputFeatures object at 0x7ff462e597f0>, <bert.run_classifier.InputFeatures object at 0x7ff462e59588>, <bert.run_classifier.InputFeatures object at 0x7ff462e59630>, <bert.run_classifier.InputFeatures object at 0x7ff462e59898>, <bert.run_classifier.InputFeatures object at 0x7ff462e59b70>, <bert.run_classifier.InputFeatures object at 0x7ff462e59b00>, <bert.run_classifier.InputFeatures object at 0x7ff462e59860>, <bert.run_classifier.InputFeatures object at 0x7ff462e59780>, <bert.run_classifier.InputFeatures object at 0x7ff462e59198>, <bert.run_classifier.InputFeatures object at 0x7ff462e59400>, <bert.run_classifier.InputFeatures object at 0x7ff462e59a90>, <bert.run_classifier.InputFeatures object at 0x7ff462e599e8>, <bert.run_classifier.InputFeatures object at 0x7ff462e59a20>, <bert.run_classifier.InputFeatures object at 0x7ff462e59940>, <bert.run_classifier.InputFeatures object at 0x7ff462e595f8>, <bert.run_classifier.InputFeatures object at 0x7ff462e59dd8>, <bert.run_classifier.InputFeatures object at 0x7ff462e59da0>, <bert.run_classifier.InputFeatures object at 0x7ff462e59e48>, <bert.run_classifier.InputFeatures object at 0x7ff462e59278>, <bert.run_classifier.InputFeatures object at 0x7ff462e59cf8>, <bert.run_classifier.InputFeatures object at 0x7ff462e59748>, <bert.run_classifier.InputFeatures object at 0x7ff462e59668>, <bert.run_classifier.InputFeatures object at 0x7ff462e59828>, <bert.run_classifier.InputFeatures object at 0x7ff462e596a0>, <bert.run_classifier.InputFeatures object at 0x7ff462e598d0>, <bert.run_classifier.InputFeatures object at 0x7ff462e59c50>, <bert.run_classifier.InputFeatures object at 0x7ff462e594a8>, <bert.run_classifier.InputFeatures object at 0x7ff462e59358>, <bert.run_classifier.InputFeatures object at 0x7ff462e59ef0>, <bert.run_classifier.InputFeatures object at 0x7ff462e59f28>, <bert.run_classifier.InputFeatures object at 0x7ff462e59320>, <bert.run_classifier.InputFeatures object at 0x7ff462e597b8>, <bert.run_classifier.InputFeatures object at 0x7ff462e59c18>, <bert.run_classifier.InputFeatures object at 0x7ff462e59cc0>, <bert.run_classifier.InputFeatures object at 0x7ff462e59fd0>, <bert.run_classifier.InputFeatures object at 0x7ff462e59128>, <bert.run_classifier.InputFeatures object at 0x7ff462e59f60>, <bert.run_classifier.InputFeatures object at 0x7ff462e59978>, <bert.run_classifier.InputFeatures object at 0x7ff462e59d30>, <bert.run_classifier.InputFeatures object at 0x7ff462e59f98>, <bert.run_classifier.InputFeatures object at 0x7ff462e59e80>, <bert.run_classifier.InputFeatures object at 0x7ff462e59a58>, <bert.run_classifier.InputFeatures object at 0x7ff462e59ac8>, <bert.run_classifier.InputFeatures object at 0x7ff462e59eb8>, <bert.run_classifier.InputFeatures object at 0x7ff462e59ba8>, <bert.run_classifier.InputFeatures object at 0x7ff462e59208>, <bert.run_classifier.InputFeatures object at 0x7ff462e59c88>, <bert.run_classifier.InputFeatures object at 0x7ff462e59b38>, <bert.run_classifier.InputFeatures object at 0x7ff462e59be0>, <bert.run_classifier.InputFeatures object at 0x7ff462e59e10>, <bert.run_classifier.InputFeatures object at 0x7ff462e59d68>, <bert.run_classifier.InputFeatures object at 0x7ff462e592b0>, <bert.run_classifier.InputFeatures object at 0x7ff462e59710>, <bert.run_classifier.InputFeatures object at 0x7ff462e599b0>, <bert.run_classifier.InputFeatures object at 0x7ff462e595c0>, <bert.run_classifier.InputFeatures object at 0x7ff462e59908>, <bert.run_classifier.InputFeatures object at 0x7ff462e596d8>, <bert.run_classifier.InputFeatures object at 0x7ff462e59438>, <bert.run_classifier.InputFeatures object at 0x7ff4044f10b8>, <bert.run_classifier.InputFeatures object at 0x7ff4044f1668>, <bert.run_classifier.InputFeatures object at 0x7ff4044f17f0>, <bert.run_classifier.InputFeatures object at 0x7ff4044f1470>, <bert.run_classifier.InputFeatures object at 0x7ff4044f15f8>, <bert.run_classifier.InputFeatures object at 0x7ff4044f1198>, <bert.run_classifier.InputFeatures object at 0x7ff4044f1358>, <bert.run_classifier.InputFeatures object at 0x7ff4044f1860>, <bert.run_classifier.InputFeatures object at 0x7ff4044f10f0>, <bert.run_classifier.InputFeatures object at 0x7ff4044f1278>, <bert.run_classifier.InputFeatures object at 0x7ff4044f1240>, <bert.run_classifier.InputFeatures object at 0x7ff4044f16d8>, <bert.run_classifier.InputFeatures object at 0x7ff4044f1080>, <bert.run_classifier.InputFeatures object at 0x7ff4044f1438>, <bert.run_classifier.InputFeatures object at 0x7ff4044f1780>, <bert.run_classifier.InputFeatures object at 0x7ff4044f1550>, <bert.run_classifier.InputFeatures object at 0x7ff4044f1908>, <bert.run_classifier.InputFeatures object at 0x7ff4044f1a90>, <bert.run_classifier.InputFeatures object at 0x7ff4044f1390>, <bert.run_classifier.InputFeatures object at 0x7ff4044f1b00>, <bert.run_classifier.InputFeatures object at 0x7ff4044f19e8>, <bert.run_classifier.InputFeatures object at 0x7ff4044f18d0>, <bert.run_classifier.InputFeatures object at 0x7ff4044f1a20>, <bert.run_classifier.InputFeatures object at 0x7ff4044f1be0>, <bert.run_classifier.InputFeatures object at 0x7ff4044f1b70>, <bert.run_classifier.InputFeatures object at 0x7ff4044f11d0>, <bert.run_classifier.InputFeatures object at 0x7ff4044f1c88>, <bert.run_classifier.InputFeatures object at 0x7ff4044f14a8>, <bert.run_classifier.InputFeatures object at 0x7ff4044f1c50>, <bert.run_classifier.InputFeatures object at 0x7ff4044f17b8>, <bert.run_classifier.InputFeatures object at 0x7ff4044f13c8>, <bert.run_classifier.InputFeatures object at 0x7ff4044f1748>, <bert.run_classifier.InputFeatures object at 0x7ff4044f1128>, <bert.run_classifier.InputFeatures object at 0x7ff4044f1048>, <bert.run_classifier.InputFeatures object at 0x7ff4044f1710>, <bert.run_classifier.InputFeatures object at 0x7ff4044f12e8>, <bert.run_classifier.InputFeatures object at 0x7ff4044f1b38>, <bert.run_classifier.InputFeatures object at 0x7ff4044f16a0>, <bert.run_classifier.InputFeatures object at 0x7ff4044f1cf8>, <bert.run_classifier.InputFeatures object at 0x7ff4044f1e10>, <bert.run_classifier.InputFeatures object at 0x7ff4044f1f98>, <bert.run_classifier.InputFeatures object at 0x7ff4044f1d30>, <bert.run_classifier.InputFeatures object at 0x7ff4044f1588>, <bert.run_classifier.InputFeatures object at 0x7ff4044f19b0>, <bert.run_classifier.InputFeatures object at 0x7ff4044f1ba8>, <bert.run_classifier.InputFeatures object at 0x7ff4044f12b0>, <bert.run_classifier.InputFeatures object at 0x7ff4044f1208>, <bert.run_classifier.InputFeatures object at 0x7ff4044f1c18>, <bert.run_classifier.InputFeatures object at 0x7ff4044f1d68>, <bert.run_classifier.InputFeatures object at 0x7ff4044f1978>, <bert.run_classifier.InputFeatures object at 0x7ff4044f1dd8>, <bert.run_classifier.InputFeatures object at 0x7ff4044f1ef0>, <bert.run_classifier.InputFeatures object at 0x7ff4044f1cc0>, <bert.run_classifier.InputFeatures object at 0x7ff4044f1ac8>, <bert.run_classifier.InputFeatures object at 0x7ff4044f1da0>, <bert.run_classifier.InputFeatures object at 0x7ff4044f1a58>, <bert.run_classifier.InputFeatures object at 0x7ff4044f1e48>, <bert.run_classifier.InputFeatures object at 0x7ff4044f1e80>, <bert.run_classifier.InputFeatures object at 0x7ff4044f1828>, <bert.run_classifier.InputFeatures object at 0x7ff4044f1940>, <bert.run_classifier.InputFeatures object at 0x7ff4044f1320>, <bert.run_classifier.InputFeatures object at 0x7ff4044f14e0>, <bert.run_classifier.InputFeatures object at 0x7ff4044f1fd0>, <bert.run_classifier.InputFeatures object at 0x7ff4044f15c0>, <bert.run_classifier.InputFeatures object at 0x7ff4044f1400>, <bert.run_classifier.InputFeatures object at 0x7ff4044f1630>, <bert.run_classifier.InputFeatures object at 0x7ff4044f1f28>, <bert.run_classifier.InputFeatures object at 0x7ff4044f1eb8>, <bert.run_classifier.InputFeatures object at 0x7ff4044f1518>, <bert.run_classifier.InputFeatures object at 0x7ff4044f1160>, <bert.run_classifier.InputFeatures object at 0x7ff4044f1898>, <bert.run_classifier.InputFeatures object at 0x7ff4044f1f60>, <bert.run_classifier.InputFeatures object at 0x7ff462e4b2e8>, <bert.run_classifier.InputFeatures object at 0x7ff462e4b518>, <bert.run_classifier.InputFeatures object at 0x7ff462e4b0b8>, <bert.run_classifier.InputFeatures object at 0x7ff462e4b630>, <bert.run_classifier.InputFeatures object at 0x7ff462e4b198>, <bert.run_classifier.InputFeatures object at 0x7ff462e4b358>, <bert.run_classifier.InputFeatures object at 0x7ff462e4b128>, <bert.run_classifier.InputFeatures object at 0x7ff462e4b860>, <bert.run_classifier.InputFeatures object at 0x7ff462e4b4e0>, <bert.run_classifier.InputFeatures object at 0x7ff462e4b668>, <bert.run_classifier.InputFeatures object at 0x7ff462e4b160>, <bert.run_classifier.InputFeatures object at 0x7ff462e4b240>, <bert.run_classifier.InputFeatures object at 0x7ff462e4b4a8>, <bert.run_classifier.InputFeatures object at 0x7ff462e4b828>, <bert.run_classifier.InputFeatures object at 0x7ff462e4b6a0>, <bert.run_classifier.InputFeatures object at 0x7ff462e4b470>, <bert.run_classifier.InputFeatures object at 0x7ff462e4b320>, <bert.run_classifier.InputFeatures object at 0x7ff462e4b550>, <bert.run_classifier.InputFeatures object at 0x7ff462e4b8d0>, <bert.run_classifier.InputFeatures object at 0x7ff462e4b9b0>, <bert.run_classifier.InputFeatures object at 0x7ff462e4b978>, <bert.run_classifier.InputFeatures object at 0x7ff462e4b0f0>, <bert.run_classifier.InputFeatures object at 0x7ff462e4b710>, <bert.run_classifier.InputFeatures object at 0x7ff462e4b9e8>, <bert.run_classifier.InputFeatures object at 0x7ff462e4b3c8>, <bert.run_classifier.InputFeatures object at 0x7ff462e4b908>, <bert.run_classifier.InputFeatures object at 0x7ff462e4b438>, <bert.run_classifier.InputFeatures object at 0x7ff462e4b1d0>, <bert.run_classifier.InputFeatures object at 0x7ff462e4b080>, <bert.run_classifier.InputFeatures object at 0x7ff462e4bb38>, <bert.run_classifier.InputFeatures object at 0x7ff462e4bc18>, <bert.run_classifier.InputFeatures object at 0x7ff462e4bda0>, <bert.run_classifier.InputFeatures object at 0x7ff462e4bb70>, <bert.run_classifier.InputFeatures object at 0x7ff462e4b588>, <bert.run_classifier.InputFeatures object at 0x7ff462e4bcf8>, <bert.run_classifier.InputFeatures object at 0x7ff462e4b390>, <bert.run_classifier.InputFeatures object at 0x7ff462e4bba8>, <bert.run_classifier.InputFeatures object at 0x7ff462e4bb00>, <bert.run_classifier.InputFeatures object at 0x7ff462e4b2b0>, <bert.run_classifier.InputFeatures object at 0x7ff462e4bbe0>, <bert.run_classifier.InputFeatures object at 0x7ff462e4bd30>, <bert.run_classifier.InputFeatures object at 0x7ff462e4b748>, <bert.run_classifier.InputFeatures object at 0x7ff462e4b278>, <bert.run_classifier.InputFeatures object at 0x7ff462e4bd68>, <bert.run_classifier.InputFeatures object at 0x7ff462e4bfd0>, <bert.run_classifier.InputFeatures object at 0x7ff462e4bdd8>, <bert.run_classifier.InputFeatures object at 0x7ff462e4ba90>, <bert.run_classifier.InputFeatures object at 0x7ff462e4bac8>, <bert.run_classifier.InputFeatures object at 0x7ff462e4bef0>, <bert.run_classifier.InputFeatures object at 0x7ff462e4b780>, <bert.run_classifier.InputFeatures object at 0x7ff462e4beb8>, <bert.run_classifier.InputFeatures object at 0x7ff462e4b5f8>, <bert.run_classifier.InputFeatures object at 0x7ff462e4b208>, <bert.run_classifier.InputFeatures object at 0x7ff462e4bf60>, <bert.run_classifier.InputFeatures object at 0x7ff462e4b5c0>, <bert.run_classifier.InputFeatures object at 0x7ff462e4b898>, <bert.run_classifier.InputFeatures object at 0x7ff462e4be48>, <bert.run_classifier.InputFeatures object at 0x7ff462e4ba20>, <bert.run_classifier.InputFeatures object at 0x7ff462e4be80>, <bert.run_classifier.InputFeatures object at 0x7ff462e4b7b8>, <bert.run_classifier.InputFeatures object at 0x7ff462e4b048>, <bert.run_classifier.InputFeatures object at 0x7ff462e4ba58>, <bert.run_classifier.InputFeatures object at 0x7ff462e4bf28>, <bert.run_classifier.InputFeatures object at 0x7ff462e4bf98>, <bert.run_classifier.InputFeatures object at 0x7ff462e4bc50>, <bert.run_classifier.InputFeatures object at 0x7ff462e4b400>, <bert.run_classifier.InputFeatures object at 0x7ff462e4b940>, <bert.run_classifier.InputFeatures object at 0x7ff462e4bcc0>, <bert.run_classifier.InputFeatures object at 0x7ff462e4b6d8>, <bert.run_classifier.InputFeatures object at 0x7ff462e4b7f0>, <bert.run_classifier.InputFeatures object at 0x7ff462e4bc88>, <bert.run_classifier.InputFeatures object at 0x7ff462e4be10>, <bert.run_classifier.InputFeatures object at 0x7ff404479128>, <bert.run_classifier.InputFeatures object at 0x7ff404479438>, <bert.run_classifier.InputFeatures object at 0x7ff404479748>, <bert.run_classifier.InputFeatures object at 0x7ff4044795f8>, <bert.run_classifier.InputFeatures object at 0x7ff404479208>, <bert.run_classifier.InputFeatures object at 0x7ff4044790f0>, <bert.run_classifier.InputFeatures object at 0x7ff404479780>, <bert.run_classifier.InputFeatures object at 0x7ff404479630>, <bert.run_classifier.InputFeatures object at 0x7ff4044792b0>, <bert.run_classifier.InputFeatures object at 0x7ff404479390>, <bert.run_classifier.InputFeatures object at 0x7ff4044795c0>, <bert.run_classifier.InputFeatures object at 0x7ff404479940>, <bert.run_classifier.InputFeatures object at 0x7ff404479240>, <bert.run_classifier.InputFeatures object at 0x7ff4044794e0>, <bert.run_classifier.InputFeatures object at 0x7ff404479550>, <bert.run_classifier.InputFeatures object at 0x7ff4044798d0>, <bert.run_classifier.InputFeatures object at 0x7ff404479048>, <bert.run_classifier.InputFeatures object at 0x7ff404479320>, <bert.run_classifier.InputFeatures object at 0x7ff404479518>, <bert.run_classifier.InputFeatures object at 0x7ff4044791d0>, <bert.run_classifier.InputFeatures object at 0x7ff4044790b8>, <bert.run_classifier.InputFeatures object at 0x7ff404479b70>, <bert.run_classifier.InputFeatures object at 0x7ff404479080>, <bert.run_classifier.InputFeatures object at 0x7ff404479668>, <bert.run_classifier.InputFeatures object at 0x7ff404479588>, <bert.run_classifier.InputFeatures object at 0x7ff4044793c8>, <bert.run_classifier.InputFeatures object at 0x7ff404479710>, <bert.run_classifier.InputFeatures object at 0x7ff404479ac8>, <bert.run_classifier.InputFeatures object at 0x7ff404479c18>, <bert.run_classifier.InputFeatures object at 0x7ff404479278>, <bert.run_classifier.InputFeatures object at 0x7ff404479cc0>, <bert.run_classifier.InputFeatures object at 0x7ff4044794a8>, <bert.run_classifier.InputFeatures object at 0x7ff404479a20>, <bert.run_classifier.InputFeatures object at 0x7ff404479b38>, <bert.run_classifier.InputFeatures object at 0x7ff404479b00>, <bert.run_classifier.InputFeatures object at 0x7ff404479908>, <bert.run_classifier.InputFeatures object at 0x7ff4044797b8>, <bert.run_classifier.InputFeatures object at 0x7ff404479978>, <bert.run_classifier.InputFeatures object at 0x7ff404479a58>, <bert.run_classifier.InputFeatures object at 0x7ff404479160>, <bert.run_classifier.InputFeatures object at 0x7ff404479e48>, <bert.run_classifier.InputFeatures object at 0x7ff404479860>, <bert.run_classifier.InputFeatures object at 0x7ff404479470>, <bert.run_classifier.InputFeatures object at 0x7ff404479898>, <bert.run_classifier.InputFeatures object at 0x7ff404479d30>, <bert.run_classifier.InputFeatures object at 0x7ff404479be0>, <bert.run_classifier.InputFeatures object at 0x7ff404479828>, <bert.run_classifier.InputFeatures object at 0x7ff404479d68>, <bert.run_classifier.InputFeatures object at 0x7ff4044797f0>, <bert.run_classifier.InputFeatures object at 0x7ff4044796d8>, <bert.run_classifier.InputFeatures object at 0x7ff404479cf8>, <bert.run_classifier.InputFeatures object at 0x7ff4044799e8>, <bert.run_classifier.InputFeatures object at 0x7ff4044792e8>, <bert.run_classifier.InputFeatures object at 0x7ff404479f28>, <bert.run_classifier.InputFeatures object at 0x7ff404479fd0>, <bert.run_classifier.InputFeatures object at 0x7ff404479c50>, <bert.run_classifier.InputFeatures object at 0x7ff404479eb8>, <bert.run_classifier.InputFeatures object at 0x7ff404479da0>, <bert.run_classifier.InputFeatures object at 0x7ff404479ef0>, <bert.run_classifier.InputFeatures object at 0x7ff404479e80>, <bert.run_classifier.InputFeatures object at 0x7ff404479358>, <bert.run_classifier.InputFeatures object at 0x7ff404479dd8>, <bert.run_classifier.InputFeatures object at 0x7ff404479f60>, <bert.run_classifier.InputFeatures object at 0x7ff404479400>, <bert.run_classifier.InputFeatures object at 0x7ff404479f98>, <bert.run_classifier.InputFeatures object at 0x7ff404479ba8>, <bert.run_classifier.InputFeatures object at 0x7ff404479e10>, <bert.run_classifier.InputFeatures object at 0x7ff404479c88>, <bert.run_classifier.InputFeatures object at 0x7ff404479198>, <bert.run_classifier.InputFeatures object at 0x7ff4044799b0>, <bert.run_classifier.InputFeatures object at 0x7ff404479a90>, <bert.run_classifier.InputFeatures object at 0x7ff4044796a0>, <bert.run_classifier.InputFeatures object at 0x7ff404480240>, <bert.run_classifier.InputFeatures object at 0x7ff404480518>, <bert.run_classifier.InputFeatures object at 0x7ff404480198>, <bert.run_classifier.InputFeatures object at 0x7ff404480470>, <bert.run_classifier.InputFeatures object at 0x7ff404480710>, <bert.run_classifier.InputFeatures object at 0x7ff4044800f0>, <bert.run_classifier.InputFeatures object at 0x7ff404480128>, <bert.run_classifier.InputFeatures object at 0x7ff4044803c8>, <bert.run_classifier.InputFeatures object at 0x7ff404480630>, <bert.run_classifier.InputFeatures object at 0x7ff404480080>, <bert.run_classifier.InputFeatures object at 0x7ff404480160>, <bert.run_classifier.InputFeatures object at 0x7ff404480278>, <bert.run_classifier.InputFeatures object at 0x7ff4044808d0>, <bert.run_classifier.InputFeatures object at 0x7ff404480908>, <bert.run_classifier.InputFeatures object at 0x7ff404480940>, <bert.run_classifier.InputFeatures object at 0x7ff404480748>, <bert.run_classifier.InputFeatures object at 0x7ff4044809b0>, <bert.run_classifier.InputFeatures object at 0x7ff404480390>, <bert.run_classifier.InputFeatures object at 0x7ff4044801d0>, <bert.run_classifier.InputFeatures object at 0x7ff404480a58>, <bert.run_classifier.InputFeatures object at 0x7ff404480208>, <bert.run_classifier.InputFeatures object at 0x7ff404480ac8>, <bert.run_classifier.InputFeatures object at 0x7ff404480b00>, <bert.run_classifier.InputFeatures object at 0x7ff4044806d8>, <bert.run_classifier.InputFeatures object at 0x7ff404480a90>, <bert.run_classifier.InputFeatures object at 0x7ff4044806a0>, <bert.run_classifier.InputFeatures object at 0x7ff404480b38>, <bert.run_classifier.InputFeatures object at 0x7ff404480668>, <bert.run_classifier.InputFeatures object at 0x7ff4044804e0>, <bert.run_classifier.InputFeatures object at 0x7ff4044805c0>, <bert.run_classifier.InputFeatures object at 0x7ff4044805f8>, <bert.run_classifier.InputFeatures object at 0x7ff404480c50>, <bert.run_classifier.InputFeatures object at 0x7ff4044802b0>, <bert.run_classifier.InputFeatures object at 0x7ff4044807f0>, <bert.run_classifier.InputFeatures object at 0x7ff404480400>, <bert.run_classifier.InputFeatures object at 0x7ff404480780>, <bert.run_classifier.InputFeatures object at 0x7ff404480860>, <bert.run_classifier.InputFeatures object at 0x7ff404480c88>, <bert.run_classifier.InputFeatures object at 0x7ff404480b70>, <bert.run_classifier.InputFeatures object at 0x7ff4044809e8>, <bert.run_classifier.InputFeatures object at 0x7ff404480550>, <bert.run_classifier.InputFeatures object at 0x7ff4044807b8>, <bert.run_classifier.InputFeatures object at 0x7ff4044802e8>, <bert.run_classifier.InputFeatures object at 0x7ff404480eb8>, <bert.run_classifier.InputFeatures object at 0x7ff404480cf8>, <bert.run_classifier.InputFeatures object at 0x7ff404480d68>, <bert.run_classifier.InputFeatures object at 0x7ff4044800b8>, <bert.run_classifier.InputFeatures object at 0x7ff404480588>, <bert.run_classifier.InputFeatures object at 0x7ff404480978>, <bert.run_classifier.InputFeatures object at 0x7ff404480a20>, <bert.run_classifier.InputFeatures object at 0x7ff404480e10>, <bert.run_classifier.InputFeatures object at 0x7ff404480fd0>, <bert.run_classifier.InputFeatures object at 0x7ff404480cc0>, <bert.run_classifier.InputFeatures object at 0x7ff404480be0>, <bert.run_classifier.InputFeatures object at 0x7ff4044804a8>, <bert.run_classifier.InputFeatures object at 0x7ff404480da0>, <bert.run_classifier.InputFeatures object at 0x7ff404480828>, <bert.run_classifier.InputFeatures object at 0x7ff404480e48>, <bert.run_classifier.InputFeatures object at 0x7ff404480e80>, <bert.run_classifier.InputFeatures object at 0x7ff404480f60>, <bert.run_classifier.InputFeatures object at 0x7ff404480898>, <bert.run_classifier.InputFeatures object at 0x7ff404480c18>, <bert.run_classifier.InputFeatures object at 0x7ff404480dd8>, <bert.run_classifier.InputFeatures object at 0x7ff404480ba8>, <bert.run_classifier.InputFeatures object at 0x7ff404480f98>, <bert.run_classifier.InputFeatures object at 0x7ff404480ef0>, <bert.run_classifier.InputFeatures object at 0x7ff404480358>, <bert.run_classifier.InputFeatures object at 0x7ff404480320>, <bert.run_classifier.InputFeatures object at 0x7ff404480438>, <bert.run_classifier.InputFeatures object at 0x7ff404480d30>, <bert.run_classifier.InputFeatures object at 0x7ff404480f28>, <bert.run_classifier.InputFeatures object at 0x7ff404480048>, <bert.run_classifier.InputFeatures object at 0x7ff4044864e0>, <bert.run_classifier.InputFeatures object at 0x7ff404486208>, <bert.run_classifier.InputFeatures object at 0x7ff404486438>, <bert.run_classifier.InputFeatures object at 0x7ff404486080>, <bert.run_classifier.InputFeatures object at 0x7ff4044864a8>, <bert.run_classifier.InputFeatures object at 0x7ff404486048>, <bert.run_classifier.InputFeatures object at 0x7ff404486278>, <bert.run_classifier.InputFeatures object at 0x7ff4044861d0>, <bert.run_classifier.InputFeatures object at 0x7ff4044863c8>, <bert.run_classifier.InputFeatures object at 0x7ff404486828>, <bert.run_classifier.InputFeatures object at 0x7ff404486860>, <bert.run_classifier.InputFeatures object at 0x7ff4044860f0>, <bert.run_classifier.InputFeatures object at 0x7ff404486710>, <bert.run_classifier.InputFeatures object at 0x7ff404486390>, <bert.run_classifier.InputFeatures object at 0x7ff404486940>, <bert.run_classifier.InputFeatures object at 0x7ff404486400>, <bert.run_classifier.InputFeatures object at 0x7ff404486cf8>, <bert.run_classifier.InputFeatures object at 0x7ff404486240>, <bert.run_classifier.InputFeatures object at 0x7ff404486be0>, <bert.run_classifier.InputFeatures object at 0x7ff4044867f0>, <bert.run_classifier.InputFeatures object at 0x7ff404486b38>, <bert.run_classifier.InputFeatures object at 0x7ff404486cc0>, <bert.run_classifier.InputFeatures object at 0x7ff404486ba8>, <bert.run_classifier.InputFeatures object at 0x7ff404486748>, <bert.run_classifier.InputFeatures object at 0x7ff404486c50>, <bert.run_classifier.InputFeatures object at 0x7ff404486c88>, <bert.run_classifier.InputFeatures object at 0x7ff404486518>, <bert.run_classifier.InputFeatures object at 0x7ff404486128>, <bert.run_classifier.InputFeatures object at 0x7ff404486630>, <bert.run_classifier.InputFeatures object at 0x7ff4044865c0>, <bert.run_classifier.InputFeatures object at 0x7ff4044865f8>, <bert.run_classifier.InputFeatures object at 0x7ff404486a20>, <bert.run_classifier.InputFeatures object at 0x7ff404486668>, <bert.run_classifier.InputFeatures object at 0x7ff4044869b0>, <bert.run_classifier.InputFeatures object at 0x7ff404486d30>, <bert.run_classifier.InputFeatures object at 0x7ff4044860b8>, <bert.run_classifier.InputFeatures object at 0x7ff404486ac8>, <bert.run_classifier.InputFeatures object at 0x7ff404486550>, <bert.run_classifier.InputFeatures object at 0x7ff404486160>, <bert.run_classifier.InputFeatures object at 0x7ff404486eb8>, <bert.run_classifier.InputFeatures object at 0x7ff4044868d0>, <bert.run_classifier.InputFeatures object at 0x7ff404486e48>, <bert.run_classifier.InputFeatures object at 0x7ff4044866a0>, <bert.run_classifier.InputFeatures object at 0x7ff404486dd8>, <bert.run_classifier.InputFeatures object at 0x7ff404486908>, <bert.run_classifier.InputFeatures object at 0x7ff404486e10>, <bert.run_classifier.InputFeatures object at 0x7ff404486470>, <bert.run_classifier.InputFeatures object at 0x7ff404486f98>, <bert.run_classifier.InputFeatures object at 0x7ff404486b70>, <bert.run_classifier.InputFeatures object at 0x7ff404486f28>, <bert.run_classifier.InputFeatures object at 0x7ff404486f60>, <bert.run_classifier.InputFeatures object at 0x7ff404486c18>, <bert.run_classifier.InputFeatures object at 0x7ff4044862e8>, <bert.run_classifier.InputFeatures object at 0x7ff4044866d8>, <bert.run_classifier.InputFeatures object at 0x7ff404486ef0>, <bert.run_classifier.InputFeatures object at 0x7ff404486a58>, <bert.run_classifier.InputFeatures object at 0x7ff404486780>, <bert.run_classifier.InputFeatures object at 0x7ff404486e80>, <bert.run_classifier.InputFeatures object at 0x7ff4044869e8>, <bert.run_classifier.InputFeatures object at 0x7ff404486198>, <bert.run_classifier.InputFeatures object at 0x7ff404486978>, <bert.run_classifier.InputFeatures object at 0x7ff404486da0>, <bert.run_classifier.InputFeatures object at 0x7ff404486d68>, <bert.run_classifier.InputFeatures object at 0x7ff404486898>, <bert.run_classifier.InputFeatures object at 0x7ff404486320>, <bert.run_classifier.InputFeatures object at 0x7ff404486b00>, <bert.run_classifier.InputFeatures object at 0x7ff404486a90>, <bert.run_classifier.InputFeatures object at 0x7ff404486588>, <bert.run_classifier.InputFeatures object at 0x7ff404486fd0>, <bert.run_classifier.InputFeatures object at 0x7ff4044867b8>, <bert.run_classifier.InputFeatures object at 0x7ff404486358>, <bert.run_classifier.InputFeatures object at 0x7ff4044862b0>, <bert.run_classifier.InputFeatures object at 0x7ff40448d780>, <bert.run_classifier.InputFeatures object at 0x7ff40448d588>, <bert.run_classifier.InputFeatures object at 0x7ff40448d6d8>, <bert.run_classifier.InputFeatures object at 0x7ff40448d5c0>, <bert.run_classifier.InputFeatures object at 0x7ff40448d208>, <bert.run_classifier.InputFeatures object at 0x7ff40448d518>, <bert.run_classifier.InputFeatures object at 0x7ff40448d128>, <bert.run_classifier.InputFeatures object at 0x7ff40448d668>, <bert.run_classifier.InputFeatures object at 0x7ff40448d2e8>, <bert.run_classifier.InputFeatures object at 0x7ff40448d828>, <bert.run_classifier.InputFeatures object at 0x7ff40448d278>, <bert.run_classifier.InputFeatures object at 0x7ff40448d7b8>, <bert.run_classifier.InputFeatures object at 0x7ff40448d5f8>, <bert.run_classifier.InputFeatures object at 0x7ff40448d4e0>, <bert.run_classifier.InputFeatures object at 0x7ff40448d898>, <bert.run_classifier.InputFeatures object at 0x7ff40448d860>, <bert.run_classifier.InputFeatures object at 0x7ff40448d198>, <bert.run_classifier.InputFeatures object at 0x7ff40448da90>, <bert.run_classifier.InputFeatures object at 0x7ff40448d978>, <bert.run_classifier.InputFeatures object at 0x7ff40448d630>, <bert.run_classifier.InputFeatures object at 0x7ff40448d358>, <bert.run_classifier.InputFeatures object at 0x7ff40448d438>, <bert.run_classifier.InputFeatures object at 0x7ff40448d048>, <bert.run_classifier.InputFeatures object at 0x7ff40448d6a0>, <bert.run_classifier.InputFeatures object at 0x7ff40448d0f0>, <bert.run_classifier.InputFeatures object at 0x7ff40448d7f0>, <bert.run_classifier.InputFeatures object at 0x7ff40448d160>, <bert.run_classifier.InputFeatures object at 0x7ff40448dc18>, <bert.run_classifier.InputFeatures object at 0x7ff40448def0>, <bert.run_classifier.InputFeatures object at 0x7ff40448d4a8>, <bert.run_classifier.InputFeatures object at 0x7ff40448dbe0>, <bert.run_classifier.InputFeatures object at 0x7ff40448de48>, <bert.run_classifier.InputFeatures object at 0x7ff40448d320>, <bert.run_classifier.InputFeatures object at 0x7ff40448d2b0>, <bert.run_classifier.InputFeatures object at 0x7ff40448dcc0>, <bert.run_classifier.InputFeatures object at 0x7ff40448dda0>, <bert.run_classifier.InputFeatures object at 0x7ff40448de80>, <bert.run_classifier.InputFeatures object at 0x7ff40448db00>, <bert.run_classifier.InputFeatures object at 0x7ff40448dc88>, <bert.run_classifier.InputFeatures object at 0x7ff40448d3c8>, <bert.run_classifier.InputFeatures object at 0x7ff40448d550>, <bert.run_classifier.InputFeatures object at 0x7ff40448df28>, <bert.run_classifier.InputFeatures object at 0x7ff40448dd30>, <bert.run_classifier.InputFeatures object at 0x7ff40448de10>, <bert.run_classifier.InputFeatures object at 0x7ff40448dd68>, <bert.run_classifier.InputFeatures object at 0x7ff40448df60>, <bert.run_classifier.InputFeatures object at 0x7ff40448dba8>, <bert.run_classifier.InputFeatures object at 0x7ff40448dfd0>, <bert.run_classifier.InputFeatures object at 0x7ff40448db70>, <bert.run_classifier.InputFeatures object at 0x7ff40448d9b0>, <bert.run_classifier.InputFeatures object at 0x7ff40448d400>, <bert.run_classifier.InputFeatures object at 0x7ff40448d390>, <bert.run_classifier.InputFeatures object at 0x7ff40448dcf8>, <bert.run_classifier.InputFeatures object at 0x7ff40448d1d0>, <bert.run_classifier.InputFeatures object at 0x7ff40448df98>, <bert.run_classifier.InputFeatures object at 0x7ff40448da20>, <bert.run_classifier.InputFeatures object at 0x7ff40448d080>, <bert.run_classifier.InputFeatures object at 0x7ff40448dac8>, <bert.run_classifier.InputFeatures object at 0x7ff40448d940>, <bert.run_classifier.InputFeatures object at 0x7ff40448db38>, <bert.run_classifier.InputFeatures object at 0x7ff40448d0b8>, <bert.run_classifier.InputFeatures object at 0x7ff40448ddd8>, <bert.run_classifier.InputFeatures object at 0x7ff40448da58>, <bert.run_classifier.InputFeatures object at 0x7ff40448d710>, <bert.run_classifier.InputFeatures object at 0x7ff40448d9e8>, <bert.run_classifier.InputFeatures object at 0x7ff40448dc50>, <bert.run_classifier.InputFeatures object at 0x7ff40448d470>, <bert.run_classifier.InputFeatures object at 0x7ff40448d240>, <bert.run_classifier.InputFeatures object at 0x7ff40448d748>, <bert.run_classifier.InputFeatures object at 0x7ff40448d8d0>, <bert.run_classifier.InputFeatures object at 0x7ff40448deb8>, <bert.run_classifier.InputFeatures object at 0x7ff40448d908>, <bert.run_classifier.InputFeatures object at 0x7ff4044912b0>, <bert.run_classifier.InputFeatures object at 0x7ff404491278>, <bert.run_classifier.InputFeatures object at 0x7ff404491198>, <bert.run_classifier.InputFeatures object at 0x7ff404491320>, <bert.run_classifier.InputFeatures object at 0x7ff404491518>, <bert.run_classifier.InputFeatures object at 0x7ff4044917f0>, <bert.run_classifier.InputFeatures object at 0x7ff4044912e8>, <bert.run_classifier.InputFeatures object at 0x7ff4044919b0>, <bert.run_classifier.InputFeatures object at 0x7ff4044916a0>, <bert.run_classifier.InputFeatures object at 0x7ff404491160>, <bert.run_classifier.InputFeatures object at 0x7ff404491128>, <bert.run_classifier.InputFeatures object at 0x7ff404491898>, <bert.run_classifier.InputFeatures object at 0x7ff4044918d0>, <bert.run_classifier.InputFeatures object at 0x7ff404491860>, <bert.run_classifier.InputFeatures object at 0x7ff404491940>, <bert.run_classifier.InputFeatures object at 0x7ff4044910f0>, <bert.run_classifier.InputFeatures object at 0x7ff404491390>, <bert.run_classifier.InputFeatures object at 0x7ff404491208>, <bert.run_classifier.InputFeatures object at 0x7ff404491358>, <bert.run_classifier.InputFeatures object at 0x7ff4044915f8>, <bert.run_classifier.InputFeatures object at 0x7ff404491400>, <bert.run_classifier.InputFeatures object at 0x7ff404491240>, <bert.run_classifier.InputFeatures object at 0x7ff404491828>, <bert.run_classifier.InputFeatures object at 0x7ff4044919e8>, <bert.run_classifier.InputFeatures object at 0x7ff404491ac8>, <bert.run_classifier.InputFeatures object at 0x7ff404491630>, <bert.run_classifier.InputFeatures object at 0x7ff4044914e0>, <bert.run_classifier.InputFeatures object at 0x7ff404491710>, <bert.run_classifier.InputFeatures object at 0x7ff4044915c0>, <bert.run_classifier.InputFeatures object at 0x7ff4044911d0>, <bert.run_classifier.InputFeatures object at 0x7ff404491438>, <bert.run_classifier.InputFeatures object at 0x7ff404491668>, <bert.run_classifier.InputFeatures object at 0x7ff404491748>, <bert.run_classifier.InputFeatures object at 0x7ff404491c18>, <bert.run_classifier.InputFeatures object at 0x7ff404491908>, <bert.run_classifier.InputFeatures object at 0x7ff4044916d8>, <bert.run_classifier.InputFeatures object at 0x7ff404491a20>, <bert.run_classifier.InputFeatures object at 0x7ff404491a58>, <bert.run_classifier.InputFeatures object at 0x7ff404491cc0>, <bert.run_classifier.InputFeatures object at 0x7ff404491c50>, <bert.run_classifier.InputFeatures object at 0x7ff4044917b8>, <bert.run_classifier.InputFeatures object at 0x7ff404491f28>, <bert.run_classifier.InputFeatures object at 0x7ff404491ba8>, <bert.run_classifier.InputFeatures object at 0x7ff404491f98>, <bert.run_classifier.InputFeatures object at 0x7ff404491e48>, <bert.run_classifier.InputFeatures object at 0x7ff404491cf8>, <bert.run_classifier.InputFeatures object at 0x7ff404491f60>, <bert.run_classifier.InputFeatures object at 0x7ff404491b38>, <bert.run_classifier.InputFeatures object at 0x7ff404491be0>, <bert.run_classifier.InputFeatures object at 0x7ff404491588>, <bert.run_classifier.InputFeatures object at 0x7ff404491e80>, <bert.run_classifier.InputFeatures object at 0x7ff404491c88>, <bert.run_classifier.InputFeatures object at 0x7ff404491550>, <bert.run_classifier.InputFeatures object at 0x7ff404491048>, <bert.run_classifier.InputFeatures object at 0x7ff4044914a8>, <bert.run_classifier.InputFeatures object at 0x7ff404491080>, <bert.run_classifier.InputFeatures object at 0x7ff404491d68>, <bert.run_classifier.InputFeatures object at 0x7ff4044910b8>, <bert.run_classifier.InputFeatures object at 0x7ff404491b70>, <bert.run_classifier.InputFeatures object at 0x7ff4044913c8>, <bert.run_classifier.InputFeatures object at 0x7ff404491ef0>, <bert.run_classifier.InputFeatures object at 0x7ff404491a90>, <bert.run_classifier.InputFeatures object at 0x7ff404491978>, <bert.run_classifier.InputFeatures object at 0x7ff404491780>, <bert.run_classifier.InputFeatures object at 0x7ff404491b00>, <bert.run_classifier.InputFeatures object at 0x7ff404491fd0>, <bert.run_classifier.InputFeatures object at 0x7ff404491d30>, <bert.run_classifier.InputFeatures object at 0x7ff404491da0>, <bert.run_classifier.InputFeatures object at 0x7ff404491dd8>, <bert.run_classifier.InputFeatures object at 0x7ff404491e10>, <bert.run_classifier.InputFeatures object at 0x7ff404491470>, <bert.run_classifier.InputFeatures object at 0x7ff404491eb8>, <bert.run_classifier.InputFeatures object at 0x7ff40449b6d8>, <bert.run_classifier.InputFeatures object at 0x7ff40449b240>, <bert.run_classifier.InputFeatures object at 0x7ff40449b048>, <bert.run_classifier.InputFeatures object at 0x7ff40449b2e8>, <bert.run_classifier.InputFeatures object at 0x7ff40449b438>, <bert.run_classifier.InputFeatures object at 0x7ff40449b1d0>, <bert.run_classifier.InputFeatures object at 0x7ff40449b518>, <bert.run_classifier.InputFeatures object at 0x7ff40449b358>, <bert.run_classifier.InputFeatures object at 0x7ff40449b0f0>, <bert.run_classifier.InputFeatures object at 0x7ff40449b208>, <bert.run_classifier.InputFeatures object at 0x7ff40449b400>, <bert.run_classifier.InputFeatures object at 0x7ff40449b198>, <bert.run_classifier.InputFeatures object at 0x7ff40449b5c0>, <bert.run_classifier.InputFeatures object at 0x7ff40449b2b0>, <bert.run_classifier.InputFeatures object at 0x7ff40449b748>, <bert.run_classifier.InputFeatures object at 0x7ff40449b5f8>, <bert.run_classifier.InputFeatures object at 0x7ff40449b160>, <bert.run_classifier.InputFeatures object at 0x7ff40449b908>, <bert.run_classifier.InputFeatures object at 0x7ff40449b550>, <bert.run_classifier.InputFeatures object at 0x7ff40449b390>, <bert.run_classifier.InputFeatures object at 0x7ff40449b940>, <bert.run_classifier.InputFeatures object at 0x7ff40449b780>, <bert.run_classifier.InputFeatures object at 0x7ff40449bb00>, <bert.run_classifier.InputFeatures object at 0x7ff40449bac8>, <bert.run_classifier.InputFeatures object at 0x7ff40449b588>, <bert.run_classifier.InputFeatures object at 0x7ff40449b4a8>, <bert.run_classifier.InputFeatures object at 0x7ff40449ba58>, <bert.run_classifier.InputFeatures object at 0x7ff40449b3c8>, <bert.run_classifier.InputFeatures object at 0x7ff40449b0b8>, <bert.run_classifier.InputFeatures object at 0x7ff40449bc88>, <bert.run_classifier.InputFeatures object at 0x7ff40449bc50>, <bert.run_classifier.InputFeatures object at 0x7ff40449b860>, <bert.run_classifier.InputFeatures object at 0x7ff40449b7f0>, <bert.run_classifier.InputFeatures object at 0x7ff40449be10>, <bert.run_classifier.InputFeatures object at 0x7ff40449b128>, <bert.run_classifier.InputFeatures object at 0x7ff40449b6a0>, <bert.run_classifier.InputFeatures object at 0x7ff40449b898>, <bert.run_classifier.InputFeatures object at 0x7ff40449b630>, <bert.run_classifier.InputFeatures object at 0x7ff40449b8d0>, <bert.run_classifier.InputFeatures object at 0x7ff40449beb8>, <bert.run_classifier.InputFeatures object at 0x7ff40449b668>, <bert.run_classifier.InputFeatures object at 0x7ff40449b470>, <bert.run_classifier.InputFeatures object at 0x7ff40449bc18>, <bert.run_classifier.InputFeatures object at 0x7ff40449bf98>, <bert.run_classifier.InputFeatures object at 0x7ff40449bba8>, <bert.run_classifier.InputFeatures object at 0x7ff40449b9b0>, <bert.run_classifier.InputFeatures object at 0x7ff40449bcc0>, <bert.run_classifier.InputFeatures object at 0x7ff40449b320>, <bert.run_classifier.InputFeatures object at 0x7ff40449be80>, <bert.run_classifier.InputFeatures object at 0x7ff40449bcf8>, <bert.run_classifier.InputFeatures object at 0x7ff40449b978>, <bert.run_classifier.InputFeatures object at 0x7ff40449b9e8>, <bert.run_classifier.InputFeatures object at 0x7ff40449bd68>, <bert.run_classifier.InputFeatures object at 0x7ff40449ba20>, <bert.run_classifier.InputFeatures object at 0x7ff40449bbe0>, <bert.run_classifier.InputFeatures object at 0x7ff40449bb38>, <bert.run_classifier.InputFeatures object at 0x7ff40449bf28>, <bert.run_classifier.InputFeatures object at 0x7ff40449b828>, <bert.run_classifier.InputFeatures object at 0x7ff40449bd30>, <bert.run_classifier.InputFeatures object at 0x7ff40449ba90>, <bert.run_classifier.InputFeatures object at 0x7ff40449b278>, <bert.run_classifier.InputFeatures object at 0x7ff40449bef0>, <bert.run_classifier.InputFeatures object at 0x7ff40449b080>, <bert.run_classifier.InputFeatures object at 0x7ff40449bf60>, <bert.run_classifier.InputFeatures object at 0x7ff40449bb70>, <bert.run_classifier.InputFeatures object at 0x7ff40449b710>, <bert.run_classifier.InputFeatures object at 0x7ff40449bda0>, <bert.run_classifier.InputFeatures object at 0x7ff40449bfd0>, <bert.run_classifier.InputFeatures object at 0x7ff40449be48>, <bert.run_classifier.InputFeatures object at 0x7ff40449b4e0>, <bert.run_classifier.InputFeatures object at 0x7ff40449b7b8>, <bert.run_classifier.InputFeatures object at 0x7ff40449bdd8>, <bert.run_classifier.InputFeatures object at 0x7ff4044a1160>, <bert.run_classifier.InputFeatures object at 0x7ff4044a1320>, <bert.run_classifier.InputFeatures object at 0x7ff4044a15f8>, <bert.run_classifier.InputFeatures object at 0x7ff4044a1048>, <bert.run_classifier.InputFeatures object at 0x7ff4044a14e0>, <bert.run_classifier.InputFeatures object at 0x7ff4044a1390>, <bert.run_classifier.InputFeatures object at 0x7ff4044a1828>, <bert.run_classifier.InputFeatures object at 0x7ff4044a1588>, <bert.run_classifier.InputFeatures object at 0x7ff4044a1518>, <bert.run_classifier.InputFeatures object at 0x7ff4044a12e8>, <bert.run_classifier.InputFeatures object at 0x7ff4044a1080>, <bert.run_classifier.InputFeatures object at 0x7ff4044a10b8>, <bert.run_classifier.InputFeatures object at 0x7ff4044a12b0>, <bert.run_classifier.InputFeatures object at 0x7ff4044a1710>, <bert.run_classifier.InputFeatures object at 0x7ff4044a1630>, <bert.run_classifier.InputFeatures object at 0x7ff4044a1198>, <bert.run_classifier.InputFeatures object at 0x7ff4044a1438>, <bert.run_classifier.InputFeatures object at 0x7ff4044a1550>, <bert.run_classifier.InputFeatures object at 0x7ff4044a14a8>, <bert.run_classifier.InputFeatures object at 0x7ff4044a1a58>, <bert.run_classifier.InputFeatures object at 0x7ff4044a1978>, <bert.run_classifier.InputFeatures object at 0x7ff4044a19b0>, <bert.run_classifier.InputFeatures object at 0x7ff4044a1748>, <bert.run_classifier.InputFeatures object at 0x7ff4044a1470>, <bert.run_classifier.InputFeatures object at 0x7ff4044a1ac8>, <bert.run_classifier.InputFeatures object at 0x7ff4044a11d0>, <bert.run_classifier.InputFeatures object at 0x7ff4044a18d0>, <bert.run_classifier.InputFeatures object at 0x7ff4044a1a20>, <bert.run_classifier.InputFeatures object at 0x7ff4044a1780>, <bert.run_classifier.InputFeatures object at 0x7ff4044a16d8>, <bert.run_classifier.InputFeatures object at 0x7ff4044a1c18>, <bert.run_classifier.InputFeatures object at 0x7ff4044a13c8>, <bert.run_classifier.InputFeatures object at 0x7ff4044a15c0>, <bert.run_classifier.InputFeatures object at 0x7ff4044a17f0>, <bert.run_classifier.InputFeatures object at 0x7ff4044a1e48>, <bert.run_classifier.InputFeatures object at 0x7ff4044a1da0>, <bert.run_classifier.InputFeatures object at 0x7ff4044a16a0>, <bert.run_classifier.InputFeatures object at 0x7ff4044a1668>, <bert.run_classifier.InputFeatures object at 0x7ff4044a1d68>, <bert.run_classifier.InputFeatures object at 0x7ff4044a1cf8>, <bert.run_classifier.InputFeatures object at 0x7ff4044a1358>, <bert.run_classifier.InputFeatures object at 0x7ff4044a1278>, <bert.run_classifier.InputFeatures object at 0x7ff4044a19e8>, <bert.run_classifier.InputFeatures object at 0x7ff4044a10f0>, <bert.run_classifier.InputFeatures object at 0x7ff4044a1208>, <bert.run_classifier.InputFeatures object at 0x7ff4044a1b38>, <bert.run_classifier.InputFeatures object at 0x7ff4044a1400>, <bert.run_classifier.InputFeatures object at 0x7ff4044a1898>, <bert.run_classifier.InputFeatures object at 0x7ff4044a1f60>, <bert.run_classifier.InputFeatures object at 0x7ff4044a1f98>, <bert.run_classifier.InputFeatures object at 0x7ff4044a1e80>, <bert.run_classifier.InputFeatures object at 0x7ff4044a1a90>, <bert.run_classifier.InputFeatures object at 0x7ff4044a17b8>, <bert.run_classifier.InputFeatures object at 0x7ff4044a1860>, <bert.run_classifier.InputFeatures object at 0x7ff4044a1908>, <bert.run_classifier.InputFeatures object at 0x7ff4044a1128>, <bert.run_classifier.InputFeatures object at 0x7ff4044a1b70>, <bert.run_classifier.InputFeatures object at 0x7ff4044a1d30>, <bert.run_classifier.InputFeatures object at 0x7ff4044a1f28>, <bert.run_classifier.InputFeatures object at 0x7ff4044a1b00>, <bert.run_classifier.InputFeatures object at 0x7ff4044a1c88>, <bert.run_classifier.InputFeatures object at 0x7ff4044a1fd0>, <bert.run_classifier.InputFeatures object at 0x7ff4044a1be0>, <bert.run_classifier.InputFeatures object at 0x7ff4044a1240>, <bert.run_classifier.InputFeatures object at 0x7ff4044a1e10>, <bert.run_classifier.InputFeatures object at 0x7ff4044a1eb8>, <bert.run_classifier.InputFeatures object at 0x7ff4044a1cc0>, <bert.run_classifier.InputFeatures object at 0x7ff4044a1940>, <bert.run_classifier.InputFeatures object at 0x7ff4044a1c50>, <bert.run_classifier.InputFeatures object at 0x7ff4044a1dd8>, <bert.run_classifier.InputFeatures object at 0x7ff4044a1ef0>, <bert.run_classifier.InputFeatures object at 0x7ff4044a1ba8>, <bert.run_classifier.InputFeatures object at 0x7ff4044a5588>, <bert.run_classifier.InputFeatures object at 0x7ff4044a55c0>, <bert.run_classifier.InputFeatures object at 0x7ff4044a5208>, <bert.run_classifier.InputFeatures object at 0x7ff4044a54a8>, <bert.run_classifier.InputFeatures object at 0x7ff4044a5400>, <bert.run_classifier.InputFeatures object at 0x7ff4044a5518>, <bert.run_classifier.InputFeatures object at 0x7ff4044a5d68>, <bert.run_classifier.InputFeatures object at 0x7ff4044a58d0>, <bert.run_classifier.InputFeatures object at 0x7ff4044a5e80>, <bert.run_classifier.InputFeatures object at 0x7ff4044a52e8>, <bert.run_classifier.InputFeatures object at 0x7ff4044a5cc0>, <bert.run_classifier.InputFeatures object at 0x7ff4044a51d0>, <bert.run_classifier.InputFeatures object at 0x7ff4044a5dd8>, <bert.run_classifier.InputFeatures object at 0x7ff4044a50b8>, <bert.run_classifier.InputFeatures object at 0x7ff4044a54e0>, <bert.run_classifier.InputFeatures object at 0x7ff4044a5780>, <bert.run_classifier.InputFeatures object at 0x7ff4044a5160>, <bert.run_classifier.InputFeatures object at 0x7ff4044a5ba8>, <bert.run_classifier.InputFeatures object at 0x7ff4044a5b38>, <bert.run_classifier.InputFeatures object at 0x7ff4044a5e10>, <bert.run_classifier.InputFeatures object at 0x7ff4044a50f0>, <bert.run_classifier.InputFeatures object at 0x7ff4044a5be0>, <bert.run_classifier.InputFeatures object at 0x7ff4044a5438>, <bert.run_classifier.InputFeatures object at 0x7ff4044a5cf8>, <bert.run_classifier.InputFeatures object at 0x7ff4044a5c18>, <bert.run_classifier.InputFeatures object at 0x7ff4044a5048>, <bert.run_classifier.InputFeatures object at 0x7ff4044a5940>, <bert.run_classifier.InputFeatures object at 0x7ff4044a5898>, <bert.run_classifier.InputFeatures object at 0x7ff4044a55f8>, <bert.run_classifier.InputFeatures object at 0x7ff4044a5ac8>, <bert.run_classifier.InputFeatures object at 0x7ff4044a5278>, <bert.run_classifier.InputFeatures object at 0x7ff4044a5550>, <bert.run_classifier.InputFeatures object at 0x7ff4044a5828>, <bert.run_classifier.InputFeatures object at 0x7ff4044a59b0>, <bert.run_classifier.InputFeatures object at 0x7ff4044a5e48>, <bert.run_classifier.InputFeatures object at 0x7ff4044a5a58>, <bert.run_classifier.InputFeatures object at 0x7ff4044a5c88>, <bert.run_classifier.InputFeatures object at 0x7ff4044a5080>, <bert.run_classifier.InputFeatures object at 0x7ff4044a5358>, <bert.run_classifier.InputFeatures object at 0x7ff4044a57f0>, <bert.run_classifier.InputFeatures object at 0x7ff4044a56d8>, <bert.run_classifier.InputFeatures object at 0x7ff4044a5390>, <bert.run_classifier.InputFeatures object at 0x7ff4044a5eb8>, <bert.run_classifier.InputFeatures object at 0x7ff4044a5320>, <bert.run_classifier.InputFeatures object at 0x7ff4044a5ef0>, <bert.run_classifier.InputFeatures object at 0x7ff4044a5d30>, <bert.run_classifier.InputFeatures object at 0x7ff4044a59e8>, <bert.run_classifier.InputFeatures object at 0x7ff4044a5748>, <bert.run_classifier.InputFeatures object at 0x7ff4044a5b00>, <bert.run_classifier.InputFeatures object at 0x7ff4044a5f28>, <bert.run_classifier.InputFeatures object at 0x7ff4044a57b8>, <bert.run_classifier.InputFeatures object at 0x7ff4044a5470>, <bert.run_classifier.InputFeatures object at 0x7ff4044a5908>, <bert.run_classifier.InputFeatures object at 0x7ff4044a5240>, <bert.run_classifier.InputFeatures object at 0x7ff4044a5630>, <bert.run_classifier.InputFeatures object at 0x7ff4044a5710>, <bert.run_classifier.InputFeatures object at 0x7ff4044a53c8>, <bert.run_classifier.InputFeatures object at 0x7ff4044a5668>, <bert.run_classifier.InputFeatures object at 0x7ff4044a5b70>, <bert.run_classifier.InputFeatures object at 0x7ff4044a5860>, <bert.run_classifier.InputFeatures object at 0x7ff4044a5978>, <bert.run_classifier.InputFeatures object at 0x7ff4044a5198>, <bert.run_classifier.InputFeatures object at 0x7ff4044a5128>, <bert.run_classifier.InputFeatures object at 0x7ff4044a5a90>, <bert.run_classifier.InputFeatures object at 0x7ff4044a5f98>, <bert.run_classifier.InputFeatures object at 0x7ff4044a52b0>, <bert.run_classifier.InputFeatures object at 0x7ff4044a5da0>, <bert.run_classifier.InputFeatures object at 0x7ff4044a5fd0>, <bert.run_classifier.InputFeatures object at 0x7ff4044a5f60>, <bert.run_classifier.InputFeatures object at 0x7ff4044a5a20>, <bert.run_classifier.InputFeatures object at 0x7ff4044a56a0>, <bert.run_classifier.InputFeatures object at 0x7ff4044a5c50>, <bert.run_classifier.InputFeatures object at 0x7ff4044aa588>, <bert.run_classifier.InputFeatures object at 0x7ff4044aa390>, <bert.run_classifier.InputFeatures object at 0x7ff4044aa198>, <bert.run_classifier.InputFeatures object at 0x7ff4044aa1d0>, <bert.run_classifier.InputFeatures object at 0x7ff4044aa4e0>, <bert.run_classifier.InputFeatures object at 0x7ff4044aa080>, <bert.run_classifier.InputFeatures object at 0x7ff4044aa6d8>, <bert.run_classifier.InputFeatures object at 0x7ff4044aa518>, <bert.run_classifier.InputFeatures object at 0x7ff4044aa4a8>, <bert.run_classifier.InputFeatures object at 0x7ff4044aa8d0>, <bert.run_classifier.InputFeatures object at 0x7ff4044aa208>, <bert.run_classifier.InputFeatures object at 0x7ff4044aa7b8>, <bert.run_classifier.InputFeatures object at 0x7ff4044aa5f8>, <bert.run_classifier.InputFeatures object at 0x7ff4044aa2b0>, <bert.run_classifier.InputFeatures object at 0x7ff4044aa128>, <bert.run_classifier.InputFeatures object at 0x7ff4044aa2e8>, <bert.run_classifier.InputFeatures object at 0x7ff4044aa860>, <bert.run_classifier.InputFeatures object at 0x7ff4044aa0b8>, <bert.run_classifier.InputFeatures object at 0x7ff4044aa748>, <bert.run_classifier.InputFeatures object at 0x7ff4044aa828>, <bert.run_classifier.InputFeatures object at 0x7ff4044aa6a0>, <bert.run_classifier.InputFeatures object at 0x7ff4044aa978>, <bert.run_classifier.InputFeatures object at 0x7ff4044aa240>, <bert.run_classifier.InputFeatures object at 0x7ff4044aa160>, <bert.run_classifier.InputFeatures object at 0x7ff4044aa9e8>, <bert.run_classifier.InputFeatures object at 0x7ff4044aaa58>, <bert.run_classifier.InputFeatures object at 0x7ff4044aa320>, <bert.run_classifier.InputFeatures object at 0x7ff4044aa550>, <bert.run_classifier.InputFeatures object at 0x7ff4044aa9b0>, <bert.run_classifier.InputFeatures object at 0x7ff4044aabe0>, <bert.run_classifier.InputFeatures object at 0x7ff4044aad68>, <bert.run_classifier.InputFeatures object at 0x7ff4044aa400>, <bert.run_classifier.InputFeatures object at 0x7ff4044aadd8>, <bert.run_classifier.InputFeatures object at 0x7ff4044aa710>, <bert.run_classifier.InputFeatures object at 0x7ff4044aae48>, <bert.run_classifier.InputFeatures object at 0x7ff4044aa940>, <bert.run_classifier.InputFeatures object at 0x7ff4044aa780>, <bert.run_classifier.InputFeatures object at 0x7ff4044aa630>, <bert.run_classifier.InputFeatures object at 0x7ff4044aab70>, <bert.run_classifier.InputFeatures object at 0x7ff4044aac18>, <bert.run_classifier.InputFeatures object at 0x7ff4044aacc0>, <bert.run_classifier.InputFeatures object at 0x7ff4044aa358>, <bert.run_classifier.InputFeatures object at 0x7ff4044aab00>, <bert.run_classifier.InputFeatures object at 0x7ff4044aaf98>, <bert.run_classifier.InputFeatures object at 0x7ff4044aaa20>, <bert.run_classifier.InputFeatures object at 0x7ff4044aa7f0>, <bert.run_classifier.InputFeatures object at 0x7ff4044aab38>, <bert.run_classifier.InputFeatures object at 0x7ff4044aafd0>, <bert.run_classifier.InputFeatures object at 0x7ff4044aa0f0>, <bert.run_classifier.InputFeatures object at 0x7ff4044aa908>, <bert.run_classifier.InputFeatures object at 0x7ff4044aac88>, <bert.run_classifier.InputFeatures object at 0x7ff4044aa898>, <bert.run_classifier.InputFeatures object at 0x7ff4044aaef0>, <bert.run_classifier.InputFeatures object at 0x7ff4044aa048>, <bert.run_classifier.InputFeatures object at 0x7ff4044aaba8>, <bert.run_classifier.InputFeatures object at 0x7ff4044aa3c8>, <bert.run_classifier.InputFeatures object at 0x7ff4044aa470>, <bert.run_classifier.InputFeatures object at 0x7ff4044aa5c0>, <bert.run_classifier.InputFeatures object at 0x7ff4044aa438>, <bert.run_classifier.InputFeatures object at 0x7ff4044aada0>, <bert.run_classifier.InputFeatures object at 0x7ff4044aae80>, <bert.run_classifier.InputFeatures object at 0x7ff4044aaf60>, <bert.run_classifier.InputFeatures object at 0x7ff4044aaf28>, <bert.run_classifier.InputFeatures object at 0x7ff4044aaac8>, <bert.run_classifier.InputFeatures object at 0x7ff4044aa278>, <bert.run_classifier.InputFeatures object at 0x7ff4044aae10>, <bert.run_classifier.InputFeatures object at 0x7ff4044aad30>, <bert.run_classifier.InputFeatures object at 0x7ff4044aacf8>, <bert.run_classifier.InputFeatures object at 0x7ff4044aaa90>, <bert.run_classifier.InputFeatures object at 0x7ff4044aaeb8>, <bert.run_classifier.InputFeatures object at 0x7ff4044aac50>, <bert.run_classifier.InputFeatures object at 0x7ff4044aa668>, <bert.run_classifier.InputFeatures object at 0x7ff4044b2588>, <bert.run_classifier.InputFeatures object at 0x7ff4044b2080>, <bert.run_classifier.InputFeatures object at 0x7ff4044b2320>, <bert.run_classifier.InputFeatures object at 0x7ff4044b22e8>, <bert.run_classifier.InputFeatures object at 0x7ff4044b2400>, <bert.run_classifier.InputFeatures object at 0x7ff4044b21d0>, <bert.run_classifier.InputFeatures object at 0x7ff4044b2160>, <bert.run_classifier.InputFeatures object at 0x7ff4044b22b0>, <bert.run_classifier.InputFeatures object at 0x7ff4044b2518>, <bert.run_classifier.InputFeatures object at 0x7ff4044b2710>, <bert.run_classifier.InputFeatures object at 0x7ff4044b2198>, <bert.run_classifier.InputFeatures object at 0x7ff4044b2128>, <bert.run_classifier.InputFeatures object at 0x7ff4044b2550>, <bert.run_classifier.InputFeatures object at 0x7ff4044b28d0>, <bert.run_classifier.InputFeatures object at 0x7ff4044b2898>, <bert.run_classifier.InputFeatures object at 0x7ff4044b2240>, <bert.run_classifier.InputFeatures object at 0x7ff4044b25c0>, <bert.run_classifier.InputFeatures object at 0x7ff4044b2630>, <bert.run_classifier.InputFeatures object at 0x7ff4044b25f8>, <bert.run_classifier.InputFeatures object at 0x7ff4044b2860>, <bert.run_classifier.InputFeatures object at 0x7ff4044b2390>, <bert.run_classifier.InputFeatures object at 0x7ff4044b2d68>, <bert.run_classifier.InputFeatures object at 0x7ff4044b2a58>, <bert.run_classifier.InputFeatures object at 0x7ff4044b2940>, <bert.run_classifier.InputFeatures object at 0x7ff4044b2048>, <bert.run_classifier.InputFeatures object at 0x7ff4044b24a8>, <bert.run_classifier.InputFeatures object at 0x7ff4044b2cc0>, <bert.run_classifier.InputFeatures object at 0x7ff4044b29b0>, <bert.run_classifier.InputFeatures object at 0x7ff4044b26d8>, <bert.run_classifier.InputFeatures object at 0x7ff4044b24e0>, <bert.run_classifier.InputFeatures object at 0x7ff4044b2978>, <bert.run_classifier.InputFeatures object at 0x7ff4044b29e8>, <bert.run_classifier.InputFeatures object at 0x7ff4044b2780>, <bert.run_classifier.InputFeatures object at 0x7ff4044b2908>, <bert.run_classifier.InputFeatures object at 0x7ff4044b2278>, <bert.run_classifier.InputFeatures object at 0x7ff4044b2cf8>, <bert.run_classifier.InputFeatures object at 0x7ff4044b20b8>, <bert.run_classifier.InputFeatures object at 0x7ff4044b2c18>, <bert.run_classifier.InputFeatures object at 0x7ff4044b2dd8>, <bert.run_classifier.InputFeatures object at 0x7ff4044b2da0>, <bert.run_classifier.InputFeatures object at 0x7ff4044b2828>, <bert.run_classifier.InputFeatures object at 0x7ff4044b27b8>, <bert.run_classifier.InputFeatures object at 0x7ff4044b23c8>, <bert.run_classifier.InputFeatures object at 0x7ff4044b2b38>, <bert.run_classifier.InputFeatures object at 0x7ff4044b2be0>, <bert.run_classifier.InputFeatures object at 0x7ff4044b26a0>, <bert.run_classifier.InputFeatures object at 0x7ff4044b2ac8>, <bert.run_classifier.InputFeatures object at 0x7ff4044b2f28>, <bert.run_classifier.InputFeatures object at 0x7ff4044b2470>, <bert.run_classifier.InputFeatures object at 0x7ff4044b2e48>, <bert.run_classifier.InputFeatures object at 0x7ff4044b2b00>, <bert.run_classifier.InputFeatures object at 0x7ff4044b2d30>, <bert.run_classifier.InputFeatures object at 0x7ff4044b2358>, <bert.run_classifier.InputFeatures object at 0x7ff4044b2748>, <bert.run_classifier.InputFeatures object at 0x7ff4044b2c50>, <bert.run_classifier.InputFeatures object at 0x7ff4044b20f0>, <bert.run_classifier.InputFeatures object at 0x7ff4044b2e10>, <bert.run_classifier.InputFeatures object at 0x7ff4044b2ba8>, <bert.run_classifier.InputFeatures object at 0x7ff4044b27f0>, <bert.run_classifier.InputFeatures object at 0x7ff4044b2a20>, <bert.run_classifier.InputFeatures object at 0x7ff4044b2a90>, <bert.run_classifier.InputFeatures object at 0x7ff4044b2e80>, <bert.run_classifier.InputFeatures object at 0x7ff4044b2f98>, <bert.run_classifier.InputFeatures object at 0x7ff4044b2ef0>, <bert.run_classifier.InputFeatures object at 0x7ff4044b2eb8>, <bert.run_classifier.InputFeatures object at 0x7ff4044b2668>, <bert.run_classifier.InputFeatures object at 0x7ff4044b2c88>, <bert.run_classifier.InputFeatures object at 0x7ff4044b2fd0>, <bert.run_classifier.InputFeatures object at 0x7ff4044b2b70>, <bert.run_classifier.InputFeatures object at 0x7ff4044b2438>, <bert.run_classifier.InputFeatures object at 0x7ff4044b2208>, <bert.run_classifier.InputFeatures object at 0x7ff4044b2f60>, <bert.run_classifier.InputFeatures object at 0x7ff40443b588>, <bert.run_classifier.InputFeatures object at 0x7ff40443b160>, <bert.run_classifier.InputFeatures object at 0x7ff40443b198>, <bert.run_classifier.InputFeatures object at 0x7ff40443b550>, <bert.run_classifier.InputFeatures object at 0x7ff40443b5f8>, <bert.run_classifier.InputFeatures object at 0x7ff40443b898>, <bert.run_classifier.InputFeatures object at 0x7ff40443b7f0>, <bert.run_classifier.InputFeatures object at 0x7ff40443b5c0>, <bert.run_classifier.InputFeatures object at 0x7ff40443b4a8>]\n"
          ],
          "name": "stdout"
        }
      ]
    },
    {
      "cell_type": "markdown",
      "metadata": {
        "id": "hZkOXTE_X6V6",
        "colab_type": "text"
      },
      "source": [
        "**Creating a Model**"
      ]
    },
    {
      "cell_type": "code",
      "metadata": {
        "id": "CDrGm5RwX-Vj",
        "colab_type": "code",
        "colab": {}
      },
      "source": [
        "def create_model(is_predicting, input_ids, input_mask, segment_ids, labels,\n",
        "                 num_labels):\n",
        "  \"\"\"Creates a classification model.\"\"\"\n",
        "\n",
        "  bert_module = hub.Module(\n",
        "      BERT_MODEL_HUB,\n",
        "      trainable=True)\n",
        "  bert_inputs = dict(\n",
        "      input_ids=input_ids,\n",
        "      input_mask=input_mask,\n",
        "      segment_ids=segment_ids)\n",
        "  bert_outputs = bert_module(\n",
        "      inputs=bert_inputs,\n",
        "      signature=\"tokens\",\n",
        "      as_dict=True)\n",
        "\n",
        "  # Use \"pooled_output\" for classification tasks on an entire sentence.\n",
        "  # Use \"sequence_outputs\" for token-level output.\n",
        "  output_layer = bert_outputs[\"pooled_output\"]\n",
        "\n",
        "  hidden_size = output_layer.shape[-1].value\n",
        "\n",
        "  # Create our own layer to tune for politeness data.\n",
        "  output_weights = tf.get_variable(\n",
        "      \"output_weights\", [num_labels, hidden_size],\n",
        "      initializer=tf.truncated_normal_initializer(stddev=0.02))\n",
        "\n",
        "  output_bias = tf.get_variable(\n",
        "      \"output_bias\", [num_labels], initializer=tf.zeros_initializer())\n",
        "\n",
        "  with tf.variable_scope(\"loss\"):\n",
        "\n",
        "    # Dropout helps prevent overfitting\n",
        "    output_layer = tf.nn.dropout(output_layer, keep_prob=0.9)\n",
        "\n",
        "    logits = tf.matmul(output_layer, output_weights, transpose_b=True)\n",
        "    logits = tf.nn.bias_add(logits, output_bias)\n",
        "    log_probs = tf.nn.log_softmax(logits, axis=-1)\n",
        "\n",
        "    # Convert labels into one-hot encoding\n",
        "    one_hot_labels = tf.one_hot(labels, depth=num_labels, dtype=tf.float32)\n",
        "\n",
        "    predicted_labels = tf.squeeze(tf.argmax(log_probs, axis=-1, output_type=tf.int32))\n",
        "    # If we're predicting, we want predicted labels and the probabiltiies.\n",
        "    if is_predicting:\n",
        "      return (predicted_labels, log_probs)\n",
        "\n",
        "    # If we're train/eval, compute loss between predicted and actual label\n",
        "    per_example_loss = -tf.reduce_sum(one_hot_labels * log_probs, axis=-1)\n",
        "    loss = tf.reduce_mean(per_example_loss)\n",
        "    return (loss, predicted_labels, log_probs)\n"
      ],
      "execution_count": 0,
      "outputs": []
    },
    {
      "cell_type": "code",
      "metadata": {
        "id": "UyqB7A4BYg9v",
        "colab_type": "code",
        "colab": {}
      },
      "source": [
        "# model_fn_builder actually creates our model function\n",
        "# using the passed parameters for num_labels, learning_rate, etc.\n",
        "def model_fn_builder(num_labels, learning_rate, num_train_steps,\n",
        "                     num_warmup_steps):\n",
        "  \"\"\"Returns `model_fn` closure for TPUEstimator.\"\"\"\n",
        "  def model_fn(features, labels, mode, params):  # pylint: disable=unused-argument\n",
        "    \"\"\"The `model_fn` for TPUEstimator.\"\"\"\n",
        "\n",
        "    input_ids = features[\"input_ids\"]\n",
        "    input_mask = features[\"input_mask\"]\n",
        "    segment_ids = features[\"segment_ids\"]\n",
        "    label_ids = features[\"label_ids\"]\n",
        "\n",
        "    is_predicting = (mode == tf.estimator.ModeKeys.PREDICT)\n",
        "    \n",
        "    # TRAIN and EVAL\n",
        "    if not is_predicting:\n",
        "\n",
        "      (loss, predicted_labels, log_probs) = create_model(\n",
        "        is_predicting, input_ids, input_mask, segment_ids, label_ids, num_labels)\n",
        "\n",
        "      train_op = bert.optimization.create_optimizer(\n",
        "          loss, learning_rate, num_train_steps, num_warmup_steps, use_tpu=False)\n",
        "\n",
        "      # Calculate evaluation metrics. \n",
        "      def metric_fn(label_ids, predicted_labels):\n",
        "        accuracy = tf.metrics.accuracy(label_ids, predicted_labels)\n",
        "        return {\n",
        "            \"eval_accuracy\": accuracy,\n",
        "        }\n",
        "\n",
        "      eval_metrics = metric_fn(label_ids, predicted_labels)\n",
        "\n",
        "      if mode == tf.estimator.ModeKeys.TRAIN:\n",
        "        return tf.estimator.EstimatorSpec(mode=mode,\n",
        "          loss=loss,\n",
        "          train_op=train_op)\n",
        "      else:\n",
        "          return tf.estimator.EstimatorSpec(mode=mode,\n",
        "            loss=loss,\n",
        "            eval_metric_ops=eval_metrics)\n",
        "    else:\n",
        "      (predicted_labels, log_probs) = create_model(\n",
        "        is_predicting, input_ids, input_mask, segment_ids, label_ids, num_labels)\n",
        "\n",
        "      predictions = {\n",
        "          'probabilities': log_probs,\n",
        "          'labels': predicted_labels\n",
        "      }\n",
        "      return tf.estimator.EstimatorSpec(mode, predictions=predictions)\n",
        "\n",
        "  # Return the actual model function in the closure\n",
        "  return model_fn"
      ],
      "execution_count": 0,
      "outputs": []
    },
    {
      "cell_type": "code",
      "metadata": {
        "id": "toWMTMmsYok-",
        "colab_type": "code",
        "colab": {}
      },
      "source": [
        "# Compute train and warmup steps from batch size\n",
        "# These hyperparameters are copied from this colab notebook (https://colab.sandbox.google.com/github/tensorflow/tpu/blob/master/tools/colab/bert_finetuning_with_cloud_tpus.ipynb)\n",
        "BATCH_SIZE = 32\n",
        "LEARNING_RATE = 2e-5\n",
        "NUM_TRAIN_EPOCHS = 3.0\n",
        "# Warmup is a period of time where hte learning rate \n",
        "# is small and gradually increases--usually helps training.\n",
        "WARMUP_PROPORTION = 0.1\n",
        "# Model configs\n",
        "SAVE_CHECKPOINTS_STEPS = 500\n",
        "SAVE_SUMMARY_STEPS = 100"
      ],
      "execution_count": 0,
      "outputs": []
    },
    {
      "cell_type": "code",
      "metadata": {
        "id": "qUYonpa-YshN",
        "colab_type": "code",
        "colab": {}
      },
      "source": [
        "# Compute # train and warmup steps from batch size\n",
        "num_train_steps = int(len(train_features) / BATCH_SIZE * NUM_TRAIN_EPOCHS)\n",
        "num_warmup_steps = int(num_train_steps * WARMUP_PROPORTION)"
      ],
      "execution_count": 0,
      "outputs": []
    },
    {
      "cell_type": "code",
      "metadata": {
        "id": "VxHvVSu2YvIm",
        "colab_type": "code",
        "colab": {}
      },
      "source": [
        "# Specify outpit directory and number of checkpoint steps to save\n",
        "run_config = tf.estimator.RunConfig(\n",
        "    model_dir=OUTPUT_DIR,\n",
        "    save_summary_steps=SAVE_SUMMARY_STEPS,\n",
        "    save_checkpoints_steps=SAVE_CHECKPOINTS_STEPS)"
      ],
      "execution_count": 0,
      "outputs": []
    },
    {
      "cell_type": "code",
      "metadata": {
        "id": "DPg-NaR7Zxgr",
        "colab_type": "code",
        "outputId": "571db2e0-9c2e-4268-c389-542ead9513e9",
        "colab": {
          "base_uri": "https://localhost:8080/",
          "height": 289
        }
      },
      "source": [
        "model_fn = model_fn_builder(\n",
        "  num_labels=len(label_list),\n",
        "  learning_rate=LEARNING_RATE,\n",
        "  num_train_steps=num_train_steps,\n",
        "  num_warmup_steps=num_warmup_steps)\n",
        "\n",
        "estimator = tf.estimator.Estimator(\n",
        "  model_fn=model_fn,\n",
        "  config=run_config,\n",
        "  params={\"batch_size\": BATCH_SIZE})"
      ],
      "execution_count": 0,
      "outputs": [
        {
          "output_type": "stream",
          "text": [
            "INFO:tensorflow:Using config: {'_model_dir': 'OUTPUT_DIR_NAME', '_tf_random_seed': None, '_save_summary_steps': 100, '_save_checkpoints_steps': 500, '_save_checkpoints_secs': None, '_session_config': allow_soft_placement: true\n",
            "graph_options {\n",
            "  rewrite_options {\n",
            "    meta_optimizer_iterations: ONE\n",
            "  }\n",
            "}\n",
            ", '_keep_checkpoint_max': 5, '_keep_checkpoint_every_n_hours': 10000, '_log_step_count_steps': 100, '_train_distribute': None, '_device_fn': None, '_protocol': None, '_eval_distribute': None, '_experimental_distribute': None, '_experimental_max_worker_delay_secs': None, '_session_creation_timeout_secs': 7200, '_service': None, '_cluster_spec': <tensorflow.python.training.server_lib.ClusterSpec object at 0x7f505bb0bbe0>, '_task_type': 'worker', '_task_id': 0, '_global_id_in_cluster': 0, '_master': '', '_evaluation_master': '', '_is_chief': True, '_num_ps_replicas': 0, '_num_worker_replicas': 1}\n"
          ],
          "name": "stdout"
        },
        {
          "output_type": "stream",
          "text": [
            "INFO:tensorflow:Using config: {'_model_dir': 'OUTPUT_DIR_NAME', '_tf_random_seed': None, '_save_summary_steps': 100, '_save_checkpoints_steps': 500, '_save_checkpoints_secs': None, '_session_config': allow_soft_placement: true\n",
            "graph_options {\n",
            "  rewrite_options {\n",
            "    meta_optimizer_iterations: ONE\n",
            "  }\n",
            "}\n",
            ", '_keep_checkpoint_max': 5, '_keep_checkpoint_every_n_hours': 10000, '_log_step_count_steps': 100, '_train_distribute': None, '_device_fn': None, '_protocol': None, '_eval_distribute': None, '_experimental_distribute': None, '_experimental_max_worker_delay_secs': None, '_session_creation_timeout_secs': 7200, '_service': None, '_cluster_spec': <tensorflow.python.training.server_lib.ClusterSpec object at 0x7f505bb0bbe0>, '_task_type': 'worker', '_task_id': 0, '_global_id_in_cluster': 0, '_master': '', '_evaluation_master': '', '_is_chief': True, '_num_ps_replicas': 0, '_num_worker_replicas': 1}\n"
          ],
          "name": "stderr"
        }
      ]
    },
    {
      "cell_type": "code",
      "metadata": {
        "id": "7zeVC2F6Z54q",
        "colab_type": "code",
        "colab": {}
      },
      "source": [
        "# Create an input function for training. drop_remainder = True for using TPUs.\n",
        "train_input_fn = bert.run_classifier.input_fn_builder(\n",
        "    features=train_features,\n",
        "    seq_length=MAX_SEQ_LENGTH,\n",
        "    is_training=True,\n",
        "    drop_remainder=False)"
      ],
      "execution_count": 0,
      "outputs": []
    },
    {
      "cell_type": "code",
      "metadata": {
        "id": "s3fPgbe8Z9Gb",
        "colab_type": "code",
        "outputId": "106c2d0e-cae1-4dd9-fd52-3fb2638e1f36",
        "colab": {
          "base_uri": "https://localhost:8080/",
          "height": 431
        }
      },
      "source": [
        "print(f'Beginning Training!')\n",
        "current_time = datetime.now()\n",
        "estimator.train(input_fn=train_input_fn, max_steps=num_train_steps)\n",
        "print(\"Training took time \", datetime.now() - current_time)"
      ],
      "execution_count": 0,
      "outputs": [
        {
          "output_type": "stream",
          "text": [
            "INFO:tensorflow:Saving checkpoints for 46500 into OUTPUT_DIR_NAME/model.ckpt.\n"
          ],
          "name": "stdout"
        },
        {
          "output_type": "stream",
          "text": [
            "INFO:tensorflow:Saving checkpoints for 46500 into OUTPUT_DIR_NAME/model.ckpt.\n"
          ],
          "name": "stderr"
        },
        {
          "output_type": "stream",
          "text": [
            "INFO:tensorflow:global_step/sec: 1.58668\n"
          ],
          "name": "stdout"
        },
        {
          "output_type": "stream",
          "text": [
            "INFO:tensorflow:global_step/sec: 1.58668\n"
          ],
          "name": "stderr"
        },
        {
          "output_type": "stream",
          "text": [
            "INFO:tensorflow:loss = 1.5640657, step = 46500 (63.025 sec)\n"
          ],
          "name": "stdout"
        },
        {
          "output_type": "stream",
          "text": [
            "INFO:tensorflow:loss = 1.5640657, step = 46500 (63.025 sec)\n"
          ],
          "name": "stderr"
        },
        {
          "output_type": "stream",
          "text": [
            "INFO:tensorflow:global_step/sec: 2.0958\n"
          ],
          "name": "stdout"
        },
        {
          "output_type": "stream",
          "text": [
            "INFO:tensorflow:global_step/sec: 2.0958\n"
          ],
          "name": "stderr"
        },
        {
          "output_type": "stream",
          "text": [
            "INFO:tensorflow:loss = 2.1084204, step = 46600 (47.714 sec)\n"
          ],
          "name": "stdout"
        },
        {
          "output_type": "stream",
          "text": [
            "INFO:tensorflow:loss = 2.1084204, step = 46600 (47.714 sec)\n"
          ],
          "name": "stderr"
        },
        {
          "output_type": "stream",
          "text": [
            "INFO:tensorflow:global_step/sec: 2.09658\n"
          ],
          "name": "stdout"
        },
        {
          "output_type": "stream",
          "text": [
            "INFO:tensorflow:global_step/sec: 2.09658\n"
          ],
          "name": "stderr"
        },
        {
          "output_type": "stream",
          "text": [
            "INFO:tensorflow:loss = 1.3009549, step = 46700 (47.697 sec)\n"
          ],
          "name": "stdout"
        },
        {
          "output_type": "stream",
          "text": [
            "INFO:tensorflow:loss = 1.3009549, step = 46700 (47.697 sec)\n"
          ],
          "name": "stderr"
        },
        {
          "output_type": "stream",
          "text": [
            "INFO:tensorflow:global_step/sec: 2.09588\n"
          ],
          "name": "stdout"
        },
        {
          "output_type": "stream",
          "text": [
            "INFO:tensorflow:global_step/sec: 2.09588\n"
          ],
          "name": "stderr"
        },
        {
          "output_type": "stream",
          "text": [
            "INFO:tensorflow:loss = 1.335799, step = 46800 (47.713 sec)\n"
          ],
          "name": "stdout"
        },
        {
          "output_type": "stream",
          "text": [
            "INFO:tensorflow:loss = 1.335799, step = 46800 (47.713 sec)\n"
          ],
          "name": "stderr"
        },
        {
          "output_type": "stream",
          "text": [
            "INFO:tensorflow:Saving checkpoints for 46875 into OUTPUT_DIR_NAME/model.ckpt.\n"
          ],
          "name": "stdout"
        },
        {
          "output_type": "stream",
          "text": [
            "INFO:tensorflow:Saving checkpoints for 46875 into OUTPUT_DIR_NAME/model.ckpt.\n"
          ],
          "name": "stderr"
        },
        {
          "output_type": "stream",
          "text": [
            "INFO:tensorflow:Loss for final step: 1.7953342.\n"
          ],
          "name": "stdout"
        },
        {
          "output_type": "stream",
          "text": [
            "INFO:tensorflow:Loss for final step: 1.7953342.\n"
          ],
          "name": "stderr"
        },
        {
          "output_type": "stream",
          "text": [
            "Training took time  6:48:34.661615\n"
          ],
          "name": "stdout"
        }
      ]
    },
    {
      "cell_type": "code",
      "metadata": {
        "id": "J5Ba2nx4bRwi",
        "colab_type": "code",
        "colab": {}
      },
      "source": [
        "test_input_fn = run_classifier.input_fn_builder(\n",
        "    features=test_features,\n",
        "    seq_length=MAX_SEQ_LENGTH,\n",
        "    is_training=False,\n",
        "    drop_remainder=False)"
      ],
      "execution_count": 0,
      "outputs": []
    },
    {
      "cell_type": "code",
      "metadata": {
        "id": "ApDiQ-N6RVGl",
        "colab_type": "code",
        "outputId": "b88c772c-975e-4a14-9f3a-4532188a3d57",
        "colab": {
          "base_uri": "https://localhost:8080/",
          "height": 1000
        }
      },
      "source": [
        "estimator.evaluate(input_fn = test_input_fn,steps = None)"
      ],
      "execution_count": 0,
      "outputs": [
        {
          "output_type": "stream",
          "text": [
            "INFO:tensorflow:Calling model_fn.\n"
          ],
          "name": "stdout"
        },
        {
          "output_type": "stream",
          "text": [
            "INFO:tensorflow:Calling model_fn.\n"
          ],
          "name": "stderr"
        },
        {
          "output_type": "stream",
          "text": [
            "INFO:tensorflow:Saver not created because there are no variables in the graph to restore\n"
          ],
          "name": "stdout"
        },
        {
          "output_type": "stream",
          "text": [
            "INFO:tensorflow:Saver not created because there are no variables in the graph to restore\n",
            "/tensorflow-1.15.2/python3.6/tensorflow_core/python/framework/indexed_slices.py:424: UserWarning: Converting sparse IndexedSlices to a dense Tensor of unknown shape. This may consume a large amount of memory.\n",
            "  \"Converting sparse IndexedSlices to a dense Tensor of unknown shape. \"\n"
          ],
          "name": "stderr"
        },
        {
          "output_type": "stream",
          "text": [
            "INFO:tensorflow:Done calling model_fn.\n"
          ],
          "name": "stdout"
        },
        {
          "output_type": "stream",
          "text": [
            "INFO:tensorflow:Done calling model_fn.\n"
          ],
          "name": "stderr"
        },
        {
          "output_type": "stream",
          "text": [
            "INFO:tensorflow:Starting evaluation at 2020-04-06T16:15:42Z\n"
          ],
          "name": "stdout"
        },
        {
          "output_type": "stream",
          "text": [
            "INFO:tensorflow:Starting evaluation at 2020-04-06T16:15:42Z\n"
          ],
          "name": "stderr"
        },
        {
          "output_type": "stream",
          "text": [
            "INFO:tensorflow:Graph was finalized.\n"
          ],
          "name": "stdout"
        },
        {
          "output_type": "stream",
          "text": [
            "INFO:tensorflow:Graph was finalized.\n"
          ],
          "name": "stderr"
        },
        {
          "output_type": "stream",
          "text": [
            "INFO:tensorflow:Restoring parameters from OUTPUT_DIR_NAME/model.ckpt-46875\n"
          ],
          "name": "stdout"
        },
        {
          "output_type": "stream",
          "text": [
            "INFO:tensorflow:Restoring parameters from OUTPUT_DIR_NAME/model.ckpt-46875\n"
          ],
          "name": "stderr"
        },
        {
          "output_type": "stream",
          "text": [
            "INFO:tensorflow:Running local_init_op.\n"
          ],
          "name": "stdout"
        },
        {
          "output_type": "stream",
          "text": [
            "INFO:tensorflow:Running local_init_op.\n"
          ],
          "name": "stderr"
        },
        {
          "output_type": "stream",
          "text": [
            "INFO:tensorflow:Done running local_init_op.\n"
          ],
          "name": "stdout"
        },
        {
          "output_type": "stream",
          "text": [
            "INFO:tensorflow:Done running local_init_op.\n"
          ],
          "name": "stderr"
        },
        {
          "output_type": "error",
          "ename": "InvalidArgumentError",
          "evalue": "ignored",
          "traceback": [
            "\u001b[0;31m---------------------------------------------------------------------------\u001b[0m",
            "\u001b[0;31mInvalidArgumentError\u001b[0m                      Traceback (most recent call last)",
            "\u001b[0;32m/tensorflow-1.15.2/python3.6/tensorflow_core/python/client/session.py\u001b[0m in \u001b[0;36m_do_call\u001b[0;34m(self, fn, *args)\u001b[0m\n\u001b[1;32m   1364\u001b[0m     \u001b[0;32mtry\u001b[0m\u001b[0;34m:\u001b[0m\u001b[0;34m\u001b[0m\u001b[0;34m\u001b[0m\u001b[0m\n\u001b[0;32m-> 1365\u001b[0;31m       \u001b[0;32mreturn\u001b[0m \u001b[0mfn\u001b[0m\u001b[0;34m(\u001b[0m\u001b[0;34m*\u001b[0m\u001b[0margs\u001b[0m\u001b[0;34m)\u001b[0m\u001b[0;34m\u001b[0m\u001b[0;34m\u001b[0m\u001b[0m\n\u001b[0m\u001b[1;32m   1366\u001b[0m     \u001b[0;32mexcept\u001b[0m \u001b[0merrors\u001b[0m\u001b[0;34m.\u001b[0m\u001b[0mOpError\u001b[0m \u001b[0;32mas\u001b[0m \u001b[0me\u001b[0m\u001b[0;34m:\u001b[0m\u001b[0;34m\u001b[0m\u001b[0;34m\u001b[0m\u001b[0m\n",
            "\u001b[0;32m/tensorflow-1.15.2/python3.6/tensorflow_core/python/client/session.py\u001b[0m in \u001b[0;36m_run_fn\u001b[0;34m(feed_dict, fetch_list, target_list, options, run_metadata)\u001b[0m\n\u001b[1;32m   1349\u001b[0m       return self._call_tf_sessionrun(options, feed_dict, fetch_list,\n\u001b[0;32m-> 1350\u001b[0;31m                                       target_list, run_metadata)\n\u001b[0m\u001b[1;32m   1351\u001b[0m \u001b[0;34m\u001b[0m\u001b[0m\n",
            "\u001b[0;32m/tensorflow-1.15.2/python3.6/tensorflow_core/python/client/session.py\u001b[0m in \u001b[0;36m_call_tf_sessionrun\u001b[0;34m(self, options, feed_dict, fetch_list, target_list, run_metadata)\u001b[0m\n\u001b[1;32m   1442\u001b[0m                                             \u001b[0mfetch_list\u001b[0m\u001b[0;34m,\u001b[0m \u001b[0mtarget_list\u001b[0m\u001b[0;34m,\u001b[0m\u001b[0;34m\u001b[0m\u001b[0;34m\u001b[0m\u001b[0m\n\u001b[0;32m-> 1443\u001b[0;31m                                             run_metadata)\n\u001b[0m\u001b[1;32m   1444\u001b[0m \u001b[0;34m\u001b[0m\u001b[0m\n",
            "\u001b[0;31mInvalidArgumentError\u001b[0m: assertion failed: [predictions must be in [0, 1]] [Condition x <= y did not hold element-wise:] [x (loss/Squeeze:0) = ] [0 10 11...] [y (auc/Cast_1:0) = ] [1]\n\t [[{{node auc/assert_less_equal/Assert/Assert}}]]",
            "\nDuring handling of the above exception, another exception occurred:\n",
            "\u001b[0;31mInvalidArgumentError\u001b[0m                      Traceback (most recent call last)",
            "\u001b[0;32m<ipython-input-29-1528f032e20a>\u001b[0m in \u001b[0;36m<module>\u001b[0;34m()\u001b[0m\n\u001b[0;32m----> 1\u001b[0;31m \u001b[0mestimator\u001b[0m\u001b[0;34m.\u001b[0m\u001b[0mevaluate\u001b[0m\u001b[0;34m(\u001b[0m\u001b[0minput_fn\u001b[0m \u001b[0;34m=\u001b[0m \u001b[0mtest_input_fn\u001b[0m\u001b[0;34m,\u001b[0m\u001b[0msteps\u001b[0m \u001b[0;34m=\u001b[0m \u001b[0;32mNone\u001b[0m\u001b[0;34m)\u001b[0m\u001b[0;34m\u001b[0m\u001b[0;34m\u001b[0m\u001b[0m\n\u001b[0m",
            "\u001b[0;32m/tensorflow-1.15.2/python3.6/tensorflow_estimator/python/estimator/estimator.py\u001b[0m in \u001b[0;36mevaluate\u001b[0;34m(self, input_fn, steps, hooks, checkpoint_path, name)\u001b[0m\n\u001b[1;32m    478\u001b[0m           \u001b[0mhooks\u001b[0m\u001b[0;34m=\u001b[0m\u001b[0mhooks\u001b[0m\u001b[0;34m,\u001b[0m\u001b[0;34m\u001b[0m\u001b[0;34m\u001b[0m\u001b[0m\n\u001b[1;32m    479\u001b[0m           \u001b[0mcheckpoint_path\u001b[0m\u001b[0;34m=\u001b[0m\u001b[0mcheckpoint_path\u001b[0m\u001b[0;34m,\u001b[0m\u001b[0;34m\u001b[0m\u001b[0;34m\u001b[0m\u001b[0m\n\u001b[0;32m--> 480\u001b[0;31m           name=name)\n\u001b[0m\u001b[1;32m    481\u001b[0m \u001b[0;34m\u001b[0m\u001b[0m\n\u001b[1;32m    482\u001b[0m   def _actual_eval(self,\n",
            "\u001b[0;32m/tensorflow-1.15.2/python3.6/tensorflow_estimator/python/estimator/estimator.py\u001b[0m in \u001b[0;36m_actual_eval\u001b[0;34m(self, input_fn, strategy, steps, hooks, checkpoint_path, name)\u001b[0m\n\u001b[1;32m    520\u001b[0m             \u001b[0;32mreturn\u001b[0m \u001b[0m_evaluate\u001b[0m\u001b[0;34m(\u001b[0m\u001b[0;34m)\u001b[0m\u001b[0;34m\u001b[0m\u001b[0;34m\u001b[0m\u001b[0m\n\u001b[1;32m    521\u001b[0m         \u001b[0;32melse\u001b[0m\u001b[0;34m:\u001b[0m\u001b[0;34m\u001b[0m\u001b[0;34m\u001b[0m\u001b[0m\n\u001b[0;32m--> 522\u001b[0;31m           \u001b[0;32mreturn\u001b[0m \u001b[0m_evaluate\u001b[0m\u001b[0;34m(\u001b[0m\u001b[0;34m)\u001b[0m\u001b[0;34m\u001b[0m\u001b[0;34m\u001b[0m\u001b[0m\n\u001b[0m\u001b[1;32m    523\u001b[0m \u001b[0;34m\u001b[0m\u001b[0m\n\u001b[1;32m    524\u001b[0m   \u001b[0;32mdef\u001b[0m \u001b[0m_convert_eval_steps_to_hooks\u001b[0m\u001b[0;34m(\u001b[0m\u001b[0mself\u001b[0m\u001b[0;34m,\u001b[0m \u001b[0msteps\u001b[0m\u001b[0;34m)\u001b[0m\u001b[0;34m:\u001b[0m\u001b[0;34m\u001b[0m\u001b[0;34m\u001b[0m\u001b[0m\n",
            "\u001b[0;32m/tensorflow-1.15.2/python3.6/tensorflow_estimator/python/estimator/estimator.py\u001b[0m in \u001b[0;36m_evaluate\u001b[0;34m()\u001b[0m\n\u001b[1;32m    509\u001b[0m             \u001b[0meval_dict\u001b[0m\u001b[0;34m=\u001b[0m\u001b[0meval_dict\u001b[0m\u001b[0;34m,\u001b[0m\u001b[0;34m\u001b[0m\u001b[0;34m\u001b[0m\u001b[0m\n\u001b[1;32m    510\u001b[0m             \u001b[0mall_hooks\u001b[0m\u001b[0;34m=\u001b[0m\u001b[0mall_hooks\u001b[0m\u001b[0;34m,\u001b[0m\u001b[0;34m\u001b[0m\u001b[0;34m\u001b[0m\u001b[0m\n\u001b[0;32m--> 511\u001b[0;31m             output_dir=self.eval_dir(name))\n\u001b[0m\u001b[1;32m    512\u001b[0m \u001b[0;34m\u001b[0m\u001b[0m\n\u001b[1;32m    513\u001b[0m       \u001b[0;32mwith\u001b[0m \u001b[0mops\u001b[0m\u001b[0;34m.\u001b[0m\u001b[0mGraph\u001b[0m\u001b[0;34m(\u001b[0m\u001b[0;34m)\u001b[0m\u001b[0;34m.\u001b[0m\u001b[0mas_default\u001b[0m\u001b[0;34m(\u001b[0m\u001b[0;34m)\u001b[0m\u001b[0;34m:\u001b[0m\u001b[0;34m\u001b[0m\u001b[0;34m\u001b[0m\u001b[0m\n",
            "\u001b[0;32m/tensorflow-1.15.2/python3.6/tensorflow_estimator/python/estimator/estimator.py\u001b[0m in \u001b[0;36m_evaluate_run\u001b[0;34m(self, checkpoint_path, scaffold, update_op, eval_dict, all_hooks, output_dir)\u001b[0m\n\u001b[1;32m   1617\u001b[0m         \u001b[0mfinal_ops\u001b[0m\u001b[0;34m=\u001b[0m\u001b[0meval_dict\u001b[0m\u001b[0;34m,\u001b[0m\u001b[0;34m\u001b[0m\u001b[0;34m\u001b[0m\u001b[0m\n\u001b[1;32m   1618\u001b[0m         \u001b[0mhooks\u001b[0m\u001b[0;34m=\u001b[0m\u001b[0mall_hooks\u001b[0m\u001b[0;34m,\u001b[0m\u001b[0;34m\u001b[0m\u001b[0;34m\u001b[0m\u001b[0m\n\u001b[0;32m-> 1619\u001b[0;31m         config=self._session_config)\n\u001b[0m\u001b[1;32m   1620\u001b[0m \u001b[0;34m\u001b[0m\u001b[0m\n\u001b[1;32m   1621\u001b[0m     \u001b[0mcurrent_global_step\u001b[0m \u001b[0;34m=\u001b[0m \u001b[0meval_results\u001b[0m\u001b[0;34m[\u001b[0m\u001b[0mops\u001b[0m\u001b[0;34m.\u001b[0m\u001b[0mGraphKeys\u001b[0m\u001b[0;34m.\u001b[0m\u001b[0mGLOBAL_STEP\u001b[0m\u001b[0;34m]\u001b[0m\u001b[0;34m\u001b[0m\u001b[0;34m\u001b[0m\u001b[0m\n",
            "\u001b[0;32m/tensorflow-1.15.2/python3.6/tensorflow_core/python/training/evaluation.py\u001b[0m in \u001b[0;36m_evaluate_once\u001b[0;34m(checkpoint_path, master, scaffold, eval_ops, feed_dict, final_ops, final_ops_feed_dict, hooks, config)\u001b[0m\n\u001b[1;32m    270\u001b[0m     \u001b[0;32mif\u001b[0m \u001b[0meval_ops\u001b[0m \u001b[0;32mis\u001b[0m \u001b[0;32mnot\u001b[0m \u001b[0;32mNone\u001b[0m\u001b[0;34m:\u001b[0m\u001b[0;34m\u001b[0m\u001b[0;34m\u001b[0m\u001b[0m\n\u001b[1;32m    271\u001b[0m       \u001b[0;32mwhile\u001b[0m \u001b[0;32mnot\u001b[0m \u001b[0msession\u001b[0m\u001b[0;34m.\u001b[0m\u001b[0mshould_stop\u001b[0m\u001b[0;34m(\u001b[0m\u001b[0;34m)\u001b[0m\u001b[0;34m:\u001b[0m\u001b[0;34m\u001b[0m\u001b[0;34m\u001b[0m\u001b[0m\n\u001b[0;32m--> 272\u001b[0;31m         \u001b[0msession\u001b[0m\u001b[0;34m.\u001b[0m\u001b[0mrun\u001b[0m\u001b[0;34m(\u001b[0m\u001b[0meval_ops\u001b[0m\u001b[0;34m,\u001b[0m \u001b[0mfeed_dict\u001b[0m\u001b[0;34m)\u001b[0m\u001b[0;34m\u001b[0m\u001b[0;34m\u001b[0m\u001b[0m\n\u001b[0m\u001b[1;32m    273\u001b[0m \u001b[0;34m\u001b[0m\u001b[0m\n\u001b[1;32m    274\u001b[0m   logging.info('Finished evaluation at ' +\n",
            "\u001b[0;32m/tensorflow-1.15.2/python3.6/tensorflow_core/python/training/monitored_session.py\u001b[0m in \u001b[0;36mrun\u001b[0;34m(self, fetches, feed_dict, options, run_metadata)\u001b[0m\n\u001b[1;32m    752\u001b[0m         \u001b[0mfeed_dict\u001b[0m\u001b[0;34m=\u001b[0m\u001b[0mfeed_dict\u001b[0m\u001b[0;34m,\u001b[0m\u001b[0;34m\u001b[0m\u001b[0;34m\u001b[0m\u001b[0m\n\u001b[1;32m    753\u001b[0m         \u001b[0moptions\u001b[0m\u001b[0;34m=\u001b[0m\u001b[0moptions\u001b[0m\u001b[0;34m,\u001b[0m\u001b[0;34m\u001b[0m\u001b[0;34m\u001b[0m\u001b[0m\n\u001b[0;32m--> 754\u001b[0;31m         run_metadata=run_metadata)\n\u001b[0m\u001b[1;32m    755\u001b[0m \u001b[0;34m\u001b[0m\u001b[0m\n\u001b[1;32m    756\u001b[0m   \u001b[0;32mdef\u001b[0m \u001b[0mrun_step_fn\u001b[0m\u001b[0;34m(\u001b[0m\u001b[0mself\u001b[0m\u001b[0;34m,\u001b[0m \u001b[0mstep_fn\u001b[0m\u001b[0;34m)\u001b[0m\u001b[0;34m:\u001b[0m\u001b[0;34m\u001b[0m\u001b[0;34m\u001b[0m\u001b[0m\n",
            "\u001b[0;32m/tensorflow-1.15.2/python3.6/tensorflow_core/python/training/monitored_session.py\u001b[0m in \u001b[0;36mrun\u001b[0;34m(self, fetches, feed_dict, options, run_metadata)\u001b[0m\n\u001b[1;32m   1257\u001b[0m             \u001b[0mfeed_dict\u001b[0m\u001b[0;34m=\u001b[0m\u001b[0mfeed_dict\u001b[0m\u001b[0;34m,\u001b[0m\u001b[0;34m\u001b[0m\u001b[0;34m\u001b[0m\u001b[0m\n\u001b[1;32m   1258\u001b[0m             \u001b[0moptions\u001b[0m\u001b[0;34m=\u001b[0m\u001b[0moptions\u001b[0m\u001b[0;34m,\u001b[0m\u001b[0;34m\u001b[0m\u001b[0;34m\u001b[0m\u001b[0m\n\u001b[0;32m-> 1259\u001b[0;31m             run_metadata=run_metadata)\n\u001b[0m\u001b[1;32m   1260\u001b[0m       \u001b[0;32mexcept\u001b[0m \u001b[0m_PREEMPTION_ERRORS\u001b[0m \u001b[0;32mas\u001b[0m \u001b[0me\u001b[0m\u001b[0;34m:\u001b[0m\u001b[0;34m\u001b[0m\u001b[0;34m\u001b[0m\u001b[0m\n\u001b[1;32m   1261\u001b[0m         logging.info(\n",
            "\u001b[0;32m/tensorflow-1.15.2/python3.6/tensorflow_core/python/training/monitored_session.py\u001b[0m in \u001b[0;36mrun\u001b[0;34m(self, *args, **kwargs)\u001b[0m\n\u001b[1;32m   1358\u001b[0m         \u001b[0;32mraise\u001b[0m \u001b[0msix\u001b[0m\u001b[0;34m.\u001b[0m\u001b[0mreraise\u001b[0m\u001b[0;34m(\u001b[0m\u001b[0;34m*\u001b[0m\u001b[0moriginal_exc_info\u001b[0m\u001b[0;34m)\u001b[0m\u001b[0;34m\u001b[0m\u001b[0;34m\u001b[0m\u001b[0m\n\u001b[1;32m   1359\u001b[0m       \u001b[0;32melse\u001b[0m\u001b[0;34m:\u001b[0m\u001b[0;34m\u001b[0m\u001b[0;34m\u001b[0m\u001b[0m\n\u001b[0;32m-> 1360\u001b[0;31m         \u001b[0;32mraise\u001b[0m \u001b[0msix\u001b[0m\u001b[0;34m.\u001b[0m\u001b[0mreraise\u001b[0m\u001b[0;34m(\u001b[0m\u001b[0;34m*\u001b[0m\u001b[0moriginal_exc_info\u001b[0m\u001b[0;34m)\u001b[0m\u001b[0;34m\u001b[0m\u001b[0;34m\u001b[0m\u001b[0m\n\u001b[0m\u001b[1;32m   1361\u001b[0m \u001b[0;34m\u001b[0m\u001b[0m\n\u001b[1;32m   1362\u001b[0m \u001b[0;34m\u001b[0m\u001b[0m\n",
            "\u001b[0;32m/usr/local/lib/python3.6/dist-packages/six.py\u001b[0m in \u001b[0;36mreraise\u001b[0;34m(tp, value, tb)\u001b[0m\n\u001b[1;32m    691\u001b[0m             \u001b[0;32mif\u001b[0m \u001b[0mvalue\u001b[0m\u001b[0;34m.\u001b[0m\u001b[0m__traceback__\u001b[0m \u001b[0;32mis\u001b[0m \u001b[0;32mnot\u001b[0m \u001b[0mtb\u001b[0m\u001b[0;34m:\u001b[0m\u001b[0;34m\u001b[0m\u001b[0;34m\u001b[0m\u001b[0m\n\u001b[1;32m    692\u001b[0m                 \u001b[0;32mraise\u001b[0m \u001b[0mvalue\u001b[0m\u001b[0;34m.\u001b[0m\u001b[0mwith_traceback\u001b[0m\u001b[0;34m(\u001b[0m\u001b[0mtb\u001b[0m\u001b[0;34m)\u001b[0m\u001b[0;34m\u001b[0m\u001b[0;34m\u001b[0m\u001b[0m\n\u001b[0;32m--> 693\u001b[0;31m             \u001b[0;32mraise\u001b[0m \u001b[0mvalue\u001b[0m\u001b[0;34m\u001b[0m\u001b[0;34m\u001b[0m\u001b[0m\n\u001b[0m\u001b[1;32m    694\u001b[0m         \u001b[0;32mfinally\u001b[0m\u001b[0;34m:\u001b[0m\u001b[0;34m\u001b[0m\u001b[0;34m\u001b[0m\u001b[0m\n\u001b[1;32m    695\u001b[0m             \u001b[0mvalue\u001b[0m \u001b[0;34m=\u001b[0m \u001b[0;32mNone\u001b[0m\u001b[0;34m\u001b[0m\u001b[0;34m\u001b[0m\u001b[0m\n",
            "\u001b[0;32m/tensorflow-1.15.2/python3.6/tensorflow_core/python/training/monitored_session.py\u001b[0m in \u001b[0;36mrun\u001b[0;34m(self, *args, **kwargs)\u001b[0m\n\u001b[1;32m   1343\u001b[0m   \u001b[0;32mdef\u001b[0m \u001b[0mrun\u001b[0m\u001b[0;34m(\u001b[0m\u001b[0mself\u001b[0m\u001b[0;34m,\u001b[0m \u001b[0;34m*\u001b[0m\u001b[0margs\u001b[0m\u001b[0;34m,\u001b[0m \u001b[0;34m**\u001b[0m\u001b[0mkwargs\u001b[0m\u001b[0;34m)\u001b[0m\u001b[0;34m:\u001b[0m\u001b[0;34m\u001b[0m\u001b[0;34m\u001b[0m\u001b[0m\n\u001b[1;32m   1344\u001b[0m     \u001b[0;32mtry\u001b[0m\u001b[0;34m:\u001b[0m\u001b[0;34m\u001b[0m\u001b[0;34m\u001b[0m\u001b[0m\n\u001b[0;32m-> 1345\u001b[0;31m       \u001b[0;32mreturn\u001b[0m \u001b[0mself\u001b[0m\u001b[0;34m.\u001b[0m\u001b[0m_sess\u001b[0m\u001b[0;34m.\u001b[0m\u001b[0mrun\u001b[0m\u001b[0;34m(\u001b[0m\u001b[0;34m*\u001b[0m\u001b[0margs\u001b[0m\u001b[0;34m,\u001b[0m \u001b[0;34m**\u001b[0m\u001b[0mkwargs\u001b[0m\u001b[0;34m)\u001b[0m\u001b[0;34m\u001b[0m\u001b[0;34m\u001b[0m\u001b[0m\n\u001b[0m\u001b[1;32m   1346\u001b[0m     \u001b[0;32mexcept\u001b[0m \u001b[0m_PREEMPTION_ERRORS\u001b[0m\u001b[0;34m:\u001b[0m\u001b[0;34m\u001b[0m\u001b[0;34m\u001b[0m\u001b[0m\n\u001b[1;32m   1347\u001b[0m       \u001b[0;32mraise\u001b[0m\u001b[0;34m\u001b[0m\u001b[0;34m\u001b[0m\u001b[0m\n",
            "\u001b[0;32m/tensorflow-1.15.2/python3.6/tensorflow_core/python/training/monitored_session.py\u001b[0m in \u001b[0;36mrun\u001b[0;34m(self, fetches, feed_dict, options, run_metadata)\u001b[0m\n\u001b[1;32m   1416\u001b[0m         \u001b[0mfeed_dict\u001b[0m\u001b[0;34m=\u001b[0m\u001b[0mfeed_dict\u001b[0m\u001b[0;34m,\u001b[0m\u001b[0;34m\u001b[0m\u001b[0;34m\u001b[0m\u001b[0m\n\u001b[1;32m   1417\u001b[0m         \u001b[0moptions\u001b[0m\u001b[0;34m=\u001b[0m\u001b[0moptions\u001b[0m\u001b[0;34m,\u001b[0m\u001b[0;34m\u001b[0m\u001b[0;34m\u001b[0m\u001b[0m\n\u001b[0;32m-> 1418\u001b[0;31m         run_metadata=run_metadata)\n\u001b[0m\u001b[1;32m   1419\u001b[0m \u001b[0;34m\u001b[0m\u001b[0m\n\u001b[1;32m   1420\u001b[0m     \u001b[0;32mfor\u001b[0m \u001b[0mhook\u001b[0m \u001b[0;32min\u001b[0m \u001b[0mself\u001b[0m\u001b[0;34m.\u001b[0m\u001b[0m_hooks\u001b[0m\u001b[0;34m:\u001b[0m\u001b[0;34m\u001b[0m\u001b[0;34m\u001b[0m\u001b[0m\n",
            "\u001b[0;32m/tensorflow-1.15.2/python3.6/tensorflow_core/python/training/monitored_session.py\u001b[0m in \u001b[0;36mrun\u001b[0;34m(self, *args, **kwargs)\u001b[0m\n\u001b[1;32m   1174\u001b[0m \u001b[0;34m\u001b[0m\u001b[0m\n\u001b[1;32m   1175\u001b[0m   \u001b[0;32mdef\u001b[0m \u001b[0mrun\u001b[0m\u001b[0;34m(\u001b[0m\u001b[0mself\u001b[0m\u001b[0;34m,\u001b[0m \u001b[0;34m*\u001b[0m\u001b[0margs\u001b[0m\u001b[0;34m,\u001b[0m \u001b[0;34m**\u001b[0m\u001b[0mkwargs\u001b[0m\u001b[0;34m)\u001b[0m\u001b[0;34m:\u001b[0m\u001b[0;34m\u001b[0m\u001b[0;34m\u001b[0m\u001b[0m\n\u001b[0;32m-> 1176\u001b[0;31m     \u001b[0;32mreturn\u001b[0m \u001b[0mself\u001b[0m\u001b[0;34m.\u001b[0m\u001b[0m_sess\u001b[0m\u001b[0;34m.\u001b[0m\u001b[0mrun\u001b[0m\u001b[0;34m(\u001b[0m\u001b[0;34m*\u001b[0m\u001b[0margs\u001b[0m\u001b[0;34m,\u001b[0m \u001b[0;34m**\u001b[0m\u001b[0mkwargs\u001b[0m\u001b[0;34m)\u001b[0m\u001b[0;34m\u001b[0m\u001b[0;34m\u001b[0m\u001b[0m\n\u001b[0m\u001b[1;32m   1177\u001b[0m \u001b[0;34m\u001b[0m\u001b[0m\n\u001b[1;32m   1178\u001b[0m   \u001b[0;32mdef\u001b[0m \u001b[0mrun_step_fn\u001b[0m\u001b[0;34m(\u001b[0m\u001b[0mself\u001b[0m\u001b[0;34m,\u001b[0m \u001b[0mstep_fn\u001b[0m\u001b[0;34m,\u001b[0m \u001b[0mraw_session\u001b[0m\u001b[0;34m,\u001b[0m \u001b[0mrun_with_hooks\u001b[0m\u001b[0;34m)\u001b[0m\u001b[0;34m:\u001b[0m\u001b[0;34m\u001b[0m\u001b[0;34m\u001b[0m\u001b[0m\n",
            "\u001b[0;32m/tensorflow-1.15.2/python3.6/tensorflow_core/python/client/session.py\u001b[0m in \u001b[0;36mrun\u001b[0;34m(self, fetches, feed_dict, options, run_metadata)\u001b[0m\n\u001b[1;32m    954\u001b[0m     \u001b[0;32mtry\u001b[0m\u001b[0;34m:\u001b[0m\u001b[0;34m\u001b[0m\u001b[0;34m\u001b[0m\u001b[0m\n\u001b[1;32m    955\u001b[0m       result = self._run(None, fetches, feed_dict, options_ptr,\n\u001b[0;32m--> 956\u001b[0;31m                          run_metadata_ptr)\n\u001b[0m\u001b[1;32m    957\u001b[0m       \u001b[0;32mif\u001b[0m \u001b[0mrun_metadata\u001b[0m\u001b[0;34m:\u001b[0m\u001b[0;34m\u001b[0m\u001b[0;34m\u001b[0m\u001b[0m\n\u001b[1;32m    958\u001b[0m         \u001b[0mproto_data\u001b[0m \u001b[0;34m=\u001b[0m \u001b[0mtf_session\u001b[0m\u001b[0;34m.\u001b[0m\u001b[0mTF_GetBuffer\u001b[0m\u001b[0;34m(\u001b[0m\u001b[0mrun_metadata_ptr\u001b[0m\u001b[0;34m)\u001b[0m\u001b[0;34m\u001b[0m\u001b[0;34m\u001b[0m\u001b[0m\n",
            "\u001b[0;32m/tensorflow-1.15.2/python3.6/tensorflow_core/python/client/session.py\u001b[0m in \u001b[0;36m_run\u001b[0;34m(self, handle, fetches, feed_dict, options, run_metadata)\u001b[0m\n\u001b[1;32m   1178\u001b[0m     \u001b[0;32mif\u001b[0m \u001b[0mfinal_fetches\u001b[0m \u001b[0;32mor\u001b[0m \u001b[0mfinal_targets\u001b[0m \u001b[0;32mor\u001b[0m \u001b[0;34m(\u001b[0m\u001b[0mhandle\u001b[0m \u001b[0;32mand\u001b[0m \u001b[0mfeed_dict_tensor\u001b[0m\u001b[0;34m)\u001b[0m\u001b[0;34m:\u001b[0m\u001b[0;34m\u001b[0m\u001b[0;34m\u001b[0m\u001b[0m\n\u001b[1;32m   1179\u001b[0m       results = self._do_run(handle, final_targets, final_fetches,\n\u001b[0;32m-> 1180\u001b[0;31m                              feed_dict_tensor, options, run_metadata)\n\u001b[0m\u001b[1;32m   1181\u001b[0m     \u001b[0;32melse\u001b[0m\u001b[0;34m:\u001b[0m\u001b[0;34m\u001b[0m\u001b[0;34m\u001b[0m\u001b[0m\n\u001b[1;32m   1182\u001b[0m       \u001b[0mresults\u001b[0m \u001b[0;34m=\u001b[0m \u001b[0;34m[\u001b[0m\u001b[0;34m]\u001b[0m\u001b[0;34m\u001b[0m\u001b[0;34m\u001b[0m\u001b[0m\n",
            "\u001b[0;32m/tensorflow-1.15.2/python3.6/tensorflow_core/python/client/session.py\u001b[0m in \u001b[0;36m_do_run\u001b[0;34m(self, handle, target_list, fetch_list, feed_dict, options, run_metadata)\u001b[0m\n\u001b[1;32m   1357\u001b[0m     \u001b[0;32mif\u001b[0m \u001b[0mhandle\u001b[0m \u001b[0;32mis\u001b[0m \u001b[0;32mNone\u001b[0m\u001b[0;34m:\u001b[0m\u001b[0;34m\u001b[0m\u001b[0;34m\u001b[0m\u001b[0m\n\u001b[1;32m   1358\u001b[0m       return self._do_call(_run_fn, feeds, fetches, targets, options,\n\u001b[0;32m-> 1359\u001b[0;31m                            run_metadata)\n\u001b[0m\u001b[1;32m   1360\u001b[0m     \u001b[0;32melse\u001b[0m\u001b[0;34m:\u001b[0m\u001b[0;34m\u001b[0m\u001b[0;34m\u001b[0m\u001b[0m\n\u001b[1;32m   1361\u001b[0m       \u001b[0;32mreturn\u001b[0m \u001b[0mself\u001b[0m\u001b[0;34m.\u001b[0m\u001b[0m_do_call\u001b[0m\u001b[0;34m(\u001b[0m\u001b[0m_prun_fn\u001b[0m\u001b[0;34m,\u001b[0m \u001b[0mhandle\u001b[0m\u001b[0;34m,\u001b[0m \u001b[0mfeeds\u001b[0m\u001b[0;34m,\u001b[0m \u001b[0mfetches\u001b[0m\u001b[0;34m)\u001b[0m\u001b[0;34m\u001b[0m\u001b[0;34m\u001b[0m\u001b[0m\n",
            "\u001b[0;32m/tensorflow-1.15.2/python3.6/tensorflow_core/python/client/session.py\u001b[0m in \u001b[0;36m_do_call\u001b[0;34m(self, fn, *args)\u001b[0m\n\u001b[1;32m   1382\u001b[0m                     \u001b[0;34m'\\nsession_config.graph_options.rewrite_options.'\u001b[0m\u001b[0;34m\u001b[0m\u001b[0;34m\u001b[0m\u001b[0m\n\u001b[1;32m   1383\u001b[0m                     'disable_meta_optimizer = True')\n\u001b[0;32m-> 1384\u001b[0;31m       \u001b[0;32mraise\u001b[0m \u001b[0mtype\u001b[0m\u001b[0;34m(\u001b[0m\u001b[0me\u001b[0m\u001b[0;34m)\u001b[0m\u001b[0;34m(\u001b[0m\u001b[0mnode_def\u001b[0m\u001b[0;34m,\u001b[0m \u001b[0mop\u001b[0m\u001b[0;34m,\u001b[0m \u001b[0mmessage\u001b[0m\u001b[0;34m)\u001b[0m\u001b[0;34m\u001b[0m\u001b[0;34m\u001b[0m\u001b[0m\n\u001b[0m\u001b[1;32m   1385\u001b[0m \u001b[0;34m\u001b[0m\u001b[0m\n\u001b[1;32m   1386\u001b[0m   \u001b[0;32mdef\u001b[0m \u001b[0m_extend_graph\u001b[0m\u001b[0;34m(\u001b[0m\u001b[0mself\u001b[0m\u001b[0;34m)\u001b[0m\u001b[0;34m:\u001b[0m\u001b[0;34m\u001b[0m\u001b[0;34m\u001b[0m\u001b[0m\n",
            "\u001b[0;31mInvalidArgumentError\u001b[0m: assertion failed: [predictions must be in [0, 1]] [Condition x <= y did not hold element-wise:] [x (loss/Squeeze:0) = ] [0 10 11...] [y (auc/Cast_1:0) = ] [1]\n\t [[node auc/assert_less_equal/Assert/Assert (defined at /tensorflow-1.15.2/python3.6/tensorflow_core/python/framework/ops.py:1748) ]]\n\nOriginal stack trace for 'auc/assert_less_equal/Assert/Assert':\n  File \"/usr/lib/python3.6/runpy.py\", line 193, in _run_module_as_main\n    \"__main__\", mod_spec)\n  File \"/usr/lib/python3.6/runpy.py\", line 85, in _run_code\n    exec(code, run_globals)\n  File \"/usr/local/lib/python3.6/dist-packages/ipykernel_launcher.py\", line 16, in <module>\n    app.launch_new_instance()\n  File \"/usr/local/lib/python3.6/dist-packages/traitlets/config/application.py\", line 664, in launch_instance\n    app.start()\n  File \"/usr/local/lib/python3.6/dist-packages/ipykernel/kernelapp.py\", line 477, in start\n    ioloop.IOLoop.instance().start()\n  File \"/usr/local/lib/python3.6/dist-packages/tornado/ioloop.py\", line 888, in start\n    handler_func(fd_obj, events)\n  File \"/usr/local/lib/python3.6/dist-packages/tornado/stack_context.py\", line 277, in null_wrapper\n    return fn(*args, **kwargs)\n  File \"/usr/local/lib/python3.6/dist-packages/zmq/eventloop/zmqstream.py\", line 450, in _handle_events\n    self._handle_recv()\n  File \"/usr/local/lib/python3.6/dist-packages/zmq/eventloop/zmqstream.py\", line 480, in _handle_recv\n    self._run_callback(callback, msg)\n  File \"/usr/local/lib/python3.6/dist-packages/zmq/eventloop/zmqstream.py\", line 432, in _run_callback\n    callback(*args, **kwargs)\n  File \"/usr/local/lib/python3.6/dist-packages/tornado/stack_context.py\", line 277, in null_wrapper\n    return fn(*args, **kwargs)\n  File \"/usr/local/lib/python3.6/dist-packages/ipykernel/kernelbase.py\", line 283, in dispatcher\n    return self.dispatch_shell(stream, msg)\n  File \"/usr/local/lib/python3.6/dist-packages/ipykernel/kernelbase.py\", line 235, in dispatch_shell\n    handler(stream, idents, msg)\n  File \"/usr/local/lib/python3.6/dist-packages/ipykernel/kernelbase.py\", line 399, in execute_request\n    user_expressions, allow_stdin)\n  File \"/usr/local/lib/python3.6/dist-packages/ipykernel/ipkernel.py\", line 196, in do_execute\n    res = shell.run_cell(code, store_history=store_history, silent=silent)\n  File \"/usr/local/lib/python3.6/dist-packages/ipykernel/zmqshell.py\", line 533, in run_cell\n    return super(ZMQInteractiveShell, self).run_cell(*args, **kwargs)\n  File \"/usr/local/lib/python3.6/dist-packages/IPython/core/interactiveshell.py\", line 2718, in run_cell\n    interactivity=interactivity, compiler=compiler, result=result)\n  File \"/usr/local/lib/python3.6/dist-packages/IPython/core/interactiveshell.py\", line 2828, in run_ast_nodes\n    if self.run_code(code, result):\n  File \"/usr/local/lib/python3.6/dist-packages/IPython/core/interactiveshell.py\", line 2882, in run_code\n    exec(code_obj, self.user_global_ns, self.user_ns)\n  File \"<ipython-input-29-1528f032e20a>\", line 1, in <module>\n    estimator.evaluate(input_fn = test_input_fn,steps = None)\n  File \"/tensorflow-1.15.2/python3.6/tensorflow_estimator/python/estimator/estimator.py\", line 480, in evaluate\n    name=name)\n  File \"/tensorflow-1.15.2/python3.6/tensorflow_estimator/python/estimator/estimator.py\", line 522, in _actual_eval\n    return _evaluate()\n  File \"/tensorflow-1.15.2/python3.6/tensorflow_estimator/python/estimator/estimator.py\", line 504, in _evaluate\n    self._evaluate_build_graph(input_fn, hooks, checkpoint_path))\n  File \"/tensorflow-1.15.2/python3.6/tensorflow_estimator/python/estimator/estimator.py\", line 1511, in _evaluate_build_graph\n    self._call_model_fn_eval(input_fn, self.config))\n  File \"/tensorflow-1.15.2/python3.6/tensorflow_estimator/python/estimator/estimator.py\", line 1547, in _call_model_fn_eval\n    features, labels, ModeKeys.EVAL, config)\n  File \"/tensorflow-1.15.2/python3.6/tensorflow_estimator/python/estimator/estimator.py\", line 1149, in _call_model_fn\n    model_fn_results = self._model_fn(features=features, **kwargs)\n  File \"<ipython-input-17-119a3167bf33>\", line 62, in model_fn\n    eval_metrics = metric_fn(label_ids, predicted_labels)\n  File \"<ipython-input-17-119a3167bf33>\", line 31, in metric_fn\n    predicted_labels)\n  File \"/tensorflow-1.15.2/python3.6/tensorflow_core/python/ops/metrics_impl.py\", line 742, in auc\n    labels, predictions, thresholds, weights)\n  File \"/tensorflow-1.15.2/python3.6/tensorflow_core/python/ops/metrics_impl.py\", line 524, in _confusion_matrix_at_thresholds\n    message='predictions must be in [0, 1]')\n  File \"/tensorflow-1.15.2/python3.6/tensorflow_core/python/ops/check_ops.py\", line 923, in assert_less_equal\n    np.less_equal, x, y, data, summarize, message, name)\n  File \"/tensorflow-1.15.2/python3.6/tensorflow_core/python/ops/check_ops.py\", line 371, in _binary_assert\n    return control_flow_ops.Assert(condition, data, summarize=summarize)\n  File \"/tensorflow-1.15.2/python3.6/tensorflow_core/python/util/tf_should_use.py\", line 198, in wrapped\n    return _add_should_use_warning(fn(*args, **kwargs))\n  File \"/tensorflow-1.15.2/python3.6/tensorflow_core/python/ops/control_flow_ops.py\", line 165, in Assert\n    return gen_logging_ops._assert(condition, data, summarize, name=\"Assert\")\n  File \"/tensorflow-1.15.2/python3.6/tensorflow_core/python/ops/gen_logging_ops.py\", line 74, in _assert\n    name=name)\n  File \"/tensorflow-1.15.2/python3.6/tensorflow_core/python/framework/op_def_library.py\", line 794, in _apply_op_helper\n    op_def=op_def)\n  File \"/tensorflow-1.15.2/python3.6/tensorflow_core/python/util/deprecation.py\", line 507, in new_func\n    return func(*args, **kwargs)\n  File \"/tensorflow-1.15.2/python3.6/tensorflow_core/python/framework/ops.py\", line 3357, in create_op\n    attrs, op_def, compute_device)\n  File \"/tensorflow-1.15.2/python3.6/tensorflow_core/python/framework/ops.py\", line 3426, in _create_op_internal\n    op_def=op_def)\n  File \"/tensorflow-1.15.2/python3.6/tensorflow_core/python/framework/ops.py\", line 1748, in __init__\n    self._traceback = tf_stack.extract_stack()\n"
          ]
        }
      ]
    }
  ]
}